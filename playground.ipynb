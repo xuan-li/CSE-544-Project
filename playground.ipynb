{
 "cells": [
  {
   "cell_type": "code",
   "execution_count": 8,
   "metadata": {},
   "outputs": [],
   "source": [
    "import numpy as np\n",
    "import os\n",
    "import threading\n",
    "import operator\n",
    "import pickle\n",
    "import re\n",
    "import pandas as pd\n",
    "\n",
    "\n",
    "start_time = 1190146243\n",
    "end_time = 1192994591\n",
    "\n",
    "def load_data(input_name):\n",
    "    with open(input_name, 'rb') as f:\n",
    "        data = pickle.load(f)\n",
    "    return data\n",
    "\n",
    "\n",
    "\n",
    "import mwclient\n",
    "from itertools import islice\n",
    "import calendar\n",
    "from urllib.parse import unquote\n",
    "from urllib.parse import quote\n",
    "import time\n",
    "\n",
    "site = mwclient.Site('en.wikipedia.org')\n",
    "\n",
    "def get_page(title):\n",
    "    page = site.pages[unquote(unquote(title))]\n",
    "    return page"
   ]
  },
  {
   "cell_type": "code",
   "execution_count": 11,
   "metadata": {},
   "outputs": [],
   "source": [
    "page = site.pages[\"World War II\"]"
   ]
  },
  {
   "cell_type": "code",
   "execution_count": 22,
   "metadata": {},
   "outputs": [
    {
     "data": {
      "text/plain": [
       "['File:8th AF Bombing Marienburg.JPEG',\n",
       " 'File:9 Div Tobruk(AWM 020779).jpg',\n",
       " 'File:Approaching Omaha.jpg',\n",
       " 'File:Battle of Lake Khasan-Red Army gunners in the interval.jpg',\n",
       " 'File:Bluetank.png',\n",
       " 'File:Boeing-Whichata B-29 Assembly Line - 1944.jpg',\n",
       " 'File:Bundesarchiv Bild 101I-031-2436-03A, Russland, Hinrichtung von Partisanen retouched.jpg',\n",
       " 'File:Bundesarchiv Bild 102-09042, Genf, Völkerbund, Sitzungssaal.jpg',\n",
       " 'File:Bundesarchiv Bild 141-1880, Peenemünde, Start einer V2.jpg',\n",
       " 'File:Bundesarchiv Bild 146-1976-071-36, Polen, an der Brahe, deutsche Panzer.jpg',\n",
       " 'File:Bundesarchiv Bild 183-97906, Warschauer Aufstand, Straßenkampf.jpg',\n",
       " 'File:Bundesarchiv Bild 183-H25224, Guernica, Ruinen.jpg',\n",
       " 'File:Bundesarchiv Bild 183-H27337, Moskau, Stalin und Ribbentrop im Kreml.jpg',\n",
       " 'File:Bundesarchiv Bild 183-R69173, Münchener Abkommen, Staatschefs.jpg',\n",
       " 'File:Cairo conference.jpg',\n",
       " 'File:Carrier shokaku.jpg',\n",
       " 'File:Casablanca-Conference.jpg',\n",
       " 'File:Chinese civilians to be buried alive.jpg',\n",
       " 'File:Commons-logo.svg',\n",
       " 'File:Czeslawa Kwoka - Brasse.jpg',\n",
       " 'File:Declaration of State of Israel 1948.jpg',\n",
       " 'File:Destroyed Warsaw, capital of Poland, January 1945.jpg',\n",
       " 'File:Douglas MacArthur lands Leyte1.jpg',\n",
       " 'File:E 003743 E.jpg',\n",
       " 'File:EasternBloc BorderChange38-48.svg',\n",
       " 'File:Flag of German Reich (1935–1945).svg',\n",
       " 'File:Flag of Italy (1861-1946) crowned.svg',\n",
       " 'File:Flag of Japan (1870–1999).svg',\n",
       " 'File:Flag of the German Reich (1935–1945).svg',\n",
       " 'File:Flag of the Republic of China.svg',\n",
       " 'File:Flag of the Soviet Union (1936-1955).svg',\n",
       " 'File:Flag of the United Kingdom.svg',\n",
       " 'File:Flag of the United States (1912-1959).svg',\n",
       " 'File:German troops in Russia, 1941 - NARA - 540155.jpg',\n",
       " 'File:Germans at Polish Border (1939-09-01).jpg',\n",
       " 'File:Heinkel He 111 during the Battle of Britain.jpg',\n",
       " 'File:Infobox collage for WWII.PNG',\n",
       " 'File:Kursk Soviet machineguns.JPG',\n",
       " 'File:Maginot Line ln-en svg.svg',\n",
       " 'File:Marines rest in the field on Guadalcanal.jpg',\n",
       " 'File:Merchant flag of Japan (1870).svg',\n",
       " 'File:Mussolini truppe Etiopia.jpg',\n",
       " 'File:Nürnberg Reichsparteitag Hitler retouched.jpg',\n",
       " 'File:Office-book.svg',\n",
       " 'File:P history.svg',\n",
       " 'File:Padlock-silver.svg',\n",
       " 'File:Palmiry before execution.jpg',\n",
       " 'File:RIAN archive 2153 After bombing.jpg',\n",
       " 'File:RIAN archive 44732 Soviet soldiers attack house.jpg',\n",
       " 'File:Ruins of the Reichstag in Berlin, 3 June 1945. BU8573.jpg',\n",
       " 'File:SBD VB-16 over USS Washington 1943.jpg',\n",
       " 'File:Second world war asia 1937-1942 map en6.png',\n",
       " 'File:Second world war europe animation large de.gif',\n",
       " 'File:Shanghai1937IJA ruins.jpg',\n",
       " 'File:Shigemitsu-signs-surrender.jpg',\n",
       " 'File:Spotkanie Sojuszników.jpg',\n",
       " 'File:Symbol support vote.svg',\n",
       " 'File:The Battle of Cassino, January-may 1944 C4363.jpg',\n",
       " 'File:The Liberation of Bergen-belsen Concentration Camp, April 1945 BU4031.jpg',\n",
       " 'File:The USS Arizona (BB-39) burning after the Japanese attack on Pearl Harbor - NARA 195617 - Edit.jpg',\n",
       " 'File:Trinity device readied.jpg',\n",
       " \"File:View from St Paul's Cathedral after the Blitz.jpg\",\n",
       " 'File:Wikibooks-logo.svg',\n",
       " 'File:Wikidata-logo.svg',\n",
       " 'File:Wikinews-logo.svg',\n",
       " 'File:Wikiquote-logo.svg',\n",
       " 'File:Wikisource-logo.svg',\n",
       " 'File:Wikiversity-logo.svg',\n",
       " 'File:Wiktionary-logo-v2.svg',\n",
       " 'File:WorldWarII-GDP-Relations-Allies-Axis-simple.svg',\n",
       " 'File:World War II Casualties2.svg',\n",
       " 'File:Ww2 170.jpg',\n",
       " 'File:Yalta Conference (Churchill, Roosevelt, Stalin) (B&W).jpg']"
      ]
     },
     "execution_count": 22,
     "metadata": {},
     "output_type": "execute_result"
    }
   ],
   "source": [
    "list(page.images(generator=False))"
   ]
  },
  {
   "cell_type": "code",
   "execution_count": 23,
   "metadata": {},
   "outputs": [],
   "source": [
    "df = load_data(\"data/dump/revision_records.pkl\")"
   ]
  },
  {
   "cell_type": "code",
   "execution_count": 30,
   "metadata": {},
   "outputs": [
    {
     "name": "stdout",
     "output_type": "stream",
     "text": [
      "Music_of_the_United_States\n",
      "Uncle_Kracker\n",
      "Faisal_I_of_Iraq\n",
      "Carcass_(band)\n",
      "Teddy_Boy\n",
      "Anterior_cruciate_ligament\n",
      "Yanomami\n",
      "Tyranny_of_the_majority\n",
      "Kathleen_Hanna\n",
      "Encino_Man\n"
     ]
    }
   ],
   "source": [
    "i = 0\n",
    "for word in (set(df.index.get_level_values(0))):\n",
    "    if i == 10:\n",
    "        break\n",
    "    i += 1\n",
    "    print(word)"
   ]
  },
  {
   "cell_type": "code",
   "execution_count": null,
   "metadata": {},
   "outputs": [],
   "source": []
  }
 ],
 "metadata": {
  "kernelspec": {
   "display_name": "Python 3",
   "language": "python",
   "name": "python3"
  },
  "language_info": {
   "codemirror_mode": {
    "name": "ipython",
    "version": 3
   },
   "file_extension": ".py",
   "mimetype": "text/x-python",
   "name": "python",
   "nbconvert_exporter": "python",
   "pygments_lexer": "ipython3",
   "version": "3.5.2"
  }
 },
 "nbformat": 4,
 "nbformat_minor": 2
}
