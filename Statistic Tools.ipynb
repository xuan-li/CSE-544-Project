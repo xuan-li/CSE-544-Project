{
 "cells": [
  {
   "cell_type": "markdown",
   "metadata": {},
   "source": [
    "# Confidence Interval\n"
   ]
  },
  {
   "cell_type": "code",
   "execution_count": 56,
   "metadata": {},
   "outputs": [],
   "source": [
    "import numpy as np\n",
    "import scipy.stats as ss\n",
    "\n",
    "\n",
    "def interval_of_mean(series, alpha):\n",
    "    x = np.array(series)\n",
    "    # https://books.google.com/books?id=ZBi1DAAAQBAJ&pg=PA111&lpg=PA111&dq=python+t_%7Bn-1%7D,%5Calpha/2&source=bl&ots=48wZ7PQS7K&sig=rH-nPDg3iKiaB7RKGGMvuAu31H8&hl=en&sa=X&ved=0ahUKEwj4iKrwpNTaAhUlheAKHcz5AS8Q6AEIQDAC#v=onepage&q=python%20t_%7Bn-1%7D%2C%5Calpha%2F2&f=false\n",
    "    return ss.norm.interval(alpha, loc = np.mean(x), scale = ss.sem(x))\n"
   ]
  },
  {
   "cell_type": "code",
   "execution_count": 57,
   "metadata": {},
   "outputs": [
    {
     "name": "stdout",
     "output_type": "stream",
     "text": [
      "(2.1644545667747015, 3.1688787665586315)\n",
      "(0.9200030012883288, 1.2466636653783378)\n"
     ]
    }
   ],
   "source": [
    "print(interval_of_mean([1,2,3,3,2,3,4,3,4,3,2,2], 0.95))\n",
    "print(interval_of_mean([1,1,1,1,1,1,1,1,1,2,1,1], 0.95))"
   ]
  },
  {
   "cell_type": "markdown",
   "metadata": {},
   "source": [
    "# Hypothesis Test\n",
    "\n",
    "### Wald-test:\n",
    "$T = \\frac{|\\bar{X} - \\bar{Y}|}{\\sqrt{\\frac{1}{n}(\\hat\\sigma^2(X) + \\hat\\sigma^2(Y))}}$\n",
    "\n",
    "### T-test:\n",
    "$T = \\frac{\\sqrt{n} |\\bar{X} - \\bar{Y}| }{\\hat s(X-Y)}$\n",
    "\n",
    "## Two-side Test\n",
    "$H_0: \\mu(X) = \\mu(Y)$\n",
    "\n",
    "$H_1: \\mu(X) \\not= \\mu(Y)$\n",
    "\n",
    "\n",
    "## One-side Test\n",
    "$H_0: \\mu(X) = \\mu(Y)$\n",
    "\n",
    "$H_1: \\mu(X) < \\mu(Y)$\n",
    "\n"
   ]
  },
  {
   "cell_type": "code",
   "execution_count": 58,
   "metadata": {},
   "outputs": [],
   "source": [
    "import numpy as np\n",
    "import scipy.stats as ss\n",
    "\n",
    "def wald_test(X, Y, one_side = False):\n",
    "    '''\n",
    "    X: array-like\n",
    "    Y: array-like\n",
    "    X and Y should be in the same length\n",
    "    return: p-value\n",
    "    '''\n",
    "    x = np.array(X)\n",
    "    y = np.array(Y)\n",
    "    n = X.shape[0]\n",
    "    T = np.abs(np.mean(x) - np.mean(y)) / np.sqrt((x.var() + x.var())/n)\n",
    "    p = ss.norm.cdf(-T, 0, 1)\n",
    "    if not one_side:\n",
    "        p *= 2\n",
    "    return p\n",
    "\n",
    "def t_test(X, Y,one_side = False):\n",
    "    '''\n",
    "    X: array-like\n",
    "    Y: array-like\n",
    "    X and Y should be in the same length\n",
    "    return: p-value\n",
    "    '''\n",
    "    x = np.array(X)\n",
    "    y = np.array(Y)\n",
    "    D = x - y\n",
    "    T = np.mean(np.abs(D)) * np.sqrt(n) / D.std()\n",
    "    df = n-1\n",
    "    p = ss.t.cdf(-T, df)\n",
    "    if not one_side:\n",
    "        p *= 2\n",
    "    return p"
   ]
  },
  {
   "cell_type": "markdown",
   "metadata": {},
   "source": [
    "# Normal Test"
   ]
  },
  {
   "cell_type": "code",
   "execution_count": 59,
   "metadata": {},
   "outputs": [],
   "source": [
    "import matplotlib.pyplot as plt\n",
    "def normal_test(data, title = None, xlabel = None, ylabel = None):\n",
    "    # find the range of data\n",
    "    data = np.array(data)\n",
    "    \n",
    "    x_min = data.min()\n",
    "    x_max = data.max()\n",
    "\n",
    "    # sort data\n",
    "    data = np.sort(data)\n",
    "\n",
    "    # compute accumulate probabilities:\n",
    "    cumulative_probs = [(i) / data.size for i in range(data.size)]\n",
    "\n",
    "    # since \\bar{F_n} is a step function, we use plt.step to draw it:\n",
    "    # And we need to add boundary value 0 and 1 to accumulate_probs\n",
    "    cumulative_probs = np.insert(cumulative_probs, 0, 0)\n",
    "    cumulative_probs = np.append(cumulative_probs, 1)\n",
    "    x = np.insert(data, 0,x_min-1)\n",
    "    x = np.append(x, x_max+1)\n",
    "    \n",
    "    mu = data.mean()\n",
    "    sigma = data.std()\n",
    "    normal_x = np.linspace(x_min, x_max, 5000)\n",
    "    normal_y = ss.norm.cdf(normal_x, mu, sigma) \n",
    "    \n",
    "    data_to_normal =  ss.norm.cdf(data)[0]\n",
    "\n",
    "    right_diff = abs(data_to_normal - cumulative_probs[1:-1])\n",
    "    left_diff = abs(data_to_normal - cumulative_probs[0:-2])\n",
    "    KS = max(np.max(right_diff), np.max(left_diff))\n",
    "    print(\"KS statistic: {}\".format(KS))\n",
    "\n",
    "    fig = plt.figure()\n",
    "    plt.step(x, cumulative_probs)\n",
    "    plt.plot(normal_x,normal_y, '--r')\n",
    "    plt.legend([\"Empirical CDF\",\"CDF of N(\\hat{\\mu}, \\hat{\\sigma})\"])\n",
    "    if title:\n",
    "        plt.title(title)\n",
    "    if xlabel:\n",
    "        plt.xlabel(xlabel)\n",
    "    if ylabel:\n",
    "        plt.ylabel(ylabel)\n",
    "    plt.xlim((x_min,x_max))\n",
    "    plt.ylim((0,1))\n",
    "    return fig\n",
    "    "
   ]
  },
  {
   "cell_type": "code",
   "execution_count": 60,
   "metadata": {},
   "outputs": [
    {
     "name": "stdout",
     "output_type": "stream",
     "text": [
      "KS statistic: 0.0021606024799031287\n"
     ]
    },
    {
     "data": {
      "image/png": "[encoded data removed]",
      "text/plain": [
       "<Figure size 432x288 with 1 Axes>"
      ]
     },
     "metadata": {},
     "output_type": "display_data"
    }
   ],
   "source": [
    "data = np.random.normal(size=(1,100000), loc=0, scale=1) \n",
    "fig = normal_test(data)"
   ]
  },
  {
   "cell_type": "code",
   "execution_count": null,
   "metadata": {},
   "outputs": [],
   "source": []
  }
 ],
 "metadata": {
  "kernelspec": {
   "display_name": "Python 3",
   "language": "python",
   "name": "python3"
  },
  "language_info": {
   "codemirror_mode": {
    "name": "ipython",
    "version": 3
   },
   "file_extension": ".py",
   "mimetype": "text/x-python",
   "name": "python",
   "nbconvert_exporter": "python",
   "pygments_lexer": "ipython3",
   "version": "3.5.2"
  }
 },
 "nbformat": 4,
 "nbformat_minor": 2
}
