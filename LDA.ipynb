{
 "cells": [
  {
   "cell_type": "code",
   "execution_count": 6,
   "metadata": {},
   "outputs": [],
   "source": [
    "from pymongo import MongoClient\n",
    "import pandas\n",
    "from tqdm import tqdm_notebook as tqdm\n",
    "import re\n",
    "client = MongoClient()\n",
    "db = client.get_database('wikipedia')"
   ]
  },
  {
   "cell_type": "code",
   "execution_count": 106,
   "metadata": {},
   "outputs": [],
   "source": [
    "from sklearn.feature_extraction.text import TfidfVectorizer, CountVectorizer\n",
    "from sklearn.decomposition import NMF, LatentDirichletAllocation\n",
    "from sklearn.datasets import fetch_20newsgroups\n",
    "from time import time\n",
    "\n",
    "n_samples = len(content)\n",
    "n_features = 1000\n",
    "n_components = 64\n",
    "n_top_words = 50"
   ]
  },
  {
   "cell_type": "code",
   "execution_count": 8,
   "metadata": {},
   "outputs": [],
   "source": [
    "def print_top_words(model, feature_names, n_top_words):\n",
    "    for topic_idx, topic in enumerate(model.components_):\n",
    "        message = \"Topic #%d: \" % topic_idx\n",
    "        message += \" \".join([feature_names[i]\n",
    "                             for i in topic.argsort()[:-n_top_words - 1:-1]])\n",
    "        print(message)\n",
    "    print()"
   ]
  },
  {
   "cell_type": "code",
   "execution_count": 79,
   "metadata": {},
   "outputs": [
    {
     "name": "stdout",
     "output_type": "stream",
     "text": [
      "Loading dataset...\n"
     ]
    },
    {
     "data": {
      "application/vnd.jupyter.widget-view+json": {
       "model_id": "5191168678e449bcb464784c1f12bf17",
       "version_major": 2,
       "version_minor": 0
      },
      "text/plain": [
       "HBox(children=(IntProgress(value=1, bar_style='info', max=1), HTML(value='')))"
      ]
     },
     "metadata": {},
     "output_type": "display_data"
    },
    {
     "name": "stdout",
     "output_type": "stream",
     "text": [
      "\n"
     ]
    },
    {
     "name": "stderr",
     "output_type": "stream",
     "text": [
      "Exception in thread Thread-46:\n",
      "Traceback (most recent call last):\n",
      "  File \"/usr/lib/python3.5/threading.py\", line 914, in _bootstrap_inner\n",
      "    self.run()\n",
      "  File \"/home/xuanli2/penv/lib/python3.5/site-packages/tqdm/_monitor.py\", line 62, in run\n",
      "    for instance in self.tqdm_cls._instances:\n",
      "  File \"/home/xuanli2/penv/lib/python3.5/_weakrefset.py\", line 60, in __iter__\n",
      "    for itemref in self.data:\n",
      "RuntimeError: Set changed size during iteration\n",
      "\n"
     ]
    },
    {
     "name": "stdout",
     "output_type": "stream",
     "text": [
      "\n",
      "done in 123.203s.\n"
     ]
    }
   ],
   "source": [
    "print(\"Loading dataset...\")\n",
    "t0 = time()\n",
    "content = []\n",
    "pattern = re.compile('[a-zA-Z ,\\.]+')\n",
    "titles=[]\n",
    "i=0\n",
    "for page in tqdm(db.page_text.find()):\n",
    "    i+=1\n",
    "    text=[]\n",
    "    for t in re.findall(pattern, page['text']):\n",
    "        if len(t.split(' '))<3:\n",
    "            continue\n",
    "        text.append(t)\n",
    "    content.append(' '.join(text))\n",
    "    titles.append(page['title'])\n",
    "print(\"done in %0.3fs.\" % (time() - t0))"
   ]
  },
  {
   "cell_type": "code",
   "execution_count": 108,
   "metadata": {},
   "outputs": [],
   "source": [
    "sample=content[:n_samples]"
   ]
  },
  {
   "cell_type": "code",
   "execution_count": 109,
   "metadata": {},
   "outputs": [
    {
     "data": {
      "text/plain": [
       "76853"
      ]
     },
     "execution_count": 109,
     "metadata": {},
     "output_type": "execute_result"
    }
   ],
   "source": [
    "len(sample)"
   ]
  },
  {
   "cell_type": "code",
   "execution_count": 110,
   "metadata": {},
   "outputs": [],
   "source": [
    "from sklearn.feature_extraction import stop_words\n",
    " \n",
    "stopwords=list(stop_words.ENGLISH_STOP_WORDS)"
   ]
  },
  {
   "cell_type": "code",
   "execution_count": 111,
   "metadata": {},
   "outputs": [],
   "source": [
    "stopwords+=['ref','http','www','com','org','html','jpg','REDIRECT']"
   ]
  },
  {
   "cell_type": "code",
   "execution_count": null,
   "metadata": {},
   "outputs": [
    {
     "name": "stdout",
     "output_type": "stream",
     "text": [
      "Extracting tf features for LDA...\n"
     ]
    }
   ],
   "source": [
    "# Use tf (raw term count) features for LDA.\n",
    "print(\"Extracting tf features for LDA...\")\n",
    "tf_vectorizer = CountVectorizer(max_df=0.95, min_df=2,\n",
    "                                max_features=n_features,\n",
    "                                stop_words=stopwords)\n",
    "t0 = time()\n",
    "tf = tf_vectorizer.fit_transform(sample)\n",
    "print(\"done in %0.3fs.\" % (time() - t0))\n",
    "print()"
   ]
  },
  {
   "cell_type": "code",
   "execution_count": null,
   "metadata": {},
   "outputs": [],
   "source": [
    "print(\"Fitting LDA models with tf features, \"\n",
    "      \"n_samples=%d and n_features=%d...\"\n",
    "      % (n_samples, n_features))\n",
    "lda = LatentDirichletAllocation(n_components=n_components, max_iter=5,\n",
    "                                learning_method='online',\n",
    "                                learning_offset=50.,\n",
    "                                random_state=0,\n",
    "                                n_jobs=4,\n",
    "                               )\n",
    "t0 = time()\n",
    "lda.fit(tf)\n",
    "print(\"done in %0.3fs.\" % (time() - t0))"
   ]
  },
  {
   "cell_type": "code",
   "execution_count": 119,
   "metadata": {},
   "outputs": [
    {
     "name": "stdout",
     "output_type": "stream",
     "text": [
      "\n",
      "Topics in LDA model:\n",
      "Topic #0: language english used word languages words use latin term names dictionary meaning form letter written common example old like modern forms called writing person different th standard usually native greek origin means similar known related sound middle uses text official list terms century commonly given include international based present version\n",
      "Topic #1: american player english singer actor author producer president director united born writer italian minister general states british baseball war french people john coach day football prime manager russian year founded south indian spanish ii william new race battle artist irish model ice king car world german television african leader date\n",
      "Topic #2: john david james paul michael smith peter robert jones jack mark jr george william thomas richard usa lee brown martin new mary williams van charles day man hill st end hall fox mr ed book ii york don company house time edward directed born henry list white second christian original\n",
      "Topic #3: used number example use usually called different set point using time line value function given common case form order known numbers standard single does type generally right typically method hand term length points defined possible similar position second way real terms non types table like lines rules general large result\n",
      "Topic #4: new america zealand mexico land north australia south international latin africa american central islands united australian test national association native island states countries history canada tour nations country encyclopedia coast introduced southern society years act usa world local limited culture spanish gold formed called claimed justice government great known time\n",
      "Topic #5: india indian prime minister government state times chief south asia british national east general list th head congress highest new international form major parliament union centre established power century africa empire leader council central economic called district institute day country known west western foreign corporation dr english development years world\n",
      "Topic #6: canadian canada queen british royal ice federal order north national general prince list government centre st bay prime official minister island lake western french corporation english association act american edward new history international press country john united nations encyclopedia america parliament year years red members current board date non second\n",
      "Topic #7: european union europe spanish spain countries member council italy germany central france nations republic international africa la italian members kingdom western parliament official country community arms latin world main list common established history joined general russia single second centre german th states following commission svg foreign status ii june area\n",
      "Topic #8: network radio media news television channel service internet tv broadcast station online video host live digital program website site content services public local fox new air available programs used entertainment shows time sports format search including use information announced began current music web voice based daily commercial access post free\n",
      "Topic #9: company business companies million market new industry sold products group sales corporation management product announced board based deal financial largest services year production began including executive contract history service established cost years times commercial founded united operations major president time division line chief early limited success development office distribution opened\n",
      "Topic #10: cell body blood cells human heart head cite form called type known journal image function process surface left structure types development cause different response right growth pressure role wall specific small usually important book like forms present primary host include complex including external associated result lower large disease common involved\n",
      "Topic #11: new york city times american chicago jersey street center accessed washington news press america post daily long states square public wall george building state park began white east company island united hall million history cite angeles opened county home los major including world trade moved national years served time john\n",
      "Topic #12: japanese japan english north list type ii world released official volume network asia known series called second th popular western international war america europe website special battle island usa release entertainment foreign names outside prince magazine east islands collection published video sold kingdom end agency opening works period traditional publisher\n",
      "Topic #13: health journal medical treatment disease drug risk cite cancer medicine use care effects cause people used american cases review study include associated research evidence common control safety children association studies increased national management high including caused food loss related low effect levels practice administration death term lead based years reported\n",
      "Topic #14: party president election political house presidential government democratic general national office members state campaign committee minister leader politics new support united member congress parliament post news press power public prime policy won war council people movement executive majority george term held said union left did federal foreign right led end\n",
      "Topic #15: cite web news book journal press media times review magazine new list million history united post said association release official april march world july report daily november including september june january number december august february online guide according october stated states site says associated best publishing did video life washington\n",
      "Topic #16: film award best films awards actress actor movie role academy hollywood actors director american performance golden directed production supporting drama critics star picture comedy motion television theatre box office festival cast male played play year th won musical received choice love times stage producer angeles los released appeared man story\n",
      "Topic #17: war army air military force aircraft forces battle navy flight service ii th general attack division operations world training defense civil killed soviet base operation history units action support british fighting control unit group special men staff pp later chief ground order main used major new heavy campaign began second\n",
      "Topic #18: life death later family people time father said years mother man did born son home children old wife died age left young house brother daughter married just like told date times took work named career friends friend went child began interview place relationship called having met known day way good\n",
      "Topic #19: earth space star sea ship sun ice stars surface science center years light flight water time mass life station near known large seen image away times society formed far point high speed main new return period close small human stage long way cite land international motion ground location caused named\n",
      "Topic #20: china chinese asia republic people east central western traditional foreign government history south song eastern southern th cultural university northern international world great period culture press military official modern new technology sun general trade empire square red north established power capital countries known local region characters early wall long japan\n",
      "Topic #21: day time year days years age night event events month months hours week held festival period seven date end place th start second weeks following beginning special dates public new annual times old set people called long late began national summer daily later previous followed took traditional use takes course\n",
      "Topic #22: university college school state students research education science student institute center national association program hall arts library sciences degree year public conference schools programs academy building foundation technology new members president business medical higher history department society board studies founded member years professional study established community th american health medicine\n",
      "Topic #23: british london england uk english bbc royal britain united kingdom st parliament great centre use oxford john house act queen west theatre war new cambridge empire home end street george council world history april national including james society independent dates july east office october february local september david order june\n",
      "Topic #24: international economic bank government security countries trade policy financial nations economy money foreign public services market agency capital country national private organization development united federal world plan commission central global new states report business authority information free value program service administration member council cost political rate department management members industry\n",
      "Topic #25: football team cup league club national season fifa final stadium player championship players teams match division won win coach played year sport time sports group second round date manager association age england record birth united play home city victory winning west years following end place game june title playing head\n",
      "Topic #26: list park south national stone section north rock highest central big home family article little service end point people references table need hot range added club features town official guide april house named blue lake new great box southern originally free view complete grand friends names october association tour open\n",
      "Topic #27: wrestling championship match world professional team title vs open pro fight won defeated round results event fighting tour win lost hall night online final time list year episode new fame history singles following decision impact later entertainment main career live winning began big report royal second american returned man return\n",
      "Topic #28: city airport high international low record cities days area district mm population mean centre sun located year largest center capital station home town museum public new council park local service built county air average street main major festival national services climate include world sister line opened areas old building type\n",
      "Topic #29: march october january september july june december april november august february news new announced times daily bbc said retrieved international second million year date following reported official release number website cite world stated media released list dates including month people months press set day report received use signed years later\n",
      "Topic #30: social people human children group person self society research individual work study child groups life development journal community theory term experience example different culture way studies cultural new use information process personal practice concept based members movement physical make organization need good relationship specific role include non order important ability\n",
      "Topic #31: book published books novel story wrote fiction work writers written writing author stories works edition literature short writer life new library press science magazine publishing series collection based time little american world york text war years review children play society university guide best man popular times version described english title\n",
      "Topic #32: engine model car design new speed models production generation used version available standard series built year introduced power mm produced weight designed performance type body range replaced sold high based use line sales class features early limited later market control second time included road machine safety featured ii magazine sport\n",
      "Topic #33: north west river area east building town south county built site station near road th construction western central great hill line map located city southern local street northern old large main areas house land history known location opened century eastern water place lake including region st end wall square coast\n",
      "Topic #34: energy power nuclear theory field mass test systems science current light time state analysis force physical effect elements research process work structure high model motion technology unit journal material speed general design results using point source space example cite effects university units new given problem possible complex change form low\n",
      "Topic #35: states united state federal american washington national department virginia congress district america service office president history act center william administration defense government texas court general law chief george county jr nation public house north southern historical list th constitution second union commission library war james official post civil john thomas\n",
      "Topic #36: album music band song released rock songs chart single tour albums new recording live records singles number group guitar recorded record release musical love best studio hot video label time artist pop bar artists track uk performed singer year sound hit awards featured like played version featuring cover members official\n",
      "Topic #37: church roman russian soviet russia catholic christian empire eastern religious council ii great state century war history religion union europe republic power god new st order th western city world italy east members death second kingdom greek established peter early old authority later military according people official founded end peace\n",
      "Topic #38: ireland irish green kingdom republic northern united county parliament free britain british government independent association uk act island islands council members local status great catholic official state known member home st minister rule people national england history list century use union head new birth flag michael city following office european\n",
      "Topic #39: species journal animals brown large known cite plant natural small long size years like food university common book group life range living including family new press american north early male human female water body society native larger similar red live evidence history population areas called groups largest museum young world\n",
      "Topic #40: la st louis le et th real al paris san round general place spanish known los latin image named born royal april second son title century light national city order official later left website july famous don called time list date years site paul new french works table von htm\n",
      "Topic #41: page pages article led university end long wide state links added england special short publishing encyclopedia running virginia press green washington section web williams fighting edition new fourth sun jones multiple louis books style north april used taken search appear content plant time brown volume history young second christian james\n",
      "Topic #42: art music style museum van work popular artists early century arts works dance musical collection artist known th modern major culture new including design late like traditional movement period include began famous scene contemporary created house world large form history public use used sound cultural important time theatre included designed\n",
      "Topic #43: press university history century book god oxford th ancient modern pp early greek new cambridge world philosophy according religion encyclopedia vol religious society known life historical later thought ed called period form great time studies view used theory nature john man dictionary cite considered introduction did culture like books text\n",
      "Topic #44: population country government state history region world people national war th century economic largest areas culture south university central republic east political million cities area number local years north major capital established northern countries power large cultural period groups land development trade nation economy southern western known including led language\n",
      "Topic #45: series television episode tv season episodes american comedy appeared role voice cast list character shows fox drama played actors network special characters star dvd male movie dr big new love night second company producer family mr children date main th time live century complete title featured broadcast program best stars\n",
      "Topic #46: law court rights act police legal justice case laws public civil state right constitution government cases freedom article human person free decision evidence authority code rule action power held review section rules order political private did press required commission local including members federal university certain subject does common issue people\n",
      "Topic #47: german australian australia germany von world south new ii war western federal west test zealand national east minister international africa peter second europe british august centre republic free english state italian government italy july major day european computer corporation history year rules held kingdom prime april coast st years list\n",
      "Topic #48: king ii henry pp william charles prince iii son great george royal mary edward thomas queen richard house john battle death england kingdom history later died martin war years time james men family century new father st order did th second took known brother power arms court sent press robert\n",
      "Topic #49: title url publisher accessdate date year isbn work location author pages chapter cite format press edition language book place new website page october august series september march web world time richard age june publishing april magazine february history july york january december number november volume group david later table issue\n",
      "Topic #50: world summer gold texas international games record sports won held time track events association event sport records usa field nations country national official men list individual host american place committee best final states group opening history second august age date results set years long winning year report united did july\n",
      "Topic #51: rate change global report climate level average research increase data total growth impact higher levels changes future low increased year study million high years pdf science human national effects rise lower development cost annual period effect project world natural significant analysis caused areas institute result time past energy recent value\n",
      "Topic #52: school retrieved high schools education class lee students student training public academy children middle private year college primary district years htm board age community program national level special post course independent higher test local arts christian website new accessed central free based professional career association online second department news degree\n",
      "Topic #53: data software computer windows systems code information use used support using version digital access technology based web available control project program development new release format management video open source machine features free design released standard text internet security time developed versions image process content include key programs uses list including\n",
      "Topic #54: grand prix race italian williams italy order season cross car championship team second won th win british points world place final international year hours le position track red san time winning french sports spanish series took victory results german fourth start european lead years title australian career end states hill\n",
      "Topic #55: characters video character game series released man original version new time later final story appears like release dark games film list created set battle super based power team boy dead world vol action revealed end seen takes entertainment use features called fight make secret help review order used eventually main\n",
      "Topic #56: game season games player players baseball nfl league bowl play team super major year series played home career record time second sports award field run playing history hall points fame hit win th won american coach best list conference led regular pro years winning named star teams new head week\n",
      "Topic #57: french france paris italian le italy la war charles louis europe et german republic th britain british foreign end spain second kingdom ii european century tour empire english battle free history germany minister roman stage grand created general list peace led modern government political africa world new paul military line\n",
      "Topic #58: jewish israel al peace middle east according religious people said community nations international war killed times world group state david land non movement foreign christian center dead minister united leader report groups press attack post including west new members following eastern organization cite defense council studies return security book day\n",
      "Topic #59: women men sex female sexual woman marriage male birth love girl age child man married young family relationship mother children mary american wife having press body culture considered media people reported times social status book health non like human issue countries does boy issues rights performed including cover term born\n",
      "Topic #60: journal volume cite pages issue title doi pmid year date url author research effects studies review human structure study evidence effect science new role levels analysis high book sciences used nature associated function group shown different use van reviews related using et model al based development academy increased society international\n",
      "Topic #61: california san los island angeles county state florida francisco bay islands lake coast texas area center west american southern north states city university big south western times east washington virginia long community golden united park point national st department named including native la hollywood spanish home located rock central america\n",
      "Topic #62: black white red color blue african flag africa svg south arms green used dark national southern gold cross use image race history field country official world nations west group th nation people standard known golden north members new current free union left head traditional based band face movement february civil\n",
      "Topic #63: used water use food high oil metal gas production light air using usually pressure small produced low surface common process called known large material type form produce typically products like similar make include types uses commonly different hot plant various popular available source variety technology higher quality generally making natural\n",
      "\n"
     ]
    }
   ],
   "source": [
    "print(\"\\nTopics in LDA model:\")\n",
    "tf_feature_names = tf_vectorizer.get_feature_names()\n",
    "print_top_words(lda, tf_feature_names, n_top_words)"
   ]
  },
  {
   "cell_type": "code",
   "execution_count": null,
   "metadata": {},
   "outputs": [],
   "source": [
    "import pickle"
   ]
  },
  {
   "cell_type": "code",
   "execution_count": null,
   "metadata": {},
   "outputs": [],
   "source": [
    "pickle.dump([titles,lda,tf],open('./data/dump/lda.pkl','wb'))"
   ]
  },
  {
   "cell_type": "code",
   "execution_count": 120,
   "metadata": {},
   "outputs": [],
   "source": [
    "result=lda.transform(tf)"
   ]
  },
  {
   "cell_type": "code",
   "execution_count": 121,
   "metadata": {},
   "outputs": [
    {
     "data": {
      "text/plain": [
       "(76853, 64)"
      ]
     },
     "execution_count": 121,
     "metadata": {},
     "output_type": "execute_result"
    }
   ],
   "source": [
    "result.shape"
   ]
  },
  {
   "cell_type": "code",
   "execution_count": 127,
   "metadata": {},
   "outputs": [
    {
     "data": {
      "text/plain": [
       "'List_of_sex_positions'"
      ]
     },
     "execution_count": 127,
     "metadata": {},
     "output_type": "execute_result"
    }
   ],
   "source": [
    "titles[0]"
   ]
  },
  {
   "cell_type": "code",
   "execution_count": 128,
   "metadata": {},
   "outputs": [
    {
     "data": {
      "application/vnd.jupyter.widget-view+json": {
       "model_id": "b3442a86d99b4e8a9a0af89a10391256",
       "version_major": 2,
       "version_minor": 0
      },
      "text/plain": [
       "HBox(children=(IntProgress(value=0, max=76853), HTML(value='')))"
      ]
     },
     "metadata": {},
     "output_type": "display_data"
    },
    {
     "name": "stdout",
     "output_type": "stream",
     "text": [
      "\n"
     ]
    }
   ],
   "source": [
    "with open('./data/dump/lda_embeddint.txt','w') as fout:\n",
    "    fout.write('%d %d\\n'%(n_samples,n_components))\n",
    "    for i in tqdm(range(n_samples)):\n",
    "        if ' ' in str(titles[i]):\n",
    "            print(i)\n",
    "            continue\n",
    "        d=' '.join(map(lambda x:str(x), result[i]))\n",
    "        fout.write('%s %s\\n'%(str(titles[i]),d))"
   ]
  }
 ],
 "metadata": {
  "kernelspec": {
   "display_name": "Python 3",
   "language": "python",
   "name": "python3"
  },
  "language_info": {
   "codemirror_mode": {
    "name": "ipython",
    "version": 3
   },
   "file_extension": ".py",
   "mimetype": "text/x-python",
   "name": "python",
   "nbconvert_exporter": "python",
   "pygments_lexer": "ipython3",
   "version": "3.5.2"
  }
 },
 "nbformat": 4,
 "nbformat_minor": 2
}
