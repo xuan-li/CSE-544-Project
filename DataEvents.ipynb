{
 "cells": [
  {
   "cell_type": "code",
   "execution_count": 1,
   "metadata": {},
   "outputs": [],
   "source": [
    "%matplotlib inline\n",
    "import numpy as np\n",
    "import os\n",
    "import threading\n",
    "import operator\n",
    "import pickle\n",
    "import re\n",
    "import pandas as pd\n",
    "from datetime import datetime\n",
    "import matplotlib.pyplot as plt\n",
    "from scipy import stats\n",
    "import operator\n",
    "import scipy.stats\n",
    "\n",
    "\n",
    "start_time = 1190146243\n",
    "end_time = 1192994591"
   ]
  },
  {
   "cell_type": "code",
   "execution_count": 2,
   "metadata": {},
   "outputs": [],
   "source": [
    "def dump_data(data, output_name):\n",
    "    with open(output_name, 'wb') as f:\n",
    "        pickle.dump(data, f)\n",
    "\n",
    "def load_data(input_name):\n",
    "    with open(input_name, 'rb') as f:\n",
    "        data = pickle.load(f)\n",
    "    return data"
   ]
  },
  {
   "cell_type": "code",
   "execution_count": 3,
   "metadata": {},
   "outputs": [],
   "source": [
    "revisions_record = load_data('data/dump/revision_records.pkl')"
   ]
  },
  {
   "cell_type": "code",
   "execution_count": 83,
   "metadata": {},
   "outputs": [],
   "source": [
    "times = load_data('data/dump/word_access_timestamps_00000-01000.pkl')"
   ]
  },
  {
   "cell_type": "code",
   "execution_count": 84,
   "metadata": {},
   "outputs": [],
   "source": [
    "keys=times.keys()"
   ]
  },
  {
   "cell_type": "code",
   "execution_count": 85,
   "metadata": {},
   "outputs": [],
   "source": [
    "key_list=list(times.keys())"
   ]
  },
  {
   "cell_type": "code",
   "execution_count": 86,
   "metadata": {},
   "outputs": [],
   "source": [
    "def my_range(start, end, step):\n",
    "    while start <= end:\n",
    "        yield start\n",
    "        start += step"
   ]
  },
  {
   "cell_type": "markdown",
   "metadata": {},
   "source": [
    "## calucate the peak between the visits"
   ]
  },
  {
   "cell_type": "code",
   "execution_count": null,
   "metadata": {},
   "outputs": [],
   "source": [
    "peak_visit=[]"
   ]
  },
  {
   "cell_type": "code",
   "execution_count": 111,
   "metadata": {},
   "outputs": [],
   "source": [
    "for i in my_range(0, 499, 1):\n",
    "        listdate=[]\n",
    "        for j in range(0,len(times[key_list[i]])):\n",
    "            a=float(times[key_list[i]][j])\n",
    "            listdate.append(datetime.fromtimestamp(a))\n",
    "        X=[]\n",
    "        for k in range(0,len(times[key_list[i]])):\n",
    "            if(listdate[k].month==9):\n",
    "                value=listdate[k].day-17\n",
    "            else:\n",
    "                value=listdate[k].day+13\n",
    "            X.append(value) \n",
    "        unique, counts = np.unique(X, return_counts=True)\n",
    "        ww2=dict(zip(unique, counts))\n",
    "        list_ww=list(ww2.values())\n",
    "        visit_max=max(ww2.items(), key=operator.itemgetter(1))[0]\n",
    "        valuesorted=sorted(ww2.items(),key=lambda item:item[1])"
   ]
  },
  {
   "cell_type": "markdown",
   "metadata": {},
   "source": [
    "## calculate the peak value betweent the update and visits"
   ]
  },
  {
   "cell_type": "code",
   "execution_count": 8,
   "metadata": {},
   "outputs": [],
   "source": [
    "peak_visit=[]"
   ]
  },
  {
   "cell_type": "code",
   "execution_count": 61,
   "metadata": {},
   "outputs": [],
   "source": [
    "for i in my_range(0, 999, 1):\n",
    "        listdate=[]\n",
    "        for j in range(0,len(times[key_list[i]])):\n",
    "            a=float(times[key_list[i]][j])\n",
    "            listdate.append(datetime.fromtimestamp(a))\n",
    "        X=[]\n",
    "        for k in range(0,len(times[key_list[i]])):\n",
    "            if(listdate[k].month==9):\n",
    "                value=listdate[k].day-17\n",
    "            else:\n",
    "                value=listdate[k].day+13\n",
    "            X.append(value) \n",
    "        unique, counts = np.unique(X, return_counts=True)\n",
    "        ww2=dict(zip(unique, counts))\n",
    "        list_ww=list(ww2.values())\n",
    "        visit_max=max(ww2.items(), key=operator.itemgetter(1))[0]\n",
    "        peak_visit.append(visit_max)"
   ]
  },
  {
   "cell_type": "code",
   "execution_count": 10,
   "metadata": {},
   "outputs": [],
   "source": [
    "peak_update=[]"
   ]
  },
  {
   "cell_type": "code",
   "execution_count": 62,
   "metadata": {},
   "outputs": [],
   "source": [
    "for i in my_range(0, 999, 1):\n",
    "    if(key_list[i] in revisions_record.index): \n",
    "        length=len(revisions_record.loc[key_list[i],'timestamp'])\n",
    "        update_list=[]\n",
    "        for j in range(0,int(length)):\n",
    "            a=revisions_record.loc[key_list[i],'timestamp'][j]\n",
    "            update_list.append(datetime.fromtimestamp(a))\n",
    "        update_X=[]\n",
    "        for k in range(0,int(length)):\n",
    "            if(update_list[k].month==9):\n",
    "                value=update_list[k].day-17\n",
    "            else:\n",
    "                value=update_list[k].day+13\n",
    "            update_X.append(value) \n",
    "        unique, counts = np.unique(update_X, return_counts=True)\n",
    "        ww2_update=dict(zip(unique, counts))\n",
    "        update_max=max(ww2_update.items(), key=operator.itemgetter(1))[0]\n",
    "        peak_update.append(update_max)\n",
    "    else:\n",
    "        peak_update.append(0)"
   ]
  },
  {
   "cell_type": "code",
   "execution_count": 63,
   "metadata": {},
   "outputs": [
    {
     "data": {
      "text/plain": [
       "5000"
      ]
     },
     "execution_count": 63,
     "metadata": {},
     "output_type": "execute_result"
    }
   ],
   "source": [
    "len(peak_visit)"
   ]
  },
  {
   "cell_type": "code",
   "execution_count": 13,
   "metadata": {},
   "outputs": [],
   "source": [
    "peak_diff=[]"
   ]
  },
  {
   "cell_type": "code",
   "execution_count": 64,
   "metadata": {},
   "outputs": [],
   "source": [
    "for i in my_range(4000, 4999, 1):\n",
    "    diff=peak_visit[i]-peak_update[i]\n",
    "    peak_diff.append(diff)"
   ]
  },
  {
   "cell_type": "code",
   "execution_count": 65,
   "metadata": {},
   "outputs": [],
   "source": [
    "def mean_confidence_interval(data, confidence=0.95):\n",
    "    a = 1.0*np.array(data)\n",
    "    n = len(a)\n",
    "    m, se = np.mean(a), scipy.stats.sem(a)\n",
    "    h = se * scipy.stats.t._ppf((1+confidence)/2., n-1)\n",
    "    return m, m-h, m+h"
   ]
  },
  {
   "cell_type": "code",
   "execution_count": 66,
   "metadata": {},
   "outputs": [],
   "source": [
    "a=mean_confidence_interval(peak_diff)"
   ]
  },
  {
   "cell_type": "code",
   "execution_count": 67,
   "metadata": {},
   "outputs": [
    {
     "data": {
      "text/plain": [
       "(3.5668, 3.1947399853712537, 3.9388600146287467)"
      ]
     },
     "execution_count": 67,
     "metadata": {},
     "output_type": "execute_result"
    }
   ],
   "source": [
    "a"
   ]
  },
  {
   "cell_type": "code",
   "execution_count": 68,
   "metadata": {},
   "outputs": [
    {
     "data": {
      "text/plain": [
       "3.5668"
      ]
     },
     "execution_count": 68,
     "metadata": {},
     "output_type": "execute_result"
    }
   ],
   "source": [
    "np.mean(peak_diff)"
   ]
  },
  {
   "cell_type": "code",
   "execution_count": 69,
   "metadata": {},
   "outputs": [
    {
     "data": {
      "text/plain": [
       "(array([ 18.,  35.,  44.,  42.,  70.,  75.,  29.,  76.,  90., 116., 137.,\n",
       "        146., 176.,  88., 190., 252., 609., 310., 269., 286., 141., 227.,\n",
       "        163., 179., 225., 162., 145.,  75., 162., 105., 109., 101.,  91.,\n",
       "         46.,  11.]),\n",
       " array([-31.        , -29.14285714, -27.28571429, -25.42857143,\n",
       "        -23.57142857, -21.71428571, -19.85714286, -18.        ,\n",
       "        -16.14285714, -14.28571429, -12.42857143, -10.57142857,\n",
       "         -8.71428571,  -6.85714286,  -5.        ,  -3.14285714,\n",
       "         -1.28571429,   0.57142857,   2.42857143,   4.28571429,\n",
       "          6.14285714,   8.        ,   9.85714286,  11.71428571,\n",
       "         13.57142857,  15.42857143,  17.28571429,  19.14285714,\n",
       "         21.        ,  22.85714286,  24.71428571,  26.57142857,\n",
       "         28.42857143,  30.28571429,  32.14285714,  34.        ]),\n",
       " <a list of 35 Patch objects>)"
      ]
     },
     "execution_count": 69,
     "metadata": {},
     "output_type": "execute_result"
    },
    {
     "data": {
      "image/png": "[encoded data removed]",
      "text/plain": [
       "<Figure size 432x288 with 1 Axes>"
      ]
     },
     "metadata": {
      "image/png": {
       "height": 278,
       "width": 392
      }
     },
     "output_type": "display_data"
    }
   ],
   "source": [
    "%config InlineBackend.figure_format = 'retina'\n",
    "import matplotlib\n",
    "matplotlib.rcParams.update({'font.size': 18})\n",
    "plt.title(\"peak-5000\")\n",
    "plt.hist(peak_diff,35)"
   ]
  },
  {
   "cell_type": "markdown",
   "metadata": {},
   "source": [
    "## calculate the ks value "
   ]
  },
  {
   "cell_type": "code",
   "execution_count": 87,
   "metadata": {},
   "outputs": [],
   "source": [
    "ks=[]\n",
    "for i in my_range(0, 499, 1):\n",
    "        listdate=[]\n",
    "        for j in range(0,len(times[key_list[i]])):\n",
    "            a=float(times[key_list[i]][j])\n",
    "            listdate.append(datetime.fromtimestamp(a))\n",
    "        X=[]\n",
    "        for k in range(0,len(times[key_list[i]])):\n",
    "            if(listdate[k].month==9):\n",
    "                value=listdate[k].day-17\n",
    "            else:\n",
    "                value=listdate[k].day+13\n",
    "            X.append(value) \n",
    "        unique, counts = np.unique(X, return_counts=True)\n",
    "        ww2=dict(zip(unique, counts))\n",
    "        list_ww=list(ww2.values())\n",
    "        ks_a, ks_p = stats.kstest(list_ww, lambda x: (x-min(list_ww)) / (max(list_ww)-min(list_ww)))\n",
    "        ks.append(ks_a)"
   ]
  },
  {
   "cell_type": "code",
   "execution_count": 88,
   "metadata": {},
   "outputs": [
    {
     "data": {
      "text/plain": [
       "0.4421329507412721"
      ]
     },
     "execution_count": 88,
     "metadata": {},
     "output_type": "execute_result"
    }
   ],
   "source": [
    "ks[200]"
   ]
  },
  {
   "cell_type": "code",
   "execution_count": 89,
   "metadata": {},
   "outputs": [],
   "source": [
    "for i in my_range(500, 999, 1):\n",
    "        listdate=[]\n",
    "        for j in range(0,len(times[key_list[i]])):\n",
    "            a=float(times[key_list[i]][j])\n",
    "            listdate.append(datetime.fromtimestamp(a))\n",
    "        X=[]\n",
    "        for k in range(0,len(times[key_list[i]])):\n",
    "            if(listdate[k].month==9):\n",
    "                value=listdate[k].day-17\n",
    "            else:\n",
    "                value=listdate[k].day+13\n",
    "            X.append(value) \n",
    "        unique, counts = np.unique(X, return_counts=True)\n",
    "        ww2=dict(zip(unique, counts))\n",
    "        list_ww=list(ww2.values())\n",
    "        ks_a, ks_p = stats.kstest(list_ww, lambda x: (x-min(list_ww)) / (max(list_ww)-min(list_ww)))\n",
    "        ks.append(ks_a)"
   ]
  },
  {
   "cell_type": "code",
   "execution_count": 115,
   "metadata": {},
   "outputs": [
    {
     "data": {
      "text/plain": [
       "0.40805142613215023"
      ]
     },
     "execution_count": 115,
     "metadata": {},
     "output_type": "execute_result"
    }
   ],
   "source": [
    "np.mean(ks)"
   ]
  },
  {
   "cell_type": "code",
   "execution_count": 91,
   "metadata": {},
   "outputs": [
    {
     "data": {
      "text/plain": [
       "(array([ 32., 152., 251., 212., 154., 111.,  44.,  28.,  10.,   6.]),\n",
       " array([0.11675579, 0.19832336, 0.27989093, 0.36145851, 0.44302608,\n",
       "        0.52459365, 0.60616122, 0.68772879, 0.76929636, 0.85086393,\n",
       "        0.9324315 ]),\n",
       " <a list of 10 Patch objects>)"
      ]
     },
     "execution_count": 91,
     "metadata": {},
     "output_type": "execute_result"
    },
    {
     "data": {
      "image/png": "[encoded data removed]",
      "text/plain": [
       "<Figure size 432x288 with 1 Axes>"
      ]
     },
     "metadata": {
      "image/png": {
       "height": 257,
       "width": 392
      }
     },
     "output_type": "display_data"
    }
   ],
   "source": [
    "plt.hist(ks)"
   ]
  },
  {
   "cell_type": "code",
   "execution_count": 92,
   "metadata": {},
   "outputs": [],
   "source": [
    "word=[]\n",
    "for i in range(0,1000):\n",
    "     if(ks[i]>0.7):\n",
    "        word.append(key_list[i])  "
   ]
  },
  {
   "cell_type": "code",
   "execution_count": 116,
   "metadata": {},
   "outputs": [
    {
     "data": {
      "text/plain": [
       "['October_15',\n",
       " 'Gobi_Desert',\n",
       " \"Radiohead's_seventh_studio_album\",\n",
       " 'Philippine-American_War',\n",
       " 'PlayStation_2',\n",
       " 'October_12',\n",
       " 'Yom_Kippur_War',\n",
       " 'Magna_Carta',\n",
       " 'October_16',\n",
       " 'Portia_de_Rossi',\n",
       " 'Clitoris',\n",
       " 'Harry_S._Truman',\n",
       " 'Playboy_Special_Edition',\n",
       " 'F-14_Tomcat',\n",
       " 'Orion_%28mythology%29',\n",
       " 'Neptune',\n",
       " 'Yemen',\n",
       " 'Marc_Ecko',\n",
       " 'England_national_rugby_union_team',\n",
       " 'United_states',\n",
       " 'WWE_No_Mercy',\n",
       " 'Saffron',\n",
       " 'O._J._Simpson_murder_case',\n",
       " 'Intersex',\n",
       " 'Harry_Potter_and_the_Half-Blood_Prince_(film)',\n",
       " 'Manny_Pacquiao',\n",
       " 'October_2',\n",
       " 'F-16_Fighting_Falcon',\n",
       " 'Jos%C3%A9_Mourinho',\n",
       " 'Chronic_fatigue_syndrome',\n",
       " 'B-29_Superfortress',\n",
       " 'Guinea_pig',\n",
       " 'Smallville_%28TV_series%29',\n",
       " 'Ponzi_scheme',\n",
       " 'Ontario_general_election,_2007',\n",
       " 'Methicillin-resistant_Staphylococcus_aureus']"
      ]
     },
     "execution_count": 116,
     "metadata": {},
     "output_type": "execute_result"
    }
   ],
   "source": [
    "word"
   ]
  },
  {
   "cell_type": "code",
   "execution_count": 117,
   "metadata": {},
   "outputs": [
    {
     "data": {
      "image/png": "[encoded data removed]",
      "text/plain": [
       "<Figure size 576x288 with 1 Axes>"
      ]
     },
     "metadata": {
      "image/png": {
       "height": 299,
       "width": 538
      }
     },
     "output_type": "display_data"
    }
   ],
   "source": [
    "listdate=[]\n",
    "for i in range(0,len(times[\"Portia_de_Rossi\"])):\n",
    "    a=float(times[\"Portia_de_Rossi\"][i])\n",
    "    listdate.append(datetime.fromtimestamp(a))\n",
    "X=[]\n",
    "for i in range(0,len(times[\"Portia_de_Rossi\"])):\n",
    "    if(listdate[i].month==9):\n",
    "        value=listdate[i].day-17\n",
    "    else:\n",
    "        value=listdate[i].day+13\n",
    "    X.append(value) \n",
    "unique, counts = np.unique(X, return_counts=True)\n",
    "ww2=dict(zip(unique, counts))\n",
    "list_ww=list(ww2.values())\n",
    "xlabel=[]\n",
    "for i in range(0,34):\n",
    "    xlabel.append(i+1)\n",
    "plt.figure(figsize=(8,4)) \n",
    "l1, = plt.plot(xlabel, list_ww, label='actual value')\n",
    "#l2, = plt.plot(xlabel, list_ww_update, color='red', linewidth=1.0, linestyle='--', label='prediction value')\n",
    "plt.xlabel(\"day\")\n",
    "plt.ylabel(\"value\")\n",
    "plt.legend(loc='upper right')\n",
    "plt.title(\"Portia_de_Rossi\")\n",
    "plt.show() "
   ]
  },
  {
   "cell_type": "code",
   "execution_count": 118,
   "metadata": {},
   "outputs": [
    {
     "data": {
      "text/plain": [
       "[49,\n",
       " 184,\n",
       " 188,\n",
       " 139,\n",
       " 113,\n",
       " 122,\n",
       " 122,\n",
       " 107,\n",
       " 98,\n",
       " 114,\n",
       " 131,\n",
       " 78,\n",
       " 97,\n",
       " 117,\n",
       " 101,\n",
       " 108,\n",
       " 94,\n",
       " 92,\n",
       " 78,\n",
       " 88,\n",
       " 116,\n",
       " 117,\n",
       " 105,\n",
       " 145,\n",
       " 122,\n",
       " 122,\n",
       " 102,\n",
       " 160,\n",
       " 796,\n",
       " 2026,\n",
       " 1099,\n",
       " 466,\n",
       " 215,\n",
       " 162]"
      ]
     },
     "execution_count": 118,
     "metadata": {},
     "output_type": "execute_result"
    }
   ],
   "source": [
    "list_ww"
   ]
  },
  {
   "cell_type": "code",
   "execution_count": 93,
   "metadata": {},
   "outputs": [
    {
     "data": {
      "text/plain": [
       "['October_15',\n",
       " 'Gobi_Desert',\n",
       " \"Radiohead's_seventh_studio_album\",\n",
       " 'Philippine-American_War',\n",
       " 'PlayStation_2',\n",
       " 'October_12',\n",
       " 'Yom_Kippur_War',\n",
       " 'Magna_Carta',\n",
       " 'October_16',\n",
       " 'Portia_de_Rossi',\n",
       " 'Clitoris',\n",
       " 'Harry_S._Truman',\n",
       " 'Playboy_Special_Edition',\n",
       " 'F-14_Tomcat',\n",
       " 'Orion_%28mythology%29',\n",
       " 'Neptune',\n",
       " 'Yemen',\n",
       " 'Marc_Ecko',\n",
       " 'England_national_rugby_union_team',\n",
       " 'United_states',\n",
       " 'WWE_No_Mercy',\n",
       " 'Saffron',\n",
       " 'O._J._Simpson_murder_case',\n",
       " 'Intersex',\n",
       " 'Harry_Potter_and_the_Half-Blood_Prince_(film)',\n",
       " 'Manny_Pacquiao',\n",
       " 'October_2',\n",
       " 'F-16_Fighting_Falcon',\n",
       " 'Jos%C3%A9_Mourinho',\n",
       " 'Chronic_fatigue_syndrome',\n",
       " 'B-29_Superfortress',\n",
       " 'Guinea_pig',\n",
       " 'Smallville_%28TV_series%29',\n",
       " 'Ponzi_scheme',\n",
       " 'Ontario_general_election,_2007',\n",
       " 'Methicillin-resistant_Staphylococcus_aureus']"
      ]
     },
     "execution_count": 93,
     "metadata": {},
     "output_type": "execute_result"
    }
   ],
   "source": [
    "word"
   ]
  },
  {
   "cell_type": "markdown",
   "metadata": {},
   "source": [
    "## calculate the significant peak "
   ]
  },
  {
   "cell_type": "code",
   "execution_count": 100,
   "metadata": {},
   "outputs": [],
   "source": [
    "peak_visit=[]"
   ]
  },
  {
   "cell_type": "code",
   "execution_count": 101,
   "metadata": {},
   "outputs": [],
   "source": [
    "for i in my_range(0, len(word)-1, 1):\n",
    "        listdate=[]\n",
    "        for j in range(0,len(times[word[i]])):\n",
    "            a=float(times[word[i]][j])\n",
    "            listdate.append(datetime.fromtimestamp(a))\n",
    "        X=[]\n",
    "        for k in range(0,len(times[word[i]])):\n",
    "            if(listdate[k].month==9):\n",
    "                value=listdate[k].day-17\n",
    "            else:\n",
    "                value=listdate[k].day+13\n",
    "            X.append(value) \n",
    "        unique, counts = np.unique(X, return_counts=True)\n",
    "        ww2=dict(zip(unique, counts))\n",
    "        list_ww=list(ww2.values())\n",
    "        visit_max=max(ww2.items(), key=operator.itemgetter(1))[0]\n",
    "        peak_visit.append(visit_max)"
   ]
  },
  {
   "cell_type": "code",
   "execution_count": 102,
   "metadata": {},
   "outputs": [],
   "source": [
    "peak_update=[]"
   ]
  },
  {
   "cell_type": "code",
   "execution_count": 104,
   "metadata": {},
   "outputs": [],
   "source": [
    "for i in my_range(0, len(word)-1, 1):\n",
    "    if(word[i] in revisions_record.index): \n",
    "        length=len(revisions_record.loc[word[i],'timestamp'])\n",
    "        update_list=[]\n",
    "        for j in range(0,int(length)):\n",
    "            a=revisions_record.loc[word[i],'timestamp'][j]\n",
    "            update_list.append(datetime.fromtimestamp(a))\n",
    "        update_X=[]\n",
    "        for k in range(0,int(length)):\n",
    "            if(update_list[k].month==9):\n",
    "                value=update_list[k].day-17\n",
    "            else:\n",
    "                value=update_list[k].day+13\n",
    "            update_X.append(value) \n",
    "        unique, counts = np.unique(update_X, return_counts=True)\n",
    "        ww2_update=dict(zip(unique, counts))\n",
    "        update_max=max(ww2_update.items(), key=operator.itemgetter(1))[0]\n",
    "        peak_update.append(update_max)\n",
    "    else:\n",
    "        peak_update.append(0)"
   ]
  },
  {
   "cell_type": "code",
   "execution_count": 105,
   "metadata": {},
   "outputs": [],
   "source": [
    "peak_diff=[]"
   ]
  },
  {
   "cell_type": "code",
   "execution_count": 106,
   "metadata": {},
   "outputs": [],
   "source": [
    "for i in my_range(0, len(word)-1, 1):\n",
    "    diff=peak_visit[i]-peak_update[i]\n",
    "    peak_diff.append(diff)"
   ]
  },
  {
   "cell_type": "code",
   "execution_count": 111,
   "metadata": {},
   "outputs": [
    {
     "data": {
      "text/plain": [
       "(array([6., 2., 3., 7., 3., 7., 5., 1., 1., 1.]),\n",
       " array([-20. , -14.9,  -9.8,  -4.7,   0.4,   5.5,  10.6,  15.7,  20.8,\n",
       "         25.9,  31. ]),\n",
       " <a list of 10 Patch objects>)"
      ]
     },
     "execution_count": 111,
     "metadata": {},
     "output_type": "execute_result"
    },
    {
     "data": {
      "image/png": "[encoded data removed]",
      "text/plain": [
       "<Figure size 432x288 with 1 Axes>"
      ]
     },
     "metadata": {
      "image/png": {
       "height": 257,
       "width": 369
      }
     },
     "output_type": "display_data"
    }
   ],
   "source": [
    "plt.hist(peak_diff)"
   ]
  },
  {
   "cell_type": "code",
   "execution_count": 108,
   "metadata": {},
   "outputs": [
    {
     "data": {
      "text/plain": [
       "[28,\n",
       " 4,\n",
       " 23,\n",
       " 8,\n",
       " 21,\n",
       " 25,\n",
       " 19,\n",
       " 9,\n",
       " 29,\n",
       " 30,\n",
       " 20,\n",
       " 2,\n",
       " 24,\n",
       " 16,\n",
       " 18,\n",
       " 6,\n",
       " 14,\n",
       " 9,\n",
       " 33,\n",
       " 1,\n",
       " 21,\n",
       " 12,\n",
       " 2,\n",
       " 4,\n",
       " 33,\n",
       " 20,\n",
       " 15,\n",
       " 28,\n",
       " 3,\n",
       " 31,\n",
       " 4,\n",
       " 21,\n",
       " 10,\n",
       " 3,\n",
       " 24,\n",
       " 31]"
      ]
     },
     "execution_count": 108,
     "metadata": {},
     "output_type": "execute_result"
    }
   ],
   "source": [
    "peak_visit"
   ]
  },
  {
   "cell_type": "code",
   "execution_count": 76,
   "metadata": {},
   "outputs": [],
   "source": [
    "hotwords=pd.read_csv('./data/revisions/hot_10000.csv',sep='\t')\n",
    "hotwords.sort_values(by=['frequency'],ascending=False,inplace=True)"
   ]
  },
  {
   "cell_type": "code",
   "execution_count": 77,
   "metadata": {},
   "outputs": [
    {
     "data": {
      "text/html": [
       "<div>\n",
       "<style scoped>\n",
       "    .dataframe tbody tr th:only-of-type {\n",
       "        vertical-align: middle;\n",
       "    }\n",
       "\n",
       "    .dataframe tbody tr th {\n",
       "        vertical-align: top;\n",
       "    }\n",
       "\n",
       "    .dataframe thead th {\n",
       "        text-align: right;\n",
       "    }\n",
       "</style>\n",
       "<table border=\"1\" class=\"dataframe\">\n",
       "  <thead>\n",
       "    <tr style=\"text-align: right;\">\n",
       "      <th></th>\n",
       "      <th>entry</th>\n",
       "      <th>frequency</th>\n",
       "    </tr>\n",
       "  </thead>\n",
       "  <tbody>\n",
       "    <tr>\n",
       "      <th>8957</th>\n",
       "      <td>Wiki</td>\n",
       "      <td>444697</td>\n",
       "    </tr>\n",
       "    <tr>\n",
       "      <th>4032</th>\n",
       "      <td>World_War_II</td>\n",
       "      <td>63815</td>\n",
       "    </tr>\n",
       "    <tr>\n",
       "      <th>2164</th>\n",
       "      <td>Hard_disk</td>\n",
       "      <td>61565</td>\n",
       "    </tr>\n",
       "    <tr>\n",
       "      <th>3360</th>\n",
       "      <td>Heroes</td>\n",
       "      <td>55509</td>\n",
       "    </tr>\n",
       "    <tr>\n",
       "      <th>4660</th>\n",
       "      <td>Heroes</td>\n",
       "      <td>55509</td>\n",
       "    </tr>\n",
       "    <tr>\n",
       "      <th>8033</th>\n",
       "      <td>Data_(Star_Trek)</td>\n",
       "      <td>54397</td>\n",
       "    </tr>\n",
       "    <tr>\n",
       "      <th>7598</th>\n",
       "      <td>Super_Smash_Bros._Brawl</td>\n",
       "      <td>44364</td>\n",
       "    </tr>\n",
       "    <tr>\n",
       "      <th>9004</th>\n",
       "      <td>Che_Guevara</td>\n",
       "      <td>40104</td>\n",
       "    </tr>\n",
       "    <tr>\n",
       "      <th>5406</th>\n",
       "      <td>Blackwater_USA</td>\n",
       "      <td>38982</td>\n",
       "    </tr>\n",
       "    <tr>\n",
       "      <th>3139</th>\n",
       "      <td>Blackwater_USA</td>\n",
       "      <td>38982</td>\n",
       "    </tr>\n",
       "    <tr>\n",
       "      <th>8455</th>\n",
       "      <td>America's_Next_Top_Model</td>\n",
       "      <td>38958</td>\n",
       "    </tr>\n",
       "    <tr>\n",
       "      <th>8564</th>\n",
       "      <td>George_W._Bush</td>\n",
       "      <td>36817</td>\n",
       "    </tr>\n",
       "    <tr>\n",
       "      <th>9623</th>\n",
       "      <td>Halo_2</td>\n",
       "      <td>35737</td>\n",
       "    </tr>\n",
       "    <tr>\n",
       "      <th>1705</th>\n",
       "      <td>Periodic_table</td>\n",
       "      <td>35426</td>\n",
       "    </tr>\n",
       "    <tr>\n",
       "      <th>1020</th>\n",
       "      <td>PlayStation_3</td>\n",
       "      <td>35381</td>\n",
       "    </tr>\n",
       "    <tr>\n",
       "      <th>6078</th>\n",
       "      <td>Sasuke_Uchiha</td>\n",
       "      <td>34859</td>\n",
       "    </tr>\n",
       "    <tr>\n",
       "      <th>5487</th>\n",
       "      <td>In_Rainbows</td>\n",
       "      <td>34714</td>\n",
       "    </tr>\n",
       "    <tr>\n",
       "      <th>9192</th>\n",
       "      <td>WWE_No_Mercy</td>\n",
       "      <td>34299</td>\n",
       "    </tr>\n",
       "    <tr>\n",
       "      <th>3663</th>\n",
       "      <td>Halo_%28series%29</td>\n",
       "      <td>33675</td>\n",
       "    </tr>\n",
       "    <tr>\n",
       "      <th>3030</th>\n",
       "      <td>Master_Chief_%28Halo%29</td>\n",
       "      <td>32334</td>\n",
       "    </tr>\n",
       "    <tr>\n",
       "      <th>9764</th>\n",
       "      <td>Internet</td>\n",
       "      <td>31893</td>\n",
       "    </tr>\n",
       "    <tr>\n",
       "      <th>274</th>\n",
       "      <td>Jenna_Jameson</td>\n",
       "      <td>31368</td>\n",
       "    </tr>\n",
       "    <tr>\n",
       "      <th>6989</th>\n",
       "      <td>Land_of_Fire</td>\n",
       "      <td>30278</td>\n",
       "    </tr>\n",
       "    <tr>\n",
       "      <th>9771</th>\n",
       "      <td>Wiktionary</td>\n",
       "      <td>30005</td>\n",
       "    </tr>\n",
       "    <tr>\n",
       "      <th>3416</th>\n",
       "      <td>English_language</td>\n",
       "      <td>29693</td>\n",
       "    </tr>\n",
       "    <tr>\n",
       "      <th>3660</th>\n",
       "      <td>Turkey</td>\n",
       "      <td>29374</td>\n",
       "    </tr>\n",
       "    <tr>\n",
       "      <th>2520</th>\n",
       "      <td>Seven_Wonders_of_the_World</td>\n",
       "      <td>26481</td>\n",
       "    </tr>\n",
       "    <tr>\n",
       "      <th>2593</th>\n",
       "      <td>Edgar_Allan_Poe</td>\n",
       "      <td>26315</td>\n",
       "    </tr>\n",
       "    <tr>\n",
       "      <th>1848</th>\n",
       "      <td>Cuba</td>\n",
       "      <td>24516</td>\n",
       "    </tr>\n",
       "    <tr>\n",
       "      <th>6010</th>\n",
       "      <td>Resident_Evil</td>\n",
       "      <td>24230</td>\n",
       "    </tr>\n",
       "    <tr>\n",
       "      <th>...</th>\n",
       "      <td>...</td>\n",
       "      <td>...</td>\n",
       "    </tr>\n",
       "    <tr>\n",
       "      <th>5632</th>\n",
       "      <td>List_of_battleships_by_country</td>\n",
       "      <td>597</td>\n",
       "    </tr>\n",
       "    <tr>\n",
       "      <th>4172</th>\n",
       "      <td>Ido</td>\n",
       "      <td>597</td>\n",
       "    </tr>\n",
       "    <tr>\n",
       "      <th>2723</th>\n",
       "      <td>Amarillo_Slim</td>\n",
       "      <td>597</td>\n",
       "    </tr>\n",
       "    <tr>\n",
       "      <th>3358</th>\n",
       "      <td>Papercut_%28song%29</td>\n",
       "      <td>597</td>\n",
       "    </tr>\n",
       "    <tr>\n",
       "      <th>5761</th>\n",
       "      <td>List_of_Magic_Knight_Rayearth_characters</td>\n",
       "      <td>596</td>\n",
       "    </tr>\n",
       "    <tr>\n",
       "      <th>6753</th>\n",
       "      <td>ART</td>\n",
       "      <td>596</td>\n",
       "    </tr>\n",
       "    <tr>\n",
       "      <th>9277</th>\n",
       "      <td>List_of_simpsons_episodes</td>\n",
       "      <td>596</td>\n",
       "    </tr>\n",
       "    <tr>\n",
       "      <th>955</th>\n",
       "      <td>Star_of_Bethlehem</td>\n",
       "      <td>596</td>\n",
       "    </tr>\n",
       "    <tr>\n",
       "      <th>3619</th>\n",
       "      <td>List_of_skeletal_disorders</td>\n",
       "      <td>596</td>\n",
       "    </tr>\n",
       "    <tr>\n",
       "      <th>348</th>\n",
       "      <td>Prince_Aly_Khan</td>\n",
       "      <td>596</td>\n",
       "    </tr>\n",
       "    <tr>\n",
       "      <th>8188</th>\n",
       "      <td>Dance_Dance_Revolution_EXTREME_2</td>\n",
       "      <td>596</td>\n",
       "    </tr>\n",
       "    <tr>\n",
       "      <th>71</th>\n",
       "      <td>Krzysztof_Kie%C5%9Blowski</td>\n",
       "      <td>596</td>\n",
       "    </tr>\n",
       "    <tr>\n",
       "      <th>8692</th>\n",
       "      <td>High_School_Musical_%28album%29</td>\n",
       "      <td>596</td>\n",
       "    </tr>\n",
       "    <tr>\n",
       "      <th>7736</th>\n",
       "      <td>Found_art</td>\n",
       "      <td>596</td>\n",
       "    </tr>\n",
       "    <tr>\n",
       "      <th>1720</th>\n",
       "      <td>Victor_Frankenstein</td>\n",
       "      <td>595</td>\n",
       "    </tr>\n",
       "    <tr>\n",
       "      <th>8365</th>\n",
       "      <td>Augustana_%28band%29</td>\n",
       "      <td>595</td>\n",
       "    </tr>\n",
       "    <tr>\n",
       "      <th>1662</th>\n",
       "      <td>Parallelepiped</td>\n",
       "      <td>595</td>\n",
       "    </tr>\n",
       "    <tr>\n",
       "      <th>5914</th>\n",
       "      <td>TAP_Portugal</td>\n",
       "      <td>595</td>\n",
       "    </tr>\n",
       "    <tr>\n",
       "      <th>997</th>\n",
       "      <td>Here_I_Go_Again</td>\n",
       "      <td>595</td>\n",
       "    </tr>\n",
       "    <tr>\n",
       "      <th>567</th>\n",
       "      <td>Adjustable-speed_drive</td>\n",
       "      <td>595</td>\n",
       "    </tr>\n",
       "    <tr>\n",
       "      <th>4497</th>\n",
       "      <td>Vatican_Museums</td>\n",
       "      <td>595</td>\n",
       "    </tr>\n",
       "    <tr>\n",
       "      <th>1399</th>\n",
       "      <td>PETN</td>\n",
       "      <td>595</td>\n",
       "    </tr>\n",
       "    <tr>\n",
       "      <th>2371</th>\n",
       "      <td>Cherrymon</td>\n",
       "      <td>595</td>\n",
       "    </tr>\n",
       "    <tr>\n",
       "      <th>1358</th>\n",
       "      <td>Carlos_Newton</td>\n",
       "      <td>595</td>\n",
       "    </tr>\n",
       "    <tr>\n",
       "      <th>3309</th>\n",
       "      <td>Tacheometer</td>\n",
       "      <td>595</td>\n",
       "    </tr>\n",
       "    <tr>\n",
       "      <th>1841</th>\n",
       "      <td>Gaiking</td>\n",
       "      <td>595</td>\n",
       "    </tr>\n",
       "    <tr>\n",
       "      <th>8707</th>\n",
       "      <td>Carlos_Newton</td>\n",
       "      <td>595</td>\n",
       "    </tr>\n",
       "    <tr>\n",
       "      <th>7807</th>\n",
       "      <td>The_Outsider_%28video_game%29</td>\n",
       "      <td>595</td>\n",
       "    </tr>\n",
       "    <tr>\n",
       "      <th>1388</th>\n",
       "      <td>Stud</td>\n",
       "      <td>595</td>\n",
       "    </tr>\n",
       "    <tr>\n",
       "      <th>5638</th>\n",
       "      <td>Image_map</td>\n",
       "      <td>595</td>\n",
       "    </tr>\n",
       "  </tbody>\n",
       "</table>\n",
       "<p>10000 rows × 2 columns</p>\n",
       "</div>"
      ],
      "text/plain": [
       "                                         entry  frequency\n",
       "8957                                      Wiki     444697\n",
       "4032                              World_War_II      63815\n",
       "2164                                 Hard_disk      61565\n",
       "3360                                    Heroes      55509\n",
       "4660                                    Heroes      55509\n",
       "8033                          Data_(Star_Trek)      54397\n",
       "7598                   Super_Smash_Bros._Brawl      44364\n",
       "9004                               Che_Guevara      40104\n",
       "5406                            Blackwater_USA      38982\n",
       "3139                            Blackwater_USA      38982\n",
       "8455                  America's_Next_Top_Model      38958\n",
       "8564                            George_W._Bush      36817\n",
       "9623                                    Halo_2      35737\n",
       "1705                            Periodic_table      35426\n",
       "1020                             PlayStation_3      35381\n",
       "6078                             Sasuke_Uchiha      34859\n",
       "5487                               In_Rainbows      34714\n",
       "9192                              WWE_No_Mercy      34299\n",
       "3663                         Halo_%28series%29      33675\n",
       "3030                   Master_Chief_%28Halo%29      32334\n",
       "9764                                  Internet      31893\n",
       "274                              Jenna_Jameson      31368\n",
       "6989                              Land_of_Fire      30278\n",
       "9771                                Wiktionary      30005\n",
       "3416                          English_language      29693\n",
       "3660                                    Turkey      29374\n",
       "2520                Seven_Wonders_of_the_World      26481\n",
       "2593                           Edgar_Allan_Poe      26315\n",
       "1848                                      Cuba      24516\n",
       "6010                             Resident_Evil      24230\n",
       "...                                        ...        ...\n",
       "5632            List_of_battleships_by_country        597\n",
       "4172                                       Ido        597\n",
       "2723                             Amarillo_Slim        597\n",
       "3358                       Papercut_%28song%29        597\n",
       "5761  List_of_Magic_Knight_Rayearth_characters        596\n",
       "6753                                       ART        596\n",
       "9277                 List_of_simpsons_episodes        596\n",
       "955                          Star_of_Bethlehem        596\n",
       "3619                List_of_skeletal_disorders        596\n",
       "348                            Prince_Aly_Khan        596\n",
       "8188          Dance_Dance_Revolution_EXTREME_2        596\n",
       "71                   Krzysztof_Kie%C5%9Blowski        596\n",
       "8692           High_School_Musical_%28album%29        596\n",
       "7736                                 Found_art        596\n",
       "1720                       Victor_Frankenstein        595\n",
       "8365                      Augustana_%28band%29        595\n",
       "1662                            Parallelepiped        595\n",
       "5914                              TAP_Portugal        595\n",
       "997                            Here_I_Go_Again        595\n",
       "567                     Adjustable-speed_drive        595\n",
       "4497                           Vatican_Museums        595\n",
       "1399                                      PETN        595\n",
       "2371                                 Cherrymon        595\n",
       "1358                             Carlos_Newton        595\n",
       "3309                               Tacheometer        595\n",
       "1841                                   Gaiking        595\n",
       "8707                             Carlos_Newton        595\n",
       "7807             The_Outsider_%28video_game%29        595\n",
       "1388                                      Stud        595\n",
       "5638                                 Image_map        595\n",
       "\n",
       "[10000 rows x 2 columns]"
      ]
     },
     "execution_count": 77,
     "metadata": {},
     "output_type": "execute_result"
    }
   ],
   "source": [
    "hotwords"
   ]
  },
  {
   "cell_type": "code",
   "execution_count": 17,
   "metadata": {},
   "outputs": [
    {
     "data": {
      "text/plain": [
       "['Diabetes',\n",
       " 'The_Death_of_Superman',\n",
       " 'United_States_presidential_election,_2008',\n",
       " 'Saw_III',\n",
       " 'Longitude',\n",
       " 'Hurricane',\n",
       " 'Adjective',\n",
       " 'Mexican-American_War',\n",
       " 'Fifa_08',\n",
       " 'Hillary_Clinton',\n",
       " 'United_States_Senate',\n",
       " 'Jodie_Foster',\n",
       " 'Vector_graphics',\n",
       " 'Taylor_series',\n",
       " 'Cannabis_(drug)',\n",
       " 'War_in_Iraq',\n",
       " 'Karrine_Steffans',\n",
       " 'Paul_Revere',\n",
       " 'Wes_Anderson',\n",
       " 'Goosebumps',\n",
       " 'Phentermine',\n",
       " 'South_America',\n",
       " 'Samhain',\n",
       " 'Adam_Smith',\n",
       " 'Failure',\n",
       " 'Continent',\n",
       " 'Niels_Bohr',\n",
       " 'Conference_calls',\n",
       " 'Circulatory_system',\n",
       " 'Chinese_New_Year',\n",
       " 'History_of_the_Internet',\n",
       " 'MSN_Hotmail',\n",
       " 'Isotope',\n",
       " 'First_Amendment',\n",
       " 'List_of_Goosebumps_books',\n",
       " 'Flight_of_the_Conchords',\n",
       " 'America%27s_next_top_model']"
      ]
     },
     "execution_count": 17,
     "metadata": {},
     "output_type": "execute_result"
    }
   ],
   "source": [
    "word"
   ]
  },
  {
   "cell_type": "code",
   "execution_count": null,
   "metadata": {},
   "outputs": [],
   "source": [
    "len(times[\"New_York\"])"
   ]
  },
  {
   "cell_type": "code",
   "execution_count": null,
   "metadata": {},
   "outputs": [],
   "source": [
    "len(times)"
   ]
  },
  {
   "cell_type": "code",
   "execution_count": null,
   "metadata": {},
   "outputs": [],
   "source": [
    "float(times[\"New_York\"][0])"
   ]
  },
  {
   "cell_type": "code",
   "execution_count": null,
   "metadata": {},
   "outputs": [],
   "source": [
    "listdate=[]\n",
    "a=float(times[\"New_York\"][0])\n",
    "datetime.fromtimestamp(a)\n",
    "listdate.append(datetime.fromtimestamp(a))"
   ]
  },
  {
   "cell_type": "code",
   "execution_count": null,
   "metadata": {},
   "outputs": [],
   "source": [
    "listdate[0].month"
   ]
  },
  {
   "cell_type": "code",
   "execution_count": null,
   "metadata": {},
   "outputs": [],
   "source": [
    "len(times.keys())"
   ]
  },
  {
   "cell_type": "code",
   "execution_count": null,
   "metadata": {},
   "outputs": [],
   "source": [
    "listdate=[]\n",
    "for i in range(0,len(times[\"New_York\"])):\n",
    "    a=float(times[\"New_York\"][i])\n",
    "    listdate.append(datetime.fromtimestamp(a))"
   ]
  },
  {
   "cell_type": "code",
   "execution_count": null,
   "metadata": {},
   "outputs": [],
   "source": [
    "start=datetime.fromtimestamp(1190146243)\n",
    "end=datetime.fromtimestamp(1192994591)"
   ]
  },
  {
   "cell_type": "code",
   "execution_count": null,
   "metadata": {},
   "outputs": [],
   "source": [
    "start"
   ]
  },
  {
   "cell_type": "code",
   "execution_count": null,
   "metadata": {},
   "outputs": [],
   "source": [
    "end"
   ]
  },
  {
   "cell_type": "code",
   "execution_count": null,
   "metadata": {},
   "outputs": [],
   "source": [
    "listdate"
   ]
  },
  {
   "cell_type": "code",
   "execution_count": null,
   "metadata": {},
   "outputs": [],
   "source": [
    "X=[]\n",
    "for i in range(0,len(times[\"New_York\"])):\n",
    "    if(listdate[i].month==9):\n",
    "        value=listdate[i].day-17\n",
    "    else:\n",
    "        value=listdate[i].day+13\n",
    "    X.append(value)      "
   ]
  },
  {
   "cell_type": "code",
   "execution_count": null,
   "metadata": {},
   "outputs": [],
   "source": [
    "X.sort()"
   ]
  },
  {
   "cell_type": "code",
   "execution_count": null,
   "metadata": {},
   "outputs": [],
   "source": [
    "np.var(X)"
   ]
  },
  {
   "cell_type": "code",
   "execution_count": null,
   "metadata": {},
   "outputs": [],
   "source": [
    "plt.hist(X,34)"
   ]
  },
  {
   "cell_type": "code",
   "execution_count": null,
   "metadata": {},
   "outputs": [],
   "source": [
    "hotwords=pd.read_csv('./data/revisions/hot_10000.csv',sep='\t')\n",
    "hotwords.sort_values(by=['frequency'],ascending=False,inplace=True)"
   ]
  },
  {
   "cell_type": "code",
   "execution_count": null,
   "metadata": {},
   "outputs": [],
   "source": [
    "times[\"World_War_II\"]"
   ]
  },
  {
   "cell_type": "code",
   "execution_count": null,
   "metadata": {},
   "outputs": [],
   "source": [
    "hotwords"
   ]
  },
  {
   "cell_type": "code",
   "execution_count": 22,
   "metadata": {},
   "outputs": [],
   "source": [
    "listdate=[]\n",
    "for i in range(0,len(times[\"World_War_II\"])):\n",
    "    a=float(times[\"World_War_II\"][i])\n",
    "    listdate.append(datetime.fromtimestamp(a))"
   ]
  },
  {
   "cell_type": "code",
   "execution_count": 23,
   "metadata": {},
   "outputs": [],
   "source": [
    "X=[]\n",
    "for i in range(0,len(times[\"World_War_II\"])):\n",
    "    if(listdate[i].month==9):\n",
    "        value=listdate[i].day-17\n",
    "    else:\n",
    "        value=listdate[i].day+13\n",
    "    X.append(value) "
   ]
  },
  {
   "cell_type": "code",
   "execution_count": 24,
   "metadata": {},
   "outputs": [
    {
     "data": {
      "text/plain": [
       "(array([ 290., 2087., 1789., 1587., 5300., 2079., 5348., 2263., 2046.,\n",
       "        2171., 1588., 1258., 1708., 2229., 2426., 2315., 2089., 1891.,\n",
       "        1229., 1461., 2051., 2171., 1877., 2147., 1659., 1231., 1592.,\n",
       "        2114., 2278., 2062., 2075., 1754., 1195., 1000.]),\n",
       " array([ 1.        ,  1.97058824,  2.94117647,  3.91176471,  4.88235294,\n",
       "         5.85294118,  6.82352941,  7.79411765,  8.76470588,  9.73529412,\n",
       "        10.70588235, 11.67647059, 12.64705882, 13.61764706, 14.58823529,\n",
       "        15.55882353, 16.52941176, 17.5       , 18.47058824, 19.44117647,\n",
       "        20.41176471, 21.38235294, 22.35294118, 23.32352941, 24.29411765,\n",
       "        25.26470588, 26.23529412, 27.20588235, 28.17647059, 29.14705882,\n",
       "        30.11764706, 31.08823529, 32.05882353, 33.02941176, 34.        ]),\n",
       " <a list of 34 Patch objects>)"
      ]
     },
     "execution_count": 24,
     "metadata": {},
     "output_type": "execute_result"
    },
    {
     "data": {
      "image/png": "[encoded data removed]",
      "text/plain": [
       "<Figure size 432x288 with 1 Axes>"
      ]
     },
     "metadata": {},
     "output_type": "display_data"
    }
   ],
   "source": [
    "plt.hist(X,34)"
   ]
  },
  {
   "cell_type": "markdown",
   "metadata": {},
   "source": [
    "## No possion distribution, \n",
    "On Sep 23, there comes a new mini series \"The War\", so the visits increase."
   ]
  },
  {
   "cell_type": "code",
   "execution_count": null,
   "metadata": {},
   "outputs": [],
   "source": [
    "np.var(X)"
   ]
  },
  {
   "cell_type": "code",
   "execution_count": 25,
   "metadata": {},
   "outputs": [],
   "source": [
    "unique, counts = np.unique(X, return_counts=True)\n",
    "ww2=dict(zip(unique, counts))"
   ]
  },
  {
   "cell_type": "code",
   "execution_count": 26,
   "metadata": {},
   "outputs": [],
   "source": [
    "list_ww=list(ww2.values())"
   ]
  },
  {
   "cell_type": "code",
   "execution_count": 27,
   "metadata": {},
   "outputs": [
    {
     "data": {
      "text/plain": [
       "[290,\n",
       " 2087,\n",
       " 1789,\n",
       " 1587,\n",
       " 5300,\n",
       " 2079,\n",
       " 5348,\n",
       " 2263,\n",
       " 2046,\n",
       " 2171,\n",
       " 1588,\n",
       " 1258,\n",
       " 1708,\n",
       " 2229,\n",
       " 2426,\n",
       " 2315,\n",
       " 2089,\n",
       " 1891,\n",
       " 1229,\n",
       " 1461,\n",
       " 2051,\n",
       " 2171,\n",
       " 1877,\n",
       " 2147,\n",
       " 1659,\n",
       " 1231,\n",
       " 1592,\n",
       " 2114,\n",
       " 2278,\n",
       " 2062,\n",
       " 2075,\n",
       " 1754,\n",
       " 1195,\n",
       " 1000]"
      ]
     },
     "execution_count": 27,
     "metadata": {},
     "output_type": "execute_result"
    }
   ],
   "source": [
    "list_ww"
   ]
  },
  {
   "cell_type": "code",
   "execution_count": 29,
   "metadata": {},
   "outputs": [],
   "source": [
    "from scipy import stats\n",
    "a,b=stats.kstest(list_ww, lambda x: (x-290) / (5000))"
   ]
  },
  {
   "cell_type": "code",
   "execution_count": 30,
   "metadata": {},
   "outputs": [
    {
     "data": {
      "text/plain": [
       "0.5139764705882353"
      ]
     },
     "execution_count": 30,
     "metadata": {},
     "output_type": "execute_result"
    }
   ],
   "source": [
    "a"
   ]
  },
  {
   "cell_type": "code",
   "execution_count": null,
   "metadata": {},
   "outputs": [],
   "source": [
    "revisions_record = load_data('data/revisions/revision_records.pkl')"
   ]
  },
  {
   "cell_type": "code",
   "execution_count": null,
   "metadata": {},
   "outputs": [],
   "source": [
    "revisions_record[\"World_War_II\"][0]"
   ]
  },
  {
   "cell_type": "code",
   "execution_count": null,
   "metadata": {},
   "outputs": [],
   "source": [
    "length=len(revisions_record[\"World_War_II\"])/5\n",
    "update_list=[]\n",
    "for i in range(0,int(length)):\n",
    "    a=revisions_record[\"World_War_II\"][i].timestamp\n",
    "    update_list.append(datetime.fromtimestamp(a))"
   ]
  },
  {
   "cell_type": "code",
   "execution_count": null,
   "metadata": {},
   "outputs": [],
   "source": [
    "update_list"
   ]
  },
  {
   "cell_type": "code",
   "execution_count": null,
   "metadata": {},
   "outputs": [],
   "source": [
    "update_X=[]\n",
    "for i in range(0,int(length)):\n",
    "    if(update_list[i].month==9):\n",
    "        value=update_list[i].day-17\n",
    "    else:\n",
    "        value=update_list[i].day+13\n",
    "    update_X.append(value) "
   ]
  },
  {
   "cell_type": "code",
   "execution_count": null,
   "metadata": {},
   "outputs": [],
   "source": [
    "len(update_X)"
   ]
  },
  {
   "cell_type": "code",
   "execution_count": null,
   "metadata": {},
   "outputs": [],
   "source": [
    "unique, counts = np.unique(update_X, return_counts=True)\n",
    "ww2_update=dict(zip(unique, counts))"
   ]
  },
  {
   "cell_type": "code",
   "execution_count": null,
   "metadata": {},
   "outputs": [],
   "source": [
    "ww2_update"
   ]
  },
  {
   "cell_type": "code",
   "execution_count": null,
   "metadata": {},
   "outputs": [],
   "source": [
    "xlabel=[]\n",
    "for i in range(0,34):\n",
    "    xlabel.append(i+1)"
   ]
  },
  {
   "cell_type": "code",
   "execution_count": null,
   "metadata": {},
   "outputs": [],
   "source": [
    "plt.figure(figsize=(8,4)) \n",
    "l1, = plt.plot(xlabel, list_ww, label='actual value')\n",
    "#l2, = plt.plot(xlabel, list_ww_update, color='red', linewidth=1.0, linestyle='--', label='prediction value')\n",
    "plt.xlabel(\"day\")\n",
    "plt.ylabel(\"value\")\n",
    "plt.legend(loc='upper right')\n",
    "plt.title(\"World War II\")\n",
    "plt.show() "
   ]
  },
  {
   "cell_type": "code",
   "execution_count": null,
   "metadata": {},
   "outputs": [],
   "source": [
    "\n",
    "plt.figure(figsize=(8,4)) \n",
    "#l1, = plt.plot(xlabel, list_ww, label='actual value')\n",
    "l2, = plt.plot(ww2_update.keys(), ww2_update.values(), color='red', linewidth=1.0, linestyle='--', label='prediction value')\n",
    "plt.xlabel(\"day\")\n",
    "plt.ylabel(\"value\")\n",
    "plt.legend(loc='upper right')\n",
    "plt.title(\"World War II\")\n",
    "plt.show() "
   ]
  },
  {
   "cell_type": "markdown",
   "metadata": {},
   "source": [
    "## revision update"
   ]
  },
  {
   "cell_type": "code",
   "execution_count": 9,
   "metadata": {},
   "outputs": [],
   "source": [
    "revisions_record = load_data('data/dump/revision_records.pkl')"
   ]
  },
  {
   "cell_type": "code",
   "execution_count": 49,
   "metadata": {},
   "outputs": [],
   "source": [
    "length=len(revisions_record.loc['Batman','timestamp'])\n",
    "update_list=[]\n",
    "for i in range(0,int(length)):\n",
    "    a=revisions_record.loc['Batman','timestamp'][i]\n",
    "    update_list.append(datetime.fromtimestamp(a))\n",
    "update_X=[]\n",
    "for i in range(0,int(length)):\n",
    "    if(update_list[i].month==9):\n",
    "        value=update_list[i].day-17\n",
    "    else:\n",
    "        value=update_list[i].day+13\n",
    "    update_X.append(value) \n",
    "unique, counts = np.unique(update_X, return_counts=True)\n",
    "ww2_update=dict(zip(unique, counts))"
   ]
  },
  {
   "cell_type": "code",
   "execution_count": 56,
   "metadata": {},
   "outputs": [],
   "source": [
    "update_max=max(ww2_update.items(), key=operator.itemgetter(1))[0]"
   ]
  },
  {
   "cell_type": "code",
   "execution_count": 68,
   "metadata": {},
   "outputs": [],
   "source": [
    "sd = sorted(ww2_update.items())\n",
    "x = [item[0] for item in sd]\n",
    "y = [item[1] for item in sd]"
   ]
  },
  {
   "cell_type": "code",
   "execution_count": 51,
   "metadata": {},
   "outputs": [
    {
     "data": {
      "image/png": "[encoded data removed]",
      "text/plain": [
       "<Figure size 576x288 with 1 Axes>"
      ]
     },
     "metadata": {},
     "output_type": "display_data"
    }
   ],
   "source": [
    "plt.figure(figsize=(8,4)) \n",
    "#l1, = plt.plot(xlabel, list_ww, label='actual value')\n",
    "l2, = plt.plot(x, y, color='red', linewidth=1.0, linestyle='--', label='prediction value')\n",
    "plt.xlabel(\"day\")\n",
    "plt.ylabel(\"value\")\n",
    "plt.legend(loc='upper right')\n",
    "plt.title(\"Batman\")\n",
    "plt.show() "
   ]
  },
  {
   "cell_type": "markdown",
   "metadata": {},
   "source": [
    "## visits "
   ]
  },
  {
   "cell_type": "code",
   "execution_count": 81,
   "metadata": {},
   "outputs": [],
   "source": [
    "listdate=[]\n",
    "for i in range(0,len(times[\"Batman\"])):\n",
    "    a=float(times[\"Batman\"][i])\n",
    "    listdate.append(datetime.fromtimestamp(a))\n",
    "X=[]\n",
    "for i in range(0,len(times[\"Batman\"])):\n",
    "    if(listdate[i].month==9):\n",
    "        value=listdate[i].day-17\n",
    "    else:\n",
    "        value=listdate[i].day+13\n",
    "    X.append(value) \n",
    "unique, counts = np.unique(X, return_counts=True)\n",
    "ww2=dict(zip(unique, counts))\n",
    "list_ww=list(ww2.values())"
   ]
  },
  {
   "cell_type": "code",
   "execution_count": 82,
   "metadata": {},
   "outputs": [],
   "source": [
    "vist_max=max(ww2.items(), key=operator.itemgetter(1))[0]"
   ]
  },
  {
   "cell_type": "code",
   "execution_count": 94,
   "metadata": {},
   "outputs": [],
   "source": [
    "valuesorted=sorted(ww2.items(),key=lambda item:item[1])"
   ]
  },
  {
   "cell_type": "code",
   "execution_count": 104,
   "metadata": {},
   "outputs": [],
   "source": [
    "f1=valuesorted[len(valuesorted)-1][0]\n",
    "f2=valuesorted[len(valuesorted)-2][0]"
   ]
  },
  {
   "cell_type": "code",
   "execution_count": 92,
   "metadata": {},
   "outputs": [
    {
     "data": {
      "image/png": "[encoded data removed]",
      "text/plain": [
       "<Figure size 576x288 with 1 Axes>"
      ]
     },
     "metadata": {},
     "output_type": "display_data"
    }
   ],
   "source": [
    "xlabel=[]\n",
    "for i in range(0,34):\n",
    "    xlabel.append(i+1)\n",
    "plt.figure(figsize=(8,4)) \n",
    "l1, = plt.plot(xlabel, list_ww, label='actual value')\n",
    "#l2, = plt.plot(xlabel, list_ww_update, color='red', linewidth=1.0, linestyle='--', label='prediction value')\n",
    "plt.xlabel(\"day\")\n",
    "plt.ylabel(\"value\")\n",
    "plt.legend(loc='upper right')\n",
    "plt.title(\"Batman\")\n",
    "plt.show() "
   ]
  },
  {
   "cell_type": "code",
   "execution_count": null,
   "metadata": {},
   "outputs": [],
   "source": []
  }
 ],
 "metadata": {
  "kernelspec": {
   "display_name": "Python 3",
   "language": "python",
   "name": "python3"
  },
  "language_info": {
   "codemirror_mode": {
    "name": "ipython",
    "version": 3
   },
   "file_extension": ".py",
   "mimetype": "text/x-python",
   "name": "python",
   "nbconvert_exporter": "python",
   "pygments_lexer": "ipython3",
   "version": "3.5.2"
  }
 },
 "nbformat": 4,
 "nbformat_minor": 2
}
