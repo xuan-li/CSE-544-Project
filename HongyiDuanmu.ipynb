{
 "cells": [
  {
   "cell_type": "code",
   "execution_count": 1,
   "metadata": {},
   "outputs": [],
   "source": [
    "from matplotlib import pyplot as plt\n",
    "import seaborn as sns\n",
    "from collections import Counter\n",
    "from datetime import datetime\n",
    "import os\n",
    "from tqdm import tqdm_notebook as tqdm\n",
    "%config InlineBackend.figure_format = 'retina'\n",
    "import numpy as np\n",
    "import re\n",
    "import math\n",
    "from pandas import Series\n",
    "import pandas\n",
    "import wikipediaapi\n",
    "import csv\n",
    "from tqdm import tqdm\n",
    "from urllib.parse import unquote\n",
    "import wikipedia"
   ]
  },
  {
   "cell_type": "code",
   "execution_count": null,
   "metadata": {
    "collapsed": true
   },
   "outputs": [
    {
     "name": "stderr",
     "output_type": "stream",
     "text": [
      "1423154it [00:04, 320773.27it/s]\n",
      "1173477it [00:04, 253894.75it/s]\n",
      "894097it [00:03, 274019.58it/s]\n",
      "865450it [00:03, 255109.44it/s]\n",
      "1068983it [00:04, 252471.09it/s]\n",
      "949698it [00:03, 272771.84it/s]\n",
      "1281118it [00:04, 264030.10it/s]\n",
      "643511it [00:02, 263336.56it/s]\n",
      "916873it [00:03, 263901.93it/s]\n",
      "808530it [00:03, 252886.03it/s]\n",
      "794616it [00:03, 257500.27it/s]\n",
      "1440248it [00:05, 278723.64it/s]\n",
      "1407393it [00:05, 245248.30it/s]\n",
      "996312it [00:03, 268738.11it/s]\n",
      "986232it [00:03, 269003.23it/s]\n",
      "1215733it [00:04, 279715.92it/s]\n",
      "1450023it [00:05, 262154.92it/s]\n",
      "1386665it [00:05, 270459.66it/s]\n",
      "1276431it [00:04, 262142.04it/s]\n",
      "1489596it [00:05, 259689.09it/s]\n",
      "1007934it [00:03, 262632.35it/s]\n",
      "1167278it [00:04, 270797.30it/s]\n",
      "937447it [00:03, 256435.71it/s]\n",
      "1331800it [00:04, 268755.89it/s]\n",
      "1236135it [00:04, 267663.05it/s]\n",
      "1243350it [00:04, 260579.16it/s]\n",
      "1484860it [00:05, 260734.63it/s]\n",
      "834710it [00:03, 263981.38it/s]\n",
      "886794it [00:03, 258685.20it/s]\n",
      "901532it [00:03, 246267.05it/s]\n",
      "938182it [00:03, 252866.99it/s]\n",
      "1025894it [00:03, 268421.03it/s]\n",
      "994890it [00:03, 260666.18it/s]\n",
      "1015545it [00:03, 281958.50it/s]\n",
      "1289791it [00:04, 274632.35it/s]\n",
      "1140437it [00:04, 258695.06it/s]\n",
      "985212it [00:03, 272430.66it/s]\n",
      "1067534it [00:04, 260771.09it/s]\n",
      "872121it [00:03, 260334.91it/s]\n",
      "1479216it [00:05, 249274.37it/s]\n",
      "879372it [00:03, 267120.95it/s]\n",
      "1426798it [00:05, 256693.78it/s]\n",
      "948653it [00:04, 231741.48it/s]\n",
      "843125it [00:03, 244447.59it/s]\n",
      "1315453it [00:04, 272526.94it/s]\n",
      "950186it [00:03, 268278.14it/s]\n",
      "1360273it [00:05, 260220.98it/s]\n",
      "1373994it [00:04, 279363.61it/s]\n",
      "966689it [00:03, 257726.86it/s]\n",
      "937568it [00:03, 257570.16it/s]\n",
      "923403it [00:03, 264394.72it/s]\n",
      "1087584it [00:04, 255469.11it/s]\n",
      "957494it [00:03, 252706.36it/s]\n",
      "1160830it [00:04, 260389.58it/s]\n",
      "1059164it [00:04, 256978.48it/s]\n",
      "1309060it [00:05, 246697.72it/s]\n",
      "1453639it [00:05, 267623.81it/s]\n",
      "703392it [00:03, 231067.83it/s]\n",
      "712604it [00:02, 250912.78it/s]\n",
      "777058it [00:03, 233354.75it/s]\n",
      "740399it [00:02, 274543.50it/s]\n",
      "992533it [00:03, 261305.53it/s]\n",
      "1061429it [00:04, 238385.26it/s]\n",
      "1407968it [00:05, 277493.13it/s]\n",
      "799042it [00:03, 264683.79it/s]\n",
      "1062820it [00:04, 262789.73it/s]\n",
      "1344934it [00:04, 275741.94it/s]\n",
      "887770it [00:03, 262870.13it/s]\n",
      "1289032it [00:04, 266351.03it/s]\n",
      "839414it [00:03, 252220.15it/s]\n",
      "1011378it [00:03, 272283.91it/s]\n",
      "770177it [00:02, 261446.66it/s]\n",
      "1276960it [00:05, 251599.38it/s]\n",
      "1007278it [00:04, 248939.22it/s]\n",
      "1099025it [00:04, 271494.51it/s]\n",
      "1278193it [00:04, 264859.97it/s]\n",
      "1016364it [00:03, 267815.72it/s]\n",
      "906066it [00:03, 254392.71it/s]\n",
      "958483it [00:03, 268209.21it/s]\n",
      "1295252it [00:05, 250639.18it/s]\n",
      "1227883it [00:04, 268586.54it/s]\n",
      "833931it [00:03, 265545.45it/s]\n",
      "761159it [00:02, 259837.80it/s]\n",
      "856084it [00:03, 273580.75it/s]\n",
      "1191548it [00:04, 260191.55it/s]\n",
      "1284616it [00:04, 259275.89it/s]\n",
      "1056379it [00:04, 250515.30it/s]\n",
      "819840it [00:03, 242814.18it/s]\n",
      "854343it [00:03, 250767.53it/s]\n",
      "983656it [00:03, 255872.81it/s]\n",
      "1086590it [00:03, 271666.80it/s]\n",
      "722569it [00:02, 251203.00it/s]\n",
      "1163846it [00:04, 275293.07it/s]\n",
      "1439153it [00:04, 306415.40it/s]\n",
      "1398934it [00:04, 317583.91it/s]\n",
      "1313510it [00:04, 314889.10it/s]\n",
      "858151it [00:02, 299128.10it/s]\n",
      "1488329it [00:05, 297310.09it/s]\n",
      "1084377it [00:03, 311242.26it/s]\n",
      "1115047it [00:03, 302363.58it/s]\n",
      "845960it [00:02, 312157.17it/s]\n",
      "845164it [00:02, 315191.93it/s]\n",
      "886102it [00:02, 327445.07it/s]\n",
      "1032332it [00:03, 322277.67it/s]\n",
      "1084187it [00:03, 324139.28it/s]\n",
      "1041890it [00:03, 318667.87it/s]\n",
      "1048968it [00:03, 325065.72it/s]\n",
      "837669it [00:02, 291134.52it/s]\n",
      "1131352it [00:03, 315646.21it/s]\n",
      "762776it [00:03, 242094.03it/s]\n",
      "1471837it [00:04, 307855.45it/s]\n",
      "676313it [00:02, 282217.10it/s]\n",
      "1197467it [00:03, 303108.94it/s]\n",
      "915297it [00:03, 301162.09it/s]\n",
      "829411it [00:02, 297224.31it/s]\n",
      "932340it [00:03, 300118.11it/s]\n",
      "1022320it [00:03, 310121.74it/s]\n",
      "807004it [00:02, 326955.33it/s]\n",
      "910860it [00:02, 314097.39it/s]\n",
      "779557it [00:02, 304885.55it/s]\n",
      "1460669it [00:04, 311368.09it/s]\n",
      "1022260it [00:03, 305682.56it/s]\n",
      "1079086it [00:03, 334937.40it/s]\n",
      "986621it [00:03, 288994.91it/s]\n",
      "929508it [00:03, 299767.27it/s]\n",
      "810820it [00:02, 281941.16it/s]\n",
      "832314it [00:02, 296790.19it/s]\n",
      "895303it [00:02, 303011.27it/s]\n",
      "1218330it [00:03, 323380.87it/s]\n",
      "1501164it [00:04, 309392.91it/s]\n",
      "967515it [00:03, 306140.26it/s]\n",
      "1032376it [00:03, 301797.27it/s]\n",
      "924812it [00:02, 314036.24it/s]\n",
      "1460994it [00:04, 315244.12it/s]\n",
      "913060it [00:03, 282398.83it/s]\n",
      "774576it [00:02, 284550.70it/s]\n",
      "1126712it [00:03, 330129.88it/s]\n",
      "776847it [00:02, 286161.08it/s]\n",
      "777380it [00:02, 309480.18it/s]\n",
      "961464it [00:03, 304543.56it/s]\n",
      "772294it [00:02, 303430.21it/s]\n",
      "1435319it [00:04, 329808.38it/s]\n",
      "950049it [00:02, 324318.63it/s]\n",
      "742767it [00:02, 311511.30it/s]\n",
      "1103123it [00:03, 321552.29it/s]\n",
      "1099138it [00:03, 314578.17it/s]\n",
      "1093914it [00:03, 330657.05it/s]\n",
      "808274it [00:02, 314520.49it/s]\n",
      "1123900it [00:03, 327049.38it/s]\n",
      "1497201it [00:04, 314817.51it/s]\n",
      "1057106it [00:03, 323577.66it/s]\n",
      "1140324it [00:03, 324121.48it/s]\n",
      "1183258it [00:03, 299638.98it/s]\n",
      "1109061it [00:03, 325910.37it/s]\n",
      "730095it [00:02, 302688.31it/s]\n",
      "883988it [00:03, 292037.86it/s]\n",
      "809564it [00:02, 292326.39it/s]\n",
      "813550it [00:02, 322207.35it/s]\n",
      "1346252it [00:04, 305580.45it/s]\n",
      "733393it [00:02, 298027.67it/s]\n",
      "811001it [00:02, 317663.22it/s]\n",
      "792465it [00:02, 311668.87it/s]\n",
      "921746it [00:02, 331885.17it/s]\n",
      "1510948it [00:04, 327600.65it/s]\n",
      "1406942it [00:04, 345604.19it/s]\n",
      "824785it [00:02, 323752.07it/s]\n",
      "1051581it [00:03, 326171.06it/s]\n",
      "1420788it [00:04, 314012.14it/s]\n",
      "981488it [00:03, 294172.33it/s]\n",
      "890791it [00:02, 316048.15it/s]\n",
      "1503653it [00:05, 288830.89it/s]\n",
      "813298it [00:02, 316249.78it/s]\n",
      "762549it [00:02, 292958.73it/s]\n",
      "944714it [00:03, 300685.49it/s]\n",
      "947669it [00:03, 302669.95it/s]\n",
      "1453312it [00:04, 338478.52it/s]\n",
      "893320it [00:03, 285929.04it/s]\n",
      "1146872it [00:03, 321347.16it/s]\n",
      "1064715it [00:03, 293702.43it/s]\n",
      "1371757it [00:04, 323270.51it/s]\n",
      "1150903it [00:03, 302974.98it/s]\n",
      "1082175it [00:03, 310051.90it/s]\n",
      "1464823it [00:04, 316598.06it/s]\n",
      "852449it [00:02, 308422.75it/s]\n",
      "821322it [00:02, 292447.32it/s]\n",
      "1460963it [00:05, 292014.19it/s]\n",
      "1003178it [00:03, 269848.74it/s]\n",
      "1107423it [00:04, 257509.11it/s]\n",
      "992491it [00:03, 249200.34it/s]\n",
      "1453120it [00:05, 261081.87it/s]\n",
      "1010449it [00:03, 274627.23it/s]\n",
      "1267346it [00:04, 265628.21it/s]\n",
      "865165it [00:03, 273458.56it/s]\n",
      "953263it [00:03, 255686.58it/s]\n",
      "1412440it [00:05, 267456.21it/s]\n",
      "1017101it [00:03, 266293.44it/s]\n",
      "1080745it [00:04, 265190.31it/s]\n",
      "1404761it [00:05, 259508.50it/s]\n",
      "1011625it [00:03, 269126.18it/s]\n",
      "625895it [00:02, 257333.73it/s]\n",
      "1383789it [00:05, 257183.30it/s]\n",
      "1289034it [00:05, 254071.60it/s]\n",
      "861413it [00:03, 263349.62it/s]\n",
      "835941it [00:03, 244690.39it/s]\n",
      "1317803it [00:04, 274539.59it/s]\n",
      "874872it [00:03, 250108.74it/s]\n",
      "1092069it [00:04, 253867.37it/s]\n",
      "937241it [00:03, 244871.07it/s]\n",
      "833873it [00:03, 275920.43it/s]\n",
      "1304850it [00:04, 265939.85it/s]\n",
      "1517011it [00:05, 267328.42it/s]\n",
      "1046592it [00:04, 259215.96it/s]\n",
      "1143344it [00:04, 253181.77it/s]\n",
      "1402441it [00:05, 256898.93it/s]\n",
      "982935it [00:03, 256920.96it/s]\n",
      "798738it [00:03, 248635.81it/s]\n",
      "1104707it [00:04, 249812.63it/s]\n",
      "1364904it [00:05, 257829.67it/s]\n",
      "752947it [00:03, 244021.40it/s]\n",
      "993633it [00:03, 268963.87it/s]\n",
      "1100072it [00:03, 279425.55it/s]\n",
      "1472080it [00:05, 277639.78it/s]\n",
      "1025852it [00:03, 257637.70it/s]\n",
      "1138092it [00:04, 271697.73it/s]\n",
      "757758it [00:03, 247174.00it/s]\n",
      "1015021it [00:03, 263383.71it/s]\n",
      "1041422it [00:03, 265197.37it/s]\n",
      "825721it [00:03, 250299.70it/s]\n",
      "1044631it [00:03, 266439.03it/s]\n",
      "1414290it [00:05, 256548.39it/s]\n",
      "1242590it [00:04, 263082.19it/s]\n",
      "702053it [00:02, 236430.03it/s]\n",
      "938417it [00:03, 258748.69it/s]\n",
      "1293755it [00:04, 273275.08it/s]\n",
      "1051607it [00:03, 272012.69it/s]\n",
      "1450634it [00:05, 251210.92it/s]\n",
      "1184472it [00:04, 262051.66it/s]\n",
      "942247it [00:03, 258213.09it/s]\n",
      "937127it [00:03, 263917.79it/s]\n",
      "1306395it [00:05, 261277.75it/s]\n",
      "1261207it [00:04, 261356.39it/s]\n",
      "853195it [00:03, 245377.10it/s]\n",
      "1432780it [00:05, 260344.59it/s]\n",
      "1007405it [00:03, 269936.68it/s]\n",
      "1037469it [00:03, 267559.52it/s]\n",
      "1056277it [00:04, 254441.75it/s]\n",
      "1343370it [00:04, 273205.56it/s]\n",
      "1166152it [00:04, 257439.58it/s]\n",
      "1343758it [00:05, 250234.94it/s]\n",
      "919882it [00:03, 262315.31it/s]\n",
      "1192536it [00:04, 271734.56it/s]\n",
      "1065899it [00:03, 290892.16it/s]\n",
      "1329850it [00:04, 277484.99it/s]\n",
      "1492440it [00:05, 259856.28it/s]\n",
      "849335it [00:03, 268561.05it/s]\n",
      "813605it [00:03, 259112.50it/s]\n",
      "1096910it [00:04, 269141.72it/s]\n",
      "1247164it [00:04, 265466.16it/s]\n",
      "1274461it [00:05, 252973.79it/s]\n",
      "922016it [00:03, 253915.37it/s]\n",
      "1018178it [00:03, 277749.07it/s]\n",
      "1200784it [00:04, 280321.95it/s]\n",
      "781069it [00:02, 262617.87it/s]\n",
      "601257it [00:02, 266510.00it/s]\n",
      "685279it [00:02, 241428.61it/s]\n",
      "1036178it [00:03, 267591.23it/s]\n",
      "782696it [00:03, 235329.57it/s]\n",
      "1013924it [00:04, 253444.90it/s]\n",
      "1022492it [00:03, 258050.07it/s]\n",
      "1065146it [00:04, 260949.22it/s]\n",
      "930357it [00:03, 257289.08it/s]\n",
      "938197it [00:03, 259333.05it/s]\n",
      "910887it [00:03, 257064.86it/s]\n",
      "934020it [00:03, 265045.78it/s]\n",
      "1061731it [00:03, 265799.48it/s]\n",
      "775293it [00:03, 239076.48it/s]\n",
      "1429220it [00:05, 263789.71it/s]\n",
      "1046492it [00:04, 254054.39it/s]\n",
      "1194210it [00:04, 259627.20it/s]\n",
      "1120896it [00:04, 264338.48it/s]\n",
      "1156685it [00:04, 248090.20it/s]\n",
      "859346it [00:03, 262080.49it/s]\n",
      "1310655it [00:05, 252267.75it/s]\n",
      "1090698it [00:03, 274414.16it/s]\n",
      "925946it [00:03, 243964.46it/s]\n",
      "1446628it [00:05, 262003.06it/s]\n",
      "1428394it [00:05, 274546.72it/s]\n",
      "616120it [00:02, 254851.96it/s]\n",
      "1015735it [00:04, 235343.34it/s]\n",
      "1320850it [00:05, 262125.97it/s]\n",
      "1042881it [00:03, 266352.99it/s]\n",
      "1109868it [00:04, 266408.94it/s]\n",
      "1132274it [00:04, 268787.02it/s]\n",
      "826394it [00:03, 257437.21it/s]\n",
      "786082it [00:03, 246352.52it/s]\n",
      "1472190it [00:05, 272534.29it/s]\n",
      "655968it [00:02, 250608.84it/s]\n",
      "1275719it [00:04, 274039.53it/s]\n",
      "958036it [00:03, 254239.41it/s]\n",
      "781380it [00:02, 270706.05it/s]\n",
      "1276963it [00:04, 263690.54it/s]\n",
      "965100it [00:03, 270547.75it/s]\n",
      "800988it [00:03, 260743.40it/s]\n",
      "1401486it [00:05, 260965.19it/s]\n",
      "1293736it [00:04, 268535.31it/s]\n",
      "0it [00:00, ?it/s]\n",
      "903562it [00:03, 261759.19it/s]\n",
      "1158147it [00:04, 273212.63it/s]\n",
      "755644it [00:02, 253261.63it/s]\n",
      "1417000it [00:05, 280694.68it/s]\n",
      "1329069it [00:04, 279078.04it/s]\n",
      "1377289it [00:04, 286096.80it/s]\n",
      "1050922it [00:03, 267182.24it/s]\n",
      "790644it [00:03, 253419.29it/s]\n",
      "763336it [00:03, 225942.51it/s]\n",
      "1426084it [00:05, 250745.36it/s]\n",
      "1106991it [00:04, 246629.44it/s]\n",
      "1167263it [00:04, 269833.61it/s]\n",
      "990127it [00:04, 246417.22it/s]\n",
      "1442573it [00:05, 270519.57it/s]\n",
      "999458it [00:03, 275257.76it/s]\n",
      "1364121it [00:05, 259545.47it/s]\n",
      "838291it [00:03, 256064.22it/s]\n",
      "1034437it [00:03, 260987.32it/s]\n",
      "898130it [00:03, 258034.61it/s]\n",
      "748554it [00:02, 267426.43it/s]\n",
      "741935it [00:02, 263785.34it/s]\n",
      "864942it [00:03, 254823.98it/s]\n",
      "1135146it [00:04, 264921.05it/s]\n",
      "1010705it [00:03, 274267.02it/s]\n",
      "887093it [00:03, 253738.77it/s]\n",
      "1432407it [00:05, 271586.83it/s]\n",
      "1148398it [00:04, 263149.09it/s]\n",
      "1072232it [00:04, 260449.77it/s]\n",
      "941298it [00:03, 258486.13it/s]\n",
      "1103716it [00:04, 257517.94it/s]\n",
      "1151811it [00:04, 261659.04it/s]\n",
      "784649it [00:02, 265725.34it/s]\n",
      "1138463it [00:04, 274153.21it/s]\n",
      "1431735it [00:05, 280949.66it/s]\n",
      "1309914it [00:04, 284479.33it/s]\n",
      "808029it [00:03, 256280.20it/s]\n",
      "1495901it [00:05, 258415.71it/s]\n",
      "846786it [00:03, 263277.77it/s]\n",
      "1065048it [00:04, 252849.73it/s]\n",
      "689031it [00:02, 249301.14it/s]\n",
      "1510648it [00:05, 267553.89it/s]\n",
      "1100304it [00:04, 267800.79it/s]\n",
      "973539it [00:03, 273120.97it/s]\n",
      "991933it [00:03, 271386.81it/s]\n",
      "1330534it [00:04, 271374.62it/s]\n",
      "1429175it [00:05, 262185.99it/s]\n",
      "1395552it [00:05, 270875.06it/s]\n",
      "1330801it [00:05, 255682.73it/s]\n",
      "763839it [00:02, 257254.75it/s]\n",
      "767330it [00:03, 254860.21it/s]\n",
      "671329it [00:02, 245782.98it/s]\n",
      "1057560it [00:04, 262992.91it/s]\n",
      "873913it [00:03, 249156.90it/s]\n",
      "889163it [00:03, 260562.92it/s]\n",
      "917772it [00:03, 253713.57it/s]\n",
      "949679it [00:03, 259180.16it/s]\n",
      "1446828it [00:05, 281283.31it/s]\n",
      "1361568it [00:05, 265397.06it/s]\n",
      "884378it [00:03, 251202.59it/s]\n",
      "1480722it [00:05, 261756.36it/s]\n",
      "1047106it [00:04, 258208.43it/s]\n",
      "771036it [00:02, 264923.09it/s]\n",
      "1316772it [00:04, 265123.62it/s]\n",
      "1330787it [00:04, 278700.92it/s]\n",
      "1482251it [00:05, 263196.51it/s]\n",
      "1062717it [00:04, 264912.82it/s]\n",
      "906680it [00:03, 262233.50it/s]\n",
      "966810it [00:03, 270895.29it/s]\n",
      "1050434it [00:04, 257923.66it/s]\n",
      "1315480it [00:05, 262645.35it/s]\n",
      "1102009it [00:04, 268302.97it/s]\n",
      "876723it [00:03, 245997.23it/s]\n",
      "1182209it [00:04, 269179.89it/s]\n",
      "1230454it [00:04, 251951.63it/s]\n",
      "972632it [00:03, 262418.22it/s]\n",
      "806391it [00:03, 256734.28it/s]\n",
      "646588it [00:02, 249620.22it/s]\n",
      "780816it [00:03, 246528.96it/s]\n",
      "971312it [00:03, 266172.11it/s]\n",
      "991747it [00:03, 277679.99it/s]\n",
      "1026130it [00:04, 245010.01it/s]\n",
      "972937it [00:03, 256003.18it/s]\n",
      "762366it [00:02, 283424.21it/s]\n",
      "1153407it [00:04, 253494.94it/s]\n",
      "1094906it [00:04, 266053.28it/s]\n",
      "790354it [00:03, 255180.65it/s]\n",
      "780094it [00:03, 259763.99it/s]\n",
      "944179it [00:03, 263447.77it/s]\n",
      "1033285it [00:03, 272926.61it/s]\n",
      "1093969it [00:03, 274790.65it/s]\n",
      "613879it [00:02, 223076.13it/s]\n",
      "1129359it [00:04, 266300.26it/s]\n",
      "1006520it [00:04, 244606.54it/s]\n",
      "1099760it [00:04, 257700.87it/s]\n",
      "841710it [00:03, 255679.14it/s]\n",
      "840412it [00:03, 257677.93it/s]\n",
      "1319803it [00:04, 266825.82it/s]\n",
      "985079it [00:03, 273215.39it/s]\n",
      "1188317it [00:04, 263342.84it/s]\n",
      "1496199it [00:05, 262399.15it/s]\n",
      "1164221it [00:04, 264627.32it/s]\n",
      "835737it [00:03, 264430.19it/s]\n",
      "1006600it [00:03, 276996.57it/s]\n",
      "1401268it [00:05, 268757.22it/s]\n",
      "943134it [00:03, 256738.84it/s]\n",
      "774644it [00:03, 253795.27it/s]\n",
      "1058104it [00:03, 277310.24it/s]\n",
      "1161749it [00:04, 270668.27it/s]\n",
      "1079963it [00:04, 266130.05it/s]\n",
      "1159018it [00:04, 265281.02it/s]\n",
      "1302314it [00:04, 268352.61it/s]\n",
      "1461927it [00:05, 256419.10it/s]\n",
      "1188009it [00:04, 266045.72it/s]\n",
      "588616it [00:02, 254562.76it/s]\n",
      "1450419it [00:05, 243407.17it/s]\n",
      "1449502it [00:05, 253146.94it/s]\n",
      "826593it [00:03, 253245.80it/s]\n",
      "1430505it [00:05, 272076.64it/s]\n",
      "806549it [00:03, 241903.27it/s]\n",
      "1011752it [00:03, 268589.28it/s]\n",
      "869930it [00:03, 255007.41it/s]\n",
      "660494it [00:02, 259326.23it/s]\n",
      "1415043it [00:05, 268813.51it/s]\n",
      "1064861it [00:04, 253594.73it/s]\n",
      "785158it [00:03, 252153.31it/s]\n",
      "972744it [00:03, 271449.36it/s]\n",
      "1368417it [00:04, 275007.09it/s]\n",
      "796419it [00:03, 218873.44it/s]\n",
      "796680it [00:02, 267530.12it/s]\n",
      "811942it [00:03, 248343.55it/s]\n",
      "1091439it [00:04, 265542.15it/s]\n",
      "1391802it [00:05, 256713.30it/s]\n",
      "1043869it [00:03, 270295.56it/s]\n",
      "1158830it [00:04, 255048.61it/s]\n",
      "908236it [00:03, 244606.57it/s]\n",
      "1028323it [00:03, 258471.44it/s]\n",
      "801426it [00:03, 265183.03it/s]\n",
      "1243799it [00:04, 269006.35it/s]\n",
      "958940it [00:03, 265479.40it/s]\n",
      "946374it [00:03, 258358.22it/s]\n",
      "1009907it [00:03, 262656.21it/s]\n",
      "681989it [00:02, 227773.89it/s]\n",
      "1062329it [00:04, 264388.44it/s]\n",
      "1075844it [00:03, 275499.62it/s]\n",
      "711303it [00:02, 258368.67it/s]\n",
      "1029701it [00:03, 260873.44it/s]\n",
      "1131381it [00:04, 245232.79it/s]\n",
      "1099423it [00:04, 265049.81it/s]\n",
      "1045721it [00:04, 237316.39it/s]\n",
      "1080803it [00:04, 251342.24it/s]\n",
      "959262it [00:03, 283427.92it/s]\n",
      "1019848it [00:03, 268953.29it/s]\n",
      "1238975it [00:04, 256973.14it/s]\n",
      "822032it [00:03, 254976.44it/s]\n",
      "1505445it [00:05, 262734.43it/s]\n",
      "1089103it [00:04, 248257.12it/s]\n",
      "1348042it [00:05, 253158.76it/s]\n",
      "819694it [00:03, 243324.75it/s]\n",
      "841032it [00:03, 271005.94it/s]\n",
      "1275392it [00:04, 262618.79it/s]\n",
      "725922it [00:02, 264042.26it/s]\n",
      "935072it [00:03, 256267.15it/s]\n",
      "1052815it [00:04, 252907.63it/s]\n",
      "1284365it [00:05, 239540.18it/s]\n",
      "742272it [00:03, 246777.62it/s]\n",
      "1399766it [00:05, 263404.07it/s]\n",
      "820173it [00:03, 262506.51it/s]\n",
      "969752it [00:03, 264548.62it/s]\n",
      "1139833it [00:04, 260216.98it/s]\n",
      "980004it [00:03, 258934.94it/s]\n",
      "1035050it [00:03, 258838.37it/s]\n",
      "858730it [00:03, 247465.05it/s]\n",
      "955350it [00:03, 247951.97it/s]\n",
      "1047141it [00:04, 259338.36it/s]\n",
      "1337163it [00:04, 280882.93it/s]\n",
      "1415210it [00:05, 262149.66it/s]\n",
      "1069676it [00:04, 239748.72it/s]\n",
      "1059330it [00:04, 262788.64it/s]\n",
      "1324074it [00:05, 261632.46it/s]\n",
      "1439233it [00:05, 262113.03it/s]\n",
      "1273983it [00:04, 265311.59it/s]\n",
      "946198it [00:03, 263138.04it/s]\n",
      "1025674it [00:04, 255972.27it/s]\n",
      "1176202it [00:04, 237891.07it/s]\n",
      "1221641it [00:05, 241067.04it/s]\n",
      "1133953it [00:04, 251254.32it/s]\n",
      "1060130it [00:04, 254614.59it/s]\n",
      "926668it [00:03, 256947.61it/s]\n",
      "1204597it [00:04, 260769.13it/s]\n",
      "1250434it [00:04, 257940.07it/s]\n",
      "844159it [00:03, 247567.16it/s]\n",
      "557852it [00:02, 260864.44it/s]\n",
      "994706it [00:22, 44066.40it/s] \n",
      "1303825it [00:46, 27960.22it/s]\n",
      "968849it [00:35, 26969.77it/s]\n",
      "965507it [00:40, 23594.16it/s]\n",
      "903791it [00:52, 17378.90it/s]\n"
     ]
    },
    {
     "name": "stderr",
     "output_type": "stream",
     "text": [
      "1088602it [00:51, 21279.25it/s]\n",
      "730649it [00:37, 19542.66it/s]\n",
      "1190084it [00:47, 25088.72it/s]\n",
      "1018159it [00:37, 27113.55it/s]\n",
      "1206726it [00:41, 28983.57it/s]\n",
      "885342it [00:37, 23646.64it/s]\n",
      "1026957it [00:42, 24326.13it/s]\n",
      "1263489it [00:43, 28732.06it/s]\n",
      "828240it [00:30, 27213.81it/s]\n",
      "1282321it [00:21, 60410.12it/s]\n",
      "890294it [00:06, 139330.17it/s]\n",
      "765736it [00:05, 147212.53it/s]\n",
      "922859it [00:06, 146917.96it/s]\n",
      "1052012it [00:07, 143880.51it/s]\n",
      "1300114it [00:08, 146296.72it/s]\n",
      "973842it [00:06, 143404.22it/s]\n",
      "777231it [00:05, 147338.90it/s]\n",
      "1070405it [00:07, 147832.77it/s]\n",
      "1156529it [00:07, 146565.64it/s]\n",
      "1168355it [00:08, 139101.21it/s]\n",
      "1233375it [00:08, 152142.12it/s]\n",
      "1448764it [00:09, 152172.85it/s]\n",
      "1460956it [00:10, 141730.97it/s]\n",
      "1015747it [00:06, 146695.05it/s]\n",
      "1335078it [00:08, 158215.98it/s]\n",
      "1007940it [00:06, 156247.61it/s]\n",
      "1121353it [00:07, 156388.37it/s]\n",
      "1206016it [00:08, 146654.36it/s]\n",
      "788437it [00:05, 150770.65it/s]\n",
      "870361it [00:05, 148603.07it/s]\n",
      "861056it [00:05, 144299.15it/s]\n",
      "1413479it [00:09, 155140.06it/s]\n",
      "970905it [00:06, 149964.24it/s]\n",
      "996541it [00:06, 150395.56it/s]\n",
      "817398it [00:05, 146407.95it/s]\n",
      "758244it [00:05, 145578.47it/s]\n",
      "907272it [00:06, 145889.99it/s]\n",
      "989767it [00:06, 148721.85it/s]\n",
      "680272it [00:04, 140041.56it/s]\n",
      "1408557it [00:09, 148813.06it/s]\n",
      "982669it [00:06, 147876.91it/s]\n",
      "857296it [00:05, 146122.28it/s]\n",
      "751182it [00:04, 152065.42it/s]\n",
      "1427189it [00:09, 150154.14it/s]\n",
      "951016it [00:06, 149657.48it/s]\n",
      "1391279it [00:08, 155455.77it/s]\n",
      "1056151it [00:06, 152449.55it/s]\n",
      "1009628it [00:06, 151510.26it/s]\n",
      "1376756it [00:08, 156824.23it/s]\n",
      "1244437it [00:08, 153284.01it/s]\n",
      "995346it [00:06, 157544.61it/s]\n",
      "1007664it [00:06, 149885.80it/s]\n",
      "1057653it [00:06, 155217.08it/s]\n",
      "1410752it [00:09, 155027.10it/s]\n",
      "951782it [00:06, 143527.30it/s]\n",
      "811083it [00:05, 151899.96it/s]\n",
      "945881it [00:06, 148283.81it/s]\n",
      "1074407it [00:07, 150062.67it/s]\n",
      "1001581it [00:06, 146659.72it/s]\n",
      "1048116it [00:07, 148993.32it/s]\n",
      "981615it [00:06, 157492.68it/s]\n",
      "1099873it [00:07, 151305.67it/s]\n",
      "980198it [00:07, 136380.89it/s]\n",
      "1095060it [00:07, 155240.98it/s]\n",
      "993814it [00:06, 143980.41it/s]\n",
      "731744it [00:05, 144524.33it/s]\n",
      "952084it [00:06, 146324.95it/s]\n",
      "690240it [00:04, 146077.34it/s]\n",
      "1315071it [00:09, 145513.67it/s]\n",
      "790748it [00:05, 156747.04it/s]\n",
      "742953it [00:05, 142971.76it/s]\n",
      "1082177it [00:06, 155321.84it/s]\n",
      "1051478it [00:07, 145599.72it/s]\n",
      "651185it [00:04, 144511.57it/s]\n",
      "863641it [00:05, 145868.68it/s]\n",
      "1129485it [00:07, 155096.16it/s]\n",
      "1232610it [00:08, 153371.27it/s]\n",
      "1358720it [00:08, 154299.61it/s]\n",
      "1024770it [00:06, 148282.94it/s]\n",
      "1364986it [00:08, 157037.99it/s]\n",
      "1039490it [00:06, 148989.82it/s]\n",
      "827518it [00:05, 150271.89it/s]\n",
      "1428244it [00:09, 151389.39it/s]\n",
      "923283it [00:06, 146144.62it/s]\n",
      "656677it [00:04, 146639.18it/s]\n",
      "1077622it [00:06, 155509.00it/s]\n",
      "1274669it [00:08, 148859.61it/s]\n",
      "1054529it [00:06, 152469.61it/s]\n",
      "1092705it [00:07, 154123.38it/s]\n",
      "982850it [00:06, 146845.15it/s]\n",
      "897857it [00:06, 145540.86it/s]\n",
      "1290748it [00:08, 151401.52it/s]\n",
      "805445it [00:05, 151446.05it/s]\n",
      "1040230it [00:06, 154738.99it/s]\n",
      "688231it [00:04, 147626.60it/s]\n",
      "707691it [00:04, 145938.66it/s]\n",
      "1117319it [00:07, 156979.91it/s]\n",
      "1507642it [00:09, 153947.83it/s]\n",
      "1412179it [00:09, 156749.14it/s]\n",
      "1422292it [00:09, 151664.26it/s]\n",
      "1018678it [00:07, 133735.49it/s]\n",
      "931696it [00:06, 148408.63it/s]\n",
      "1334470it [00:08, 153402.64it/s]\n",
      "1320750it [00:08, 148616.44it/s]\n",
      "1019342it [00:06, 154121.64it/s]\n",
      "1137816it [00:07, 154733.78it/s]\n",
      "909162it [00:06, 146163.54it/s]\n",
      "1471620it [00:09, 154234.77it/s]\n",
      "1070614it [00:06, 160155.72it/s]\n",
      "1300006it [00:08, 153011.56it/s]\n",
      "1436354it [00:09, 153986.23it/s]\n",
      "1110878it [00:07, 152028.20it/s]\n",
      "1339229it [00:08, 158113.70it/s]\n",
      "1279894it [00:08, 153133.02it/s]\n",
      "814994it [00:05, 145778.75it/s]\n",
      "859276it [00:05, 152742.69it/s]\n",
      "1046376it [00:07, 147037.79it/s]\n",
      "1433846it [00:09, 155155.84it/s]\n",
      "1136215it [00:07, 156178.65it/s]\n",
      "1041197it [00:06, 155804.88it/s]\n",
      "1143048it [00:07, 148906.95it/s]\n",
      "874322it [00:05, 146512.62it/s]\n",
      "931042it [00:06, 142495.74it/s]\n",
      "760206it [00:04, 152810.89it/s]\n",
      "735443it [00:05, 144804.05it/s]\n",
      "1382316it [00:09, 150478.55it/s]\n",
      "796350it [00:05, 146377.26it/s]\n",
      "755686it [00:04, 153597.07it/s]\n",
      "1311252it [00:08, 148804.48it/s]\n",
      "760531it [00:05, 147188.54it/s]\n",
      "868362it [00:05, 148410.88it/s]\n",
      "773430it [00:05, 148745.19it/s]\n",
      "1053678it [00:06, 154175.50it/s]\n",
      "995343it [00:06, 149268.09it/s]\n",
      "784170it [00:05, 146738.55it/s]\n",
      "786252it [00:05, 145024.34it/s]\n",
      "992143it [00:06, 149039.39it/s]\n",
      "944911it [00:06, 146187.75it/s]\n",
      "1411917it [00:09, 153187.14it/s]\n",
      "1458035it [00:09, 152875.80it/s]\n",
      "1131665it [00:07, 156809.81it/s]\n",
      "1318352it [00:08, 149762.24it/s]\n",
      "1429210it [00:09, 150421.30it/s]\n",
      "835028it [00:05, 146582.74it/s]\n",
      "810494it [00:05, 152313.61it/s]\n",
      "1049626it [00:06, 156697.17it/s]\n",
      "1077280it [00:07, 147993.07it/s]\n",
      "974522it [00:06, 155837.30it/s]\n",
      "1173040it [00:07, 153670.91it/s]\n",
      "988737it [00:06, 152420.42it/s]\n",
      "710358it [00:04, 145290.47it/s]\n",
      "1327329it [00:08, 157390.92it/s]\n",
      "824538it [00:05, 145361.00it/s]\n",
      "1011869it [00:06, 151334.81it/s]\n",
      "929752it [00:05, 157403.36it/s]\n",
      "1329312it [00:08, 157787.85it/s]\n",
      "890816it [00:05, 153261.36it/s]\n",
      "1273540it [00:08, 158026.15it/s]\n",
      "1466628it [00:09, 154408.39it/s]\n",
      "1440836it [00:09, 154499.12it/s]\n",
      "997809it [00:06, 156065.70it/s]\n",
      "1455241it [00:09, 149582.19it/s]\n",
      "1518484it [00:10, 151599.52it/s]\n",
      "1485764it [00:09, 152672.20it/s]\n",
      "1276707it [00:08, 157474.62it/s]\n",
      "1427622it [00:10, 141185.69it/s]\n",
      "1256900it [00:08, 148114.38it/s]\n",
      "1020137it [00:06, 152463.85it/s]\n",
      "830832it [00:05, 147656.55it/s]\n",
      "1070935it [00:07, 152976.76it/s]\n",
      "1250121it [00:08, 149869.60it/s]\n",
      "836491it [00:05, 154428.45it/s]\n",
      "1213680it [00:07, 153676.32it/s]\n",
      "1054041it [00:07, 145997.98it/s]\n",
      "1078892it [00:06, 156989.68it/s]\n",
      "1076293it [00:06, 155674.59it/s]\n",
      "1162680it [00:07, 156543.06it/s]\n",
      "1071478it [00:07, 147158.19it/s]\n",
      "809833it [00:05, 148780.06it/s]\n",
      "924953it [00:06, 149842.23it/s]\n",
      "807677it [00:05, 151929.18it/s]\n",
      "1025762it [00:06, 148921.63it/s]\n",
      "869646it [00:06, 144209.79it/s]\n",
      "1071381it [00:06, 153220.10it/s]\n",
      "1458253it [00:09, 152453.77it/s]\n",
      "823752it [00:05, 153296.44it/s]\n",
      "1212808it [00:07, 159179.59it/s]\n",
      "1406253it [00:09, 150761.43it/s]\n",
      "734364it [00:05, 142033.60it/s]\n",
      "1106990it [00:07, 154474.08it/s]\n",
      "875776it [00:06, 144501.28it/s]\n",
      "1088070it [00:07, 153909.01it/s]\n",
      "874964it [00:05, 154963.89it/s]\n",
      "912682it [00:06, 148644.30it/s]\n",
      "1161325it [00:07, 147315.31it/s]\n",
      "1091860it [00:06, 157225.31it/s]\n",
      "1089376it [00:07, 152728.04it/s]\n",
      "731952it [00:04, 149780.27it/s]\n",
      "1349055it [00:08, 153415.16it/s]\n",
      "670997it [00:04, 137873.32it/s]\n",
      "726866it [00:06, 115115.45it/s]\n",
      "1405248it [00:12, 116534.74it/s]\n",
      "1234313it [00:10, 117634.48it/s]\n",
      "1138384it [00:07, 149506.61it/s]\n",
      "1146902it [00:07, 157201.32it/s]\n",
      "1343999it [00:08, 153976.86it/s]\n",
      "707532it [00:04, 141685.74it/s]\n",
      "1088393it [00:07, 145874.28it/s]\n",
      "790712it [00:05, 151931.36it/s]\n",
      "881368it [00:06, 146310.51it/s]\n",
      "870450it [00:11, 78495.71it/s] \n",
      "1124726it [00:15, 71901.51it/s]\n",
      "1394023it [00:18, 76491.37it/s]\n",
      "1406421it [00:18, 74088.62it/s]\n",
      "958476it [00:23, 40727.65it/s]\n",
      "402423it [00:12, 30989.41it/s]"
     ]
    }
   ],
   "source": [
    "def get_language_distribution(file_name, language):\n",
    "\n",
    "    for line in tqdm(open(file_name)):\n",
    "        out = re.findall('[http|https]://([a-z]{2,3}).',line)[0]\n",
    "        if out=='www':\n",
    "            continue\n",
    "        if out in language:\n",
    "            language[out] += 1\n",
    "        else:\n",
    "            language[out] = 1\n",
    "    return language\n",
    "language = {}\n",
    "path = \"./data/only_lemma/\"  \n",
    "files= os.listdir(path)\n",
    "for line in files:\n",
    "    language=get_language_distribution('./data/only_lemma/%s'%line, language)\n",
    "# langaue is a dictionary 'language':counts"
   ]
  },
  {
   "cell_type": "code",
   "execution_count": 3,
   "metadata": {},
   "outputs": [],
   "source": [
    "# sort the language\n",
    "f = zip(language.values(),language.keys())\n",
    "out = sorted(f,reverse=True)\n",
    "number = list([math.log(item[0]) for item in out])\n",
    "name = list([item[1] for item in out])"
   ]
  },
  {
   "cell_type": "code",
   "execution_count": null,
   "metadata": {},
   "outputs": [],
   "source": [
    "number.dump('./data/languagenumber')\n",
    "name.dump('./data/languageName')\n",
    "language"
   ]
  },
  {
   "cell_type": "code",
   "execution_count": 4,
   "metadata": {},
   "outputs": [],
   "source": [
    "def get_langlinks(tokens):\n",
    "    tokens=unquote(tokens, 'utf-8') \n",
    "    wiki_wiki = wikipediaapi.Wikipedia('en')\n",
    "    page_py = wiki_wiki.page(tokens)\n",
    "    langlinks = page_py.langlinks.keys()\n",
    "    return langlinks\n",
    "\n",
    "def get_langCount(tokenlist):\n",
    "    LangCount=np.array(np.zeros((len(tokenlist))))\n",
    "    for i in tqdm(range(len(tokenlist))):\n",
    "        try:\n",
    "            LangCount[i]=len(get_langlinks(tokenlist[i]))\n",
    "        except:\n",
    "            continue\n",
    "    return LangCount"
   ]
  },
  {
   "cell_type": "code",
   "execution_count": 5,
   "metadata": {},
   "outputs": [
    {
     "name": "stderr",
     "output_type": "stream",
     "text": [
      "100%|██████████| 9999/9999 [22:30<00:00,  7.41it/s]\n"
     ]
    }
   ],
   "source": [
    "hotwords=pandas.read_csv('./data/revisions/hot_10000.csv',sep='\t')\n",
    "hotwords.sort_values(by=['frequency'],ascending=False,inplace=True)\n",
    "words=np.array(hotwords.iloc[1:10000,0])\n",
    "LangCount=get_langCount(words)"
   ]
  },
  {
   "cell_type": "code",
   "execution_count": 21,
   "metadata": {},
   "outputs": [
    {
     "data": {
      "image/png": "[encoded data removed]",
      "text/plain": [
       "<Figure size 432x288 with 1 Axes>"
      ]
     },
     "metadata": {
      "image/png": {
       "height": 278,
       "width": 422
      }
     },
     "output_type": "display_data"
    },
    {
     "data": {
      "text/plain": [
       "<Figure size 432x288 with 0 Axes>"
      ]
     },
     "metadata": {},
     "output_type": "display_data"
    }
   ],
   "source": [
    "fig = plt.figure()\n",
    "name=np.load('./data/languageName')\n",
    "number=np.load('./data/languagenumber')\n",
    "language=np.load('./data/WordsLanguageCounts')\n",
    "\n",
    "hotwords=pandas.read_csv('./data/revisions/hot_10000.csv',sep='\t')\n",
    "hotwords.sort_values(by=['frequency'],ascending=False,inplace=True)\n",
    "access=np.zeros((9999,))\n",
    "for i in range(9999):\n",
    "    access[i]=hotwords['frequency'].iloc[1+i]\n",
    "\n",
    "data = []\n",
    "xlabels = []\n",
    "for j in range(10):\n",
    "    if j==9:\n",
    "        partnumber = language[j*1000:9999]\n",
    "        partaccess = access[j*1000:9999]\n",
    "    else:\n",
    "        partnumber = language[j*1000:1000*(j+1)]\n",
    "        partaccess = access[j*1000:1000*(j+1)]\n",
    "    data.append(partnumber)\n",
    "    xlabels.append(\"{}-{}\".format(min(partaccess), max(partaccess)))\n",
    "plt.boxplot(data,0, '')\n",
    "plt.xticks(range(1,11), xlabels)\n",
    "plt.ylabel(\"Number of Language\")\n",
    "plt.xlabel(\"Access\")\n",
    "locs, labels = plt.xticks()\n",
    "plt.setp(labels, rotation=45)\n",
    "plt.tight_layout()\n",
    "plt.show()\n",
    "plt.tight_layout()\n",
    "fig.savefig(\"plots/access-Number_of_Language-boxplot.png\", dpi=400)"
   ]
  },
  {
   "cell_type": "code",
   "execution_count": 137,
   "metadata": {
    "scrolled": true
   },
   "outputs": [
    {
     "name": "stdout",
     "output_type": "stream",
     "text": [
      "[197. 111.  32.  32.  25.  25. 149.  29.  29.  32. 180.  27. 178.  71.\n",
      "  41.  32.  21.  30.  15. 202.  58.  11. 110. 265. 278.  48. 120. 214.\n",
      "  45.  81. 162. 108.  18. 224. 200.  14.  62. 282.  43.  58.  19.  19.\n",
      "  35.  47. 105. 178. 161. 196. 142.  65. 103. 137. 162.  78.  62.  38.\n",
      "  56.  25.  30.   7. 181.  31.  49. 151.  64.  28.   6. 116. 116.  50.\n",
      " 105. 233.  32. 101.  70.  71.  71. 100.  22. 110.  66.  66.  28.  39.\n",
      "  54.   4.  15.  97.  89.  67.  79.  18.  50. 202.  13.  42.  55.  87.\n",
      " 125.   0.]\n",
      "[  3.  67.  61.   3.  21.  15. 137.  13.  17.   0.   4.   4.   0.   0.\n",
      "   0.  26.   5.  39.  12.  51.  18.   4.   7.  21.  46.  15.  95.   9.\n",
      "   0.  11.   4.  25.  10.  15.   0.   0.   4.  38.  16.  10.   3.  22.\n",
      "   1.  47.   0.   7.  22.   1.   7.  13.   1.  21.  22.  12.  21.  24.\n",
      "   4.  28.  14.   2.  55.   7.   3.  92.  10.  19.   0.  82.  12.   3.\n",
      " 116. 116.   2.  11.  39.   8.  64.  27.  12.  33.   8.   8.  27.   3.\n",
      "  21.  12.   6. 110.  25.  10.   5.  47.  16.  16.  19.  11.   0.  72.\n",
      "  15.   0.]\n",
      "6.389292023690805\n",
      "8.378181030900377 132.60225294570557\n"
     ]
    }
   ],
   "source": []
  },
  {
   "cell_type": "code",
   "execution_count": 160,
   "metadata": {},
   "outputs": [
    {
     "data": {
      "text/plain": [
       "(array([62., 19.,  7.,  4.,  2.,  2.,  3.,  1.]),\n",
       " array([  0.   ,  17.125,  34.25 ,  51.375,  68.5  ,  85.625, 102.75 ,\n",
       "        119.875, 137.   ]),\n",
       " <a list of 8 Patch objects>)"
      ]
     },
     "execution_count": 160,
     "metadata": {},
     "output_type": "execute_result"
    },
    {
     "data": {
      "image/png": "[encoded data removed]",
      "text/plain": [
       "<Figure size 432x288 with 1 Axes>"
      ]
     },
     "metadata": {
      "image/png": {
       "height": 250,
       "width": 370
      }
     },
     "output_type": "display_data"
    }
   ],
   "source": [
    "plt.hist(scores1, 8, color=\"#FF0000\", alpha=.9)  \n",
    "plt.hist(scores2, 8, color=\"#C1F320\", alpha=.5)  "
   ]
  },
  {
   "cell_type": "code",
   "execution_count": 270,
   "metadata": {},
   "outputs": [
    {
     "data": {
      "text/plain": [
       "6641"
      ]
     },
     "execution_count": 270,
     "metadata": {},
     "output_type": "execute_result"
    }
   ],
   "source": [
    "def change_langlinks(lang,page):\n",
    "    wikipedia.set_lang('en')\n",
    "    langlinks = page.langlinks\n",
    "    #print(langlinks.keys())\n",
    "    return langlinks[lang].title\n",
    "\n",
    "def get_PageLength(language,tokens):\n",
    "    tokens=unquote(tokens, 'utf-8')\n",
    "    p_wiki = wiki_wiki.page(tokens)\n",
    "    try:\n",
    "        NewTitle=change_langlinks(language,p_wiki)\n",
    "        NewTitle=unquote(NewTitle, 'utf-8')\n",
    "        wikipedia.set_lang(language)\n",
    "        out=wikipedia.page(NewTitle).content\n",
    "        return len(out)\n",
    "    except:\n",
    "        return 0   \n",
    "    \n",
    "get_PageLength('de','Wenger')"
   ]
  },
  {
   "cell_type": "code",
   "execution_count": 199,
   "metadata": {},
   "outputs": [
    {
     "name": "stdout",
     "output_type": "stream",
     "text": [
      "https://zh.wikipedia.org/wiki/Mathematics\n"
     ]
    }
   ],
   "source": [
    "def print_langlinks(page):\n",
    "        langlinks = page.langlinks\n",
    "        for k in sorted(langlinks.keys()):\n",
    "            v = langlinks[k]\n",
    "            print(\"%s: %s - %s: %s\" % (k, v.language, v.title, v.fullurl))\n",
    "p_wiki = wiki_wiki.page(\"Math\")\n",
    "print_langlinks(p_wiki)"
   ]
  },
  {
   "cell_type": "code",
   "execution_count": 247,
   "metadata": {},
   "outputs": [
    {
     "data": {
      "text/plain": [
       "False"
      ]
     },
     "execution_count": 247,
     "metadata": {},
     "output_type": "execute_result"
    }
   ],
   "source": [
    "'zh' in name[0:10]"
   ]
  },
  {
   "cell_type": "code",
   "execution_count": 2,
   "metadata": {},
   "outputs": [
    {
     "name": "stderr",
     "output_type": "stream",
     "text": [
      "\r",
      "  0%|          | 0/100 [00:00<?, ?it/s]"
     ]
    },
    {
     "name": "stdout",
     "output_type": "stream",
     "text": [
      "start\n",
      "0\n"
     ]
    },
    {
     "name": "stderr",
     "output_type": "stream",
     "text": [
      "\r",
      "  1%|          | 1/100 [01:52<3:05:18, 112.31s/it]"
     ]
    },
    {
     "name": "stdout",
     "output_type": "stream",
     "text": [
      "1\n"
     ]
    },
    {
     "name": "stderr",
     "output_type": "stream",
     "text": [
      "\r",
      "  2%|▏         | 2/100 [02:54<2:22:38, 87.33s/it] "
     ]
    },
    {
     "name": "stdout",
     "output_type": "stream",
     "text": [
      "2\n"
     ]
    },
    {
     "name": "stderr",
     "output_type": "stream",
     "text": [
      "/home/xuanli2/penv/lib/python3.5/site-packages/bs4/__init__.py:181: UserWarning: No parser was explicitly specified, so I'm using the best available HTML parser for this system (\"lxml\"). This usually isn't a problem, but if you run this code on another system, or in a different virtual environment, it may use a different parser and behave differently.\n",
      "\n",
      "The code that caused this warning is on line 184 of the file /usr/lib/python3.5/runpy.py. To get rid of this warning, change code that looks like this:\n",
      "\n",
      " BeautifulSoup(YOUR_MARKUP})\n",
      "\n",
      "to this:\n",
      "\n",
      " BeautifulSoup(YOUR_MARKUP, \"lxml\")\n",
      "\n",
      "  markup_type=markup_type))\n",
      "  3%|▎         | 3/100 [03:29<1:52:58, 69.89s/it]"
     ]
    },
    {
     "name": "stdout",
     "output_type": "stream",
     "text": [
      "3\n"
     ]
    },
    {
     "name": "stderr",
     "output_type": "stream",
     "text": [
      "\r",
      "  4%|▍         | 4/100 [04:04<1:37:45, 61.10s/it]"
     ]
    },
    {
     "name": "stdout",
     "output_type": "stream",
     "text": [
      "4\n"
     ]
    },
    {
     "name": "stderr",
     "output_type": "stream",
     "text": [
      "\r",
      "  5%|▌         | 5/100 [04:21<1:22:42, 52.23s/it]"
     ]
    },
    {
     "name": "stdout",
     "output_type": "stream",
     "text": [
      "5\n"
     ]
    },
    {
     "name": "stderr",
     "output_type": "stream",
     "text": [
      "\r",
      "  6%|▌         | 6/100 [04:39<1:12:53, 46.52s/it]"
     ]
    },
    {
     "name": "stdout",
     "output_type": "stream",
     "text": [
      "6\n"
     ]
    },
    {
     "name": "stderr",
     "output_type": "stream",
     "text": [
      "\r",
      "  7%|▋         | 7/100 [06:01<1:19:58, 51.60s/it]"
     ]
    },
    {
     "name": "stdout",
     "output_type": "stream",
     "text": [
      "7\n"
     ]
    },
    {
     "name": "stderr",
     "output_type": "stream",
     "text": [
      "\r",
      "  8%|▊         | 8/100 [06:20<1:12:55, 47.56s/it]"
     ]
    },
    {
     "name": "stdout",
     "output_type": "stream",
     "text": [
      "8\n"
     ]
    },
    {
     "name": "stderr",
     "output_type": "stream",
     "text": [
      "\r",
      "  9%|▉         | 9/100 [06:38<1:07:06, 44.24s/it]"
     ]
    },
    {
     "name": "stdout",
     "output_type": "stream",
     "text": [
      "9\n"
     ]
    },
    {
     "name": "stderr",
     "output_type": "stream",
     "text": [
      "\r",
      " 10%|█         | 10/100 [07:00<1:03:06, 42.07s/it]"
     ]
    },
    {
     "name": "stdout",
     "output_type": "stream",
     "text": [
      "10\n"
     ]
    },
    {
     "name": "stderr",
     "output_type": "stream",
     "text": [
      "\r",
      " 11%|█         | 11/100 [08:47<1:11:08, 47.97s/it]"
     ]
    },
    {
     "name": "stdout",
     "output_type": "stream",
     "text": [
      "11\n"
     ]
    },
    {
     "name": "stderr",
     "output_type": "stream",
     "text": [
      "\r",
      " 12%|█▏        | 12/100 [09:04<1:06:33, 45.38s/it]"
     ]
    },
    {
     "name": "stdout",
     "output_type": "stream",
     "text": [
      "12\n"
     ]
    },
    {
     "name": "stderr",
     "output_type": "stream",
     "text": [
      "\r",
      " 13%|█▎        | 13/100 [10:36<1:11:00, 48.98s/it]"
     ]
    },
    {
     "name": "stdout",
     "output_type": "stream",
     "text": [
      "13\n"
     ]
    },
    {
     "name": "stderr",
     "output_type": "stream",
     "text": [
      "\r",
      " 14%|█▍        | 14/100 [11:19<1:09:32, 48.52s/it]"
     ]
    },
    {
     "name": "stdout",
     "output_type": "stream",
     "text": [
      "14\n"
     ]
    },
    {
     "name": "stderr",
     "output_type": "stream",
     "text": [
      "\r",
      " 15%|█▌        | 15/100 [11:41<1:06:14, 46.76s/it]"
     ]
    },
    {
     "name": "stdout",
     "output_type": "stream",
     "text": [
      "15\n"
     ]
    },
    {
     "name": "stderr",
     "output_type": "stream",
     "text": [
      "\r",
      " 16%|█▌        | 16/100 [12:00<1:03:03, 45.04s/it]"
     ]
    },
    {
     "name": "stdout",
     "output_type": "stream",
     "text": [
      "16\n"
     ]
    },
    {
     "name": "stderr",
     "output_type": "stream",
     "text": [
      "\r",
      " 17%|█▋        | 17/100 [12:15<59:48, 43.24s/it]  "
     ]
    },
    {
     "name": "stdout",
     "output_type": "stream",
     "text": [
      "17\n"
     ]
    },
    {
     "name": "stderr",
     "output_type": "stream",
     "text": [
      "\r",
      " 18%|█▊        | 18/100 [12:33<57:10, 41.84s/it]"
     ]
    },
    {
     "name": "stdout",
     "output_type": "stream",
     "text": [
      "18\n"
     ]
    },
    {
     "name": "stderr",
     "output_type": "stream",
     "text": [
      "\r",
      " 19%|█▉        | 19/100 [12:42<54:10, 40.13s/it]"
     ]
    },
    {
     "name": "stdout",
     "output_type": "stream",
     "text": [
      "19\n"
     ]
    },
    {
     "name": "stderr",
     "output_type": "stream",
     "text": [
      "\r",
      " 20%|██        | 20/100 [14:28<57:53, 43.41s/it]"
     ]
    },
    {
     "name": "stdout",
     "output_type": "stream",
     "text": [
      "20\n"
     ]
    },
    {
     "name": "stderr",
     "output_type": "stream",
     "text": [
      "\r",
      " 21%|██        | 21/100 [15:11<57:10, 43.42s/it]"
     ]
    },
    {
     "name": "stdout",
     "output_type": "stream",
     "text": [
      "21\n"
     ]
    },
    {
     "name": "stderr",
     "output_type": "stream",
     "text": [
      "\r",
      " 22%|██▏       | 22/100 [15:20<54:22, 41.83s/it]"
     ]
    },
    {
     "name": "stdout",
     "output_type": "stream",
     "text": [
      "22\n"
     ]
    },
    {
     "name": "stderr",
     "output_type": "stream",
     "text": [
      "\r",
      " 23%|██▎       | 23/100 [16:18<54:35, 42.54s/it]"
     ]
    },
    {
     "name": "stdout",
     "output_type": "stream",
     "text": [
      "23\n"
     ]
    },
    {
     "name": "stderr",
     "output_type": "stream",
     "text": [
      "\r",
      " 24%|██▍       | 24/100 [18:29<58:32, 46.21s/it]"
     ]
    },
    {
     "name": "stdout",
     "output_type": "stream",
     "text": [
      "24\n"
     ]
    },
    {
     "name": "stderr",
     "output_type": "stream",
     "text": [
      "\r",
      " 25%|██▌       | 25/100 [20:38<1:01:56, 49.55s/it]"
     ]
    },
    {
     "name": "stdout",
     "output_type": "stream",
     "text": [
      "25\n"
     ]
    },
    {
     "name": "stderr",
     "output_type": "stream",
     "text": [
      "\r",
      " 26%|██▌       | 26/100 [21:10<1:00:16, 48.87s/it]"
     ]
    },
    {
     "name": "stdout",
     "output_type": "stream",
     "text": [
      "26\n"
     ]
    },
    {
     "name": "stderr",
     "output_type": "stream",
     "text": [
      "\r",
      " 27%|██▋       | 27/100 [22:20<1:00:23, 49.64s/it]"
     ]
    },
    {
     "name": "stdout",
     "output_type": "stream",
     "text": [
      "27\n"
     ]
    },
    {
     "name": "stderr",
     "output_type": "stream",
     "text": [
      "\r",
      " 28%|██▊       | 28/100 [23:59<1:01:41, 51.41s/it]"
     ]
    },
    {
     "name": "stdout",
     "output_type": "stream",
     "text": [
      "28\n"
     ]
    },
    {
     "name": "stderr",
     "output_type": "stream",
     "text": [
      "\r",
      " 29%|██▉       | 29/100 [24:24<59:45, 50.50s/it]  "
     ]
    },
    {
     "name": "stdout",
     "output_type": "stream",
     "text": [
      "29\n"
     ]
    },
    {
     "name": "stderr",
     "output_type": "stream",
     "text": [
      "\r",
      " 30%|███       | 30/100 [25:13<58:51, 50.45s/it]"
     ]
    },
    {
     "name": "stdout",
     "output_type": "stream",
     "text": [
      "30\n"
     ]
    },
    {
     "name": "stderr",
     "output_type": "stream",
     "text": [
      "\r",
      " 31%|███       | 31/100 [26:36<59:13, 51.50s/it]"
     ]
    },
    {
     "name": "stdout",
     "output_type": "stream",
     "text": [
      "31\n"
     ]
    },
    {
     "name": "stderr",
     "output_type": "stream",
     "text": [
      "\r",
      " 32%|███▏      | 32/100 [28:08<59:48, 52.77s/it]"
     ]
    },
    {
     "name": "stdout",
     "output_type": "stream",
     "text": [
      "32\n"
     ]
    },
    {
     "name": "stderr",
     "output_type": "stream",
     "text": [
      "\r",
      " 33%|███▎      | 33/100 [28:21<57:34, 51.56s/it]"
     ]
    },
    {
     "name": "stdout",
     "output_type": "stream",
     "text": [
      "33\n"
     ]
    },
    {
     "name": "stderr",
     "output_type": "stream",
     "text": [
      "\r",
      " 34%|███▍      | 34/100 [30:45<59:41, 54.27s/it]"
     ]
    },
    {
     "name": "stdout",
     "output_type": "stream",
     "text": [
      "34\n"
     ]
    },
    {
     "name": "stderr",
     "output_type": "stream",
     "text": [
      "\r",
      " 35%|███▌      | 35/100 [32:23<1:00:08, 55.52s/it]"
     ]
    },
    {
     "name": "stdout",
     "output_type": "stream",
     "text": [
      "35\n"
     ]
    },
    {
     "name": "stderr",
     "output_type": "stream",
     "text": [
      "\r",
      " 36%|███▌      | 36/100 [32:31<57:50, 54.22s/it]  "
     ]
    },
    {
     "name": "stdout",
     "output_type": "stream",
     "text": [
      "36\n"
     ]
    },
    {
     "name": "stderr",
     "output_type": "stream",
     "text": [
      "\r",
      " 37%|███▋      | 37/100 [33:19<56:44, 54.05s/it]"
     ]
    },
    {
     "name": "stdout",
     "output_type": "stream",
     "text": [
      "37\n"
     ]
    },
    {
     "name": "stderr",
     "output_type": "stream",
     "text": [
      "\r",
      " 38%|███▊      | 38/100 [35:38<58:08, 56.27s/it]"
     ]
    },
    {
     "name": "stdout",
     "output_type": "stream",
     "text": [
      "38\n"
     ]
    },
    {
     "name": "stderr",
     "output_type": "stream",
     "text": [
      "\r",
      " 39%|███▉      | 39/100 [36:03<56:23, 55.47s/it]"
     ]
    },
    {
     "name": "stdout",
     "output_type": "stream",
     "text": [
      "39\n"
     ]
    },
    {
     "name": "stderr",
     "output_type": "stream",
     "text": [
      "\r",
      " 40%|████      | 40/100 [36:34<54:51, 54.85s/it]"
     ]
    },
    {
     "name": "stdout",
     "output_type": "stream",
     "text": [
      "40\n"
     ]
    },
    {
     "name": "stderr",
     "output_type": "stream",
     "text": [
      "\r",
      " 41%|████      | 41/100 [36:48<52:57, 53.85s/it]"
     ]
    },
    {
     "name": "stdout",
     "output_type": "stream",
     "text": [
      "41\n"
     ]
    },
    {
     "name": "stderr",
     "output_type": "stream",
     "text": [
      "\r",
      " 42%|████▏     | 42/100 [36:59<51:04, 52.84s/it]"
     ]
    },
    {
     "name": "stdout",
     "output_type": "stream",
     "text": [
      "42\n"
     ]
    },
    {
     "name": "stderr",
     "output_type": "stream",
     "text": [
      "\r",
      " 43%|████▎     | 43/100 [37:20<49:30, 52.11s/it]"
     ]
    },
    {
     "name": "stdout",
     "output_type": "stream",
     "text": [
      "43\n"
     ]
    },
    {
     "name": "stderr",
     "output_type": "stream",
     "text": [
      "\r",
      " 44%|████▍     | 44/100 [37:49<48:08, 51.57s/it]"
     ]
    },
    {
     "name": "stdout",
     "output_type": "stream",
     "text": [
      "44\n"
     ]
    },
    {
     "name": "stderr",
     "output_type": "stream",
     "text": [
      "\r",
      " 45%|████▌     | 45/100 [38:54<47:33, 51.89s/it]"
     ]
    },
    {
     "name": "stdout",
     "output_type": "stream",
     "text": [
      "45\n"
     ]
    },
    {
     "name": "stderr",
     "output_type": "stream",
     "text": [
      "\r",
      " 46%|████▌     | 46/100 [40:17<47:18, 52.56s/it]"
     ]
    },
    {
     "name": "stdout",
     "output_type": "stream",
     "text": [
      "46\n"
     ]
    },
    {
     "name": "stderr",
     "output_type": "stream",
     "text": [
      "\r",
      " 47%|████▋     | 47/100 [41:38<46:57, 53.17s/it]"
     ]
    },
    {
     "name": "stdout",
     "output_type": "stream",
     "text": [
      "47\n"
     ]
    },
    {
     "name": "stderr",
     "output_type": "stream",
     "text": [
      "\r",
      " 48%|████▊     | 48/100 [43:14<46:51, 54.06s/it]"
     ]
    },
    {
     "name": "stdout",
     "output_type": "stream",
     "text": [
      "48\n"
     ]
    },
    {
     "name": "stderr",
     "output_type": "stream",
     "text": [
      "\r",
      " 49%|████▉     | 49/100 [44:24<46:13, 54.38s/it]"
     ]
    },
    {
     "name": "stdout",
     "output_type": "stream",
     "text": [
      "49\n"
     ]
    },
    {
     "name": "stderr",
     "output_type": "stream",
     "text": [
      "\r",
      " 50%|█████     | 50/100 [45:08<45:08, 54.18s/it]"
     ]
    },
    {
     "name": "stdout",
     "output_type": "stream",
     "text": [
      "50\n"
     ]
    },
    {
     "name": "stderr",
     "output_type": "stream",
     "text": [
      "\r",
      " 51%|█████     | 51/100 [46:57<45:07, 55.25s/it]"
     ]
    },
    {
     "name": "stdout",
     "output_type": "stream",
     "text": [
      "51\n"
     ]
    },
    {
     "name": "stderr",
     "output_type": "stream",
     "text": [
      "\r",
      " 52%|█████▏    | 52/100 [48:09<44:26, 55.56s/it]"
     ]
    },
    {
     "name": "stdout",
     "output_type": "stream",
     "text": [
      "52\n"
     ]
    },
    {
     "name": "stderr",
     "output_type": "stream",
     "text": [
      "\r",
      " 53%|█████▎    | 53/100 [49:26<43:50, 55.97s/it]"
     ]
    },
    {
     "name": "stdout",
     "output_type": "stream",
     "text": [
      "53\n"
     ]
    },
    {
     "name": "stderr",
     "output_type": "stream",
     "text": [
      "\r",
      " 54%|█████▍    | 54/100 [50:04<42:39, 55.65s/it]"
     ]
    },
    {
     "name": "stdout",
     "output_type": "stream",
     "text": [
      "54\n"
     ]
    },
    {
     "name": "stderr",
     "output_type": "stream",
     "text": [
      "\r",
      " 55%|█████▌    | 55/100 [50:38<41:25, 55.24s/it]"
     ]
    },
    {
     "name": "stdout",
     "output_type": "stream",
     "text": [
      "55\n"
     ]
    },
    {
     "name": "stderr",
     "output_type": "stream",
     "text": [
      "\r",
      " 56%|█████▌    | 56/100 [51:00<40:04, 54.66s/it]"
     ]
    },
    {
     "name": "stdout",
     "output_type": "stream",
     "text": [
      "56\n"
     ]
    },
    {
     "name": "stderr",
     "output_type": "stream",
     "text": [
      "\r",
      " 57%|█████▋    | 57/100 [51:31<38:52, 54.24s/it]"
     ]
    },
    {
     "name": "stdout",
     "output_type": "stream",
     "text": [
      "57\n"
     ]
    },
    {
     "name": "stderr",
     "output_type": "stream",
     "text": [
      "\r",
      " 58%|█████▊    | 58/100 [51:46<37:29, 53.56s/it]"
     ]
    },
    {
     "name": "stdout",
     "output_type": "stream",
     "text": [
      "58\n"
     ]
    },
    {
     "name": "stderr",
     "output_type": "stream",
     "text": [
      "\r",
      " 59%|█████▉    | 59/100 [52:02<36:09, 52.92s/it]"
     ]
    },
    {
     "name": "stdout",
     "output_type": "stream",
     "text": [
      "59\n"
     ]
    },
    {
     "name": "stderr",
     "output_type": "stream",
     "text": [
      "\r",
      " 60%|██████    | 60/100 [52:10<34:47, 52.18s/it]"
     ]
    },
    {
     "name": "stdout",
     "output_type": "stream",
     "text": [
      "60\n"
     ]
    },
    {
     "name": "stderr",
     "output_type": "stream",
     "text": [
      "\r",
      " 61%|██████    | 61/100 [53:47<34:23, 52.90s/it]"
     ]
    },
    {
     "name": "stdout",
     "output_type": "stream",
     "text": [
      "61\n"
     ]
    },
    {
     "name": "stderr",
     "output_type": "stream",
     "text": [
      "\r",
      " 62%|██████▏   | 62/100 [54:22<33:19, 52.61s/it]"
     ]
    },
    {
     "name": "stdout",
     "output_type": "stream",
     "text": [
      "62\n"
     ]
    },
    {
     "name": "stderr",
     "output_type": "stream",
     "text": [
      "\r",
      " 63%|██████▎   | 63/100 [54:46<32:09, 52.16s/it]"
     ]
    },
    {
     "name": "stdout",
     "output_type": "stream",
     "text": [
      "63\n"
     ]
    },
    {
     "name": "stderr",
     "output_type": "stream",
     "text": [
      "\r",
      " 64%|██████▍   | 64/100 [56:02<31:31, 52.54s/it]"
     ]
    },
    {
     "name": "stdout",
     "output_type": "stream",
     "text": [
      "64\n"
     ]
    },
    {
     "name": "stderr",
     "output_type": "stream",
     "text": [
      "\r",
      " 65%|██████▌   | 65/100 [56:39<30:30, 52.30s/it]"
     ]
    },
    {
     "name": "stdout",
     "output_type": "stream",
     "text": [
      "65\n"
     ]
    },
    {
     "name": "stderr",
     "output_type": "stream",
     "text": [
      "\r",
      " 66%|██████▌   | 66/100 [56:56<29:19, 51.76s/it]"
     ]
    },
    {
     "name": "stdout",
     "output_type": "stream",
     "text": [
      "66\n"
     ]
    },
    {
     "name": "stderr",
     "output_type": "stream",
     "text": [
      "\r",
      " 67%|██████▋   | 67/100 [57:03<28:06, 51.10s/it]"
     ]
    },
    {
     "name": "stdout",
     "output_type": "stream",
     "text": [
      "67\n"
     ]
    },
    {
     "name": "stderr",
     "output_type": "stream",
     "text": [
      "\r",
      " 68%|██████▊   | 68/100 [58:38<27:35, 51.74s/it]"
     ]
    },
    {
     "name": "stdout",
     "output_type": "stream",
     "text": [
      "68\n"
     ]
    },
    {
     "name": "stderr",
     "output_type": "stream",
     "text": [
      "\r",
      " 69%|██████▉   | 69/100 [59:37<26:47, 51.84s/it]"
     ]
    },
    {
     "name": "stdout",
     "output_type": "stream",
     "text": [
      "69\n"
     ]
    },
    {
     "name": "stderr",
     "output_type": "stream",
     "text": [
      "\r",
      " 70%|███████   | 70/100 [1:00:07<25:46, 51.54s/it]"
     ]
    },
    {
     "name": "stdout",
     "output_type": "stream",
     "text": [
      "70\n"
     ]
    },
    {
     "name": "stderr",
     "output_type": "stream",
     "text": [
      "\r",
      " 71%|███████   | 71/100 [1:01:13<25:00, 51.73s/it]"
     ]
    },
    {
     "name": "stdout",
     "output_type": "stream",
     "text": [
      "71\n"
     ]
    },
    {
     "name": "stderr",
     "output_type": "stream",
     "text": [
      "\r",
      " 72%|███████▏  | 72/100 [1:03:10<24:34, 52.65s/it]"
     ]
    },
    {
     "name": "stdout",
     "output_type": "stream",
     "text": [
      "72\n"
     ]
    },
    {
     "name": "stderr",
     "output_type": "stream",
     "text": [
      "\r",
      " 73%|███████▎  | 73/100 [1:03:30<23:29, 52.20s/it]"
     ]
    },
    {
     "name": "stdout",
     "output_type": "stream",
     "text": [
      "73\n"
     ]
    },
    {
     "name": "stderr",
     "output_type": "stream",
     "text": [
      "\r",
      " 74%|███████▍  | 74/100 [1:04:45<22:45, 52.50s/it]"
     ]
    },
    {
     "name": "stdout",
     "output_type": "stream",
     "text": [
      "74\n"
     ]
    },
    {
     "name": "stderr",
     "output_type": "stream",
     "text": [
      "\r",
      " 75%|███████▌  | 75/100 [1:05:29<21:49, 52.39s/it]"
     ]
    },
    {
     "name": "stdout",
     "output_type": "stream",
     "text": [
      "75\n"
     ]
    },
    {
     "name": "stderr",
     "output_type": "stream",
     "text": [
      "\r",
      " 76%|███████▌  | 76/100 [1:06:13<20:54, 52.28s/it]"
     ]
    },
    {
     "name": "stdout",
     "output_type": "stream",
     "text": [
      "76\n"
     ]
    },
    {
     "name": "stderr",
     "output_type": "stream",
     "text": [
      "\r",
      " 77%|███████▋  | 77/100 [1:06:54<19:59, 52.13s/it]"
     ]
    },
    {
     "name": "stdout",
     "output_type": "stream",
     "text": [
      "77\n"
     ]
    },
    {
     "name": "stderr",
     "output_type": "stream",
     "text": [
      "\r",
      " 78%|███████▊  | 78/100 [1:07:49<19:07, 52.18s/it]"
     ]
    },
    {
     "name": "stdout",
     "output_type": "stream",
     "text": [
      "78\n"
     ]
    },
    {
     "name": "stderr",
     "output_type": "stream",
     "text": [
      "\r",
      " 79%|███████▉  | 79/100 [1:08:05<18:05, 51.71s/it]"
     ]
    },
    {
     "name": "stdout",
     "output_type": "stream",
     "text": [
      "79\n"
     ]
    },
    {
     "name": "stderr",
     "output_type": "stream",
     "text": [
      "\r",
      " 80%|████████  | 80/100 [1:09:02<17:15, 51.78s/it]"
     ]
    },
    {
     "name": "stdout",
     "output_type": "stream",
     "text": [
      "80\n"
     ]
    },
    {
     "name": "stderr",
     "output_type": "stream",
     "text": [
      "\r",
      " 81%|████████  | 81/100 [1:09:39<16:20, 51.60s/it]"
     ]
    },
    {
     "name": "stdout",
     "output_type": "stream",
     "text": [
      "81\n"
     ]
    },
    {
     "name": "stderr",
     "output_type": "stream",
     "text": [
      "\r",
      " 82%|████████▏ | 82/100 [1:10:14<15:25, 51.40s/it]"
     ]
    },
    {
     "name": "stdout",
     "output_type": "stream",
     "text": [
      "82\n"
     ]
    },
    {
     "name": "stderr",
     "output_type": "stream",
     "text": [
      "\r",
      " 83%|████████▎ | 83/100 [1:10:35<14:27, 51.02s/it]"
     ]
    },
    {
     "name": "stdout",
     "output_type": "stream",
     "text": [
      "83\n"
     ]
    },
    {
     "name": "stderr",
     "output_type": "stream",
     "text": [
      "\r",
      " 84%|████████▍ | 84/100 [1:10:55<13:30, 50.66s/it]"
     ]
    },
    {
     "name": "stdout",
     "output_type": "stream",
     "text": [
      "84\n"
     ]
    },
    {
     "name": "stderr",
     "output_type": "stream",
     "text": [
      "\r",
      " 85%|████████▌ | 85/100 [1:11:27<12:36, 50.44s/it]"
     ]
    },
    {
     "name": "stdout",
     "output_type": "stream",
     "text": [
      "85\n"
     ]
    },
    {
     "name": "stderr",
     "output_type": "stream",
     "text": [
      "\r",
      " 86%|████████▌ | 86/100 [1:11:29<11:38, 49.88s/it]"
     ]
    },
    {
     "name": "stdout",
     "output_type": "stream",
     "text": [
      "86\n"
     ]
    },
    {
     "name": "stderr",
     "output_type": "stream",
     "text": [
      "\r",
      " 87%|████████▋ | 87/100 [1:11:40<10:42, 49.43s/it]"
     ]
    },
    {
     "name": "stdout",
     "output_type": "stream",
     "text": [
      "87\n"
     ]
    },
    {
     "name": "stderr",
     "output_type": "stream",
     "text": [
      "\r",
      " 88%|████████▊ | 88/100 [1:12:32<09:53, 49.46s/it]"
     ]
    },
    {
     "name": "stdout",
     "output_type": "stream",
     "text": [
      "88\n"
     ]
    },
    {
     "name": "stderr",
     "output_type": "stream",
     "text": [
      "\r",
      " 89%|████████▉ | 89/100 [1:13:23<09:04, 49.47s/it]"
     ]
    },
    {
     "name": "stdout",
     "output_type": "stream",
     "text": [
      "89\n"
     ]
    },
    {
     "name": "stderr",
     "output_type": "stream",
     "text": [
      "\r",
      " 90%|█████████ | 90/100 [1:14:06<08:14, 49.41s/it]"
     ]
    },
    {
     "name": "stdout",
     "output_type": "stream",
     "text": [
      "90\n"
     ]
    },
    {
     "name": "stderr",
     "output_type": "stream",
     "text": [
      "\r",
      " 91%|█████████ | 91/100 [1:14:47<07:23, 49.32s/it]"
     ]
    },
    {
     "name": "stdout",
     "output_type": "stream",
     "text": [
      "91\n"
     ]
    },
    {
     "name": "stderr",
     "output_type": "stream",
     "text": [
      "\r",
      " 92%|█████████▏| 92/100 [1:14:59<06:31, 48.91s/it]"
     ]
    },
    {
     "name": "stdout",
     "output_type": "stream",
     "text": [
      "92\n"
     ]
    },
    {
     "name": "stderr",
     "output_type": "stream",
     "text": [
      "\r",
      " 93%|█████████▎| 93/100 [1:15:30<05:40, 48.71s/it]"
     ]
    },
    {
     "name": "stdout",
     "output_type": "stream",
     "text": [
      "93\n"
     ]
    },
    {
     "name": "stderr",
     "output_type": "stream",
     "text": [
      "\r",
      " 94%|█████████▍| 94/100 [1:17:04<04:55, 49.20s/it]"
     ]
    },
    {
     "name": "stdout",
     "output_type": "stream",
     "text": [
      "94\n"
     ]
    },
    {
     "name": "stderr",
     "output_type": "stream",
     "text": [
      "\r",
      " 95%|█████████▌| 95/100 [1:17:15<04:03, 48.80s/it]"
     ]
    },
    {
     "name": "stdout",
     "output_type": "stream",
     "text": [
      "95\n"
     ]
    },
    {
     "name": "stderr",
     "output_type": "stream",
     "text": [
      "\r",
      " 96%|█████████▌| 96/100 [1:17:38<03:14, 48.53s/it]"
     ]
    },
    {
     "name": "stdout",
     "output_type": "stream",
     "text": [
      "96\n"
     ]
    },
    {
     "name": "stderr",
     "output_type": "stream",
     "text": [
      "\r",
      " 97%|█████████▋| 97/100 [1:18:09<02:25, 48.35s/it]"
     ]
    },
    {
     "name": "stdout",
     "output_type": "stream",
     "text": [
      "97\n"
     ]
    },
    {
     "name": "stderr",
     "output_type": "stream",
     "text": [
      "\r",
      " 98%|█████████▊| 98/100 [1:18:54<01:36, 48.31s/it]"
     ]
    },
    {
     "name": "stdout",
     "output_type": "stream",
     "text": [
      "98\n"
     ]
    },
    {
     "name": "stderr",
     "output_type": "stream",
     "text": [
      "\r",
      " 99%|█████████▉| 99/100 [1:19:59<00:48, 48.48s/it]"
     ]
    },
    {
     "name": "stdout",
     "output_type": "stream",
     "text": [
      "99\n"
     ]
    },
    {
     "ename": "IndexError",
     "evalue": "index 99 is out of bounds for axis 0 with size 99",
     "output_type": "error",
     "traceback": [
      "\u001b[0;31m---------------------------------------------------------------------------\u001b[0m",
      "\u001b[0;31mIndexError\u001b[0m                                Traceback (most recent call last)",
      "\u001b[0;32m<ipython-input-2-8a4164e83b22>\u001b[0m in \u001b[0;36m<module>\u001b[0;34m()\u001b[0m\n\u001b[1;32m      9\u001b[0m \u001b[0;32mfor\u001b[0m \u001b[0mi\u001b[0m \u001b[0;32min\u001b[0m \u001b[0mtqdm\u001b[0m\u001b[0;34m(\u001b[0m\u001b[0mrange\u001b[0m\u001b[0;34m(\u001b[0m\u001b[0mnumberofwords\u001b[0m\u001b[0;34m)\u001b[0m\u001b[0;34m)\u001b[0m\u001b[0;34m:\u001b[0m\u001b[0;34m\u001b[0m\u001b[0m\n\u001b[1;32m     10\u001b[0m     \u001b[0mprint\u001b[0m\u001b[0;34m(\u001b[0m\u001b[0mi\u001b[0m\u001b[0;34m)\u001b[0m\u001b[0;34m\u001b[0m\u001b[0m\n\u001b[0;32m---> 11\u001b[0;31m     \u001b[0mtokens\u001b[0m\u001b[0;34m=\u001b[0m\u001b[0munquote\u001b[0m\u001b[0;34m(\u001b[0m\u001b[0mwordslist\u001b[0m\u001b[0;34m[\u001b[0m\u001b[0mi\u001b[0m\u001b[0;34m]\u001b[0m\u001b[0;34m,\u001b[0m\u001b[0;34m'utf-8'\u001b[0m\u001b[0;34m)\u001b[0m\u001b[0;34m\u001b[0m\u001b[0m\n\u001b[0m\u001b[1;32m     12\u001b[0m     \u001b[0mwikipedia\u001b[0m\u001b[0;34m.\u001b[0m\u001b[0mset_lang\u001b[0m\u001b[0;34m(\u001b[0m\u001b[0;34m'en'\u001b[0m\u001b[0;34m)\u001b[0m\u001b[0;34m\u001b[0m\u001b[0m\n\u001b[1;32m     13\u001b[0m     \u001b[0mwiki_wiki\u001b[0m \u001b[0;34m=\u001b[0m \u001b[0mwikipediaapi\u001b[0m\u001b[0;34m.\u001b[0m\u001b[0mWikipedia\u001b[0m\u001b[0;34m(\u001b[0m\u001b[0;34m'en'\u001b[0m\u001b[0;34m)\u001b[0m\u001b[0;34m\u001b[0m\u001b[0m\n",
      "\u001b[0;31mIndexError\u001b[0m: index 99 is out of bounds for axis 0 with size 99"
     ]
    }
   ],
   "source": [
    "hotwords=pandas.read_csv('./data/revisions/hot_10000.csv',sep='\t')\n",
    "hotwords.sort_values(by=['frequency'],ascending=False,inplace=True)\n",
    "name=np.load('./data/languageName')\n",
    "number=np.load('./data/languagenumber')\n",
    "numberofwords=100\n",
    "wordslist=np.array(hotwords.iloc[1:numberofwords,0])\n",
    "lengths=np.ones((len(name),numberofwords))\n",
    "print('start')\n",
    "for i in tqdm(range(numberofwords)):\n",
    "    print(i)\n",
    "    tokens=unquote(wordslist[i],'utf-8')\n",
    "    wikipedia.set_lang('en')\n",
    "    wiki_wiki = wikipediaapi.Wikipedia('en')\n",
    "    p_wiki = wiki_wiki.page(tokens)\n",
    "    langlinks = p_wiki.langlinks\n",
    "    try:\n",
    "        out = len(wikipedia.page(tokens).content)\n",
    "    except wikipedia.exceptions.DisambiguationError as e:\n",
    "        try:\n",
    "            out = len(wikipedia.page(e.options[0]).content)\n",
    "        except:\n",
    "            out=0\n",
    "    except:\n",
    "            out=0\n",
    "    lengths[0,i]=out\n",
    "    for lang in langlinks.keys():\n",
    "        if lang in name:\n",
    "            NewTitle=langlinks[lang].title\n",
    "            NewTitle=unquote(NewTitle, 'utf-8')\n",
    "            wikipedia.set_lang(lang)\n",
    "            try:\n",
    "                out = len(wikipedia.page(NewTitle).content)\n",
    "            except wikipedia.exceptions.DisambiguationError as e:\n",
    "                try:\n",
    "                    out = len(wikipedia.page(e.options[0]).content)\n",
    "                except:\n",
    "                    out=0\n",
    "            except:\n",
    "                out=0  \n",
    "            index=list(name).index(lang)\n",
    "            lengths[index,i]=out\n",
    "            "
   ]
  },
  {
   "cell_type": "code",
   "execution_count": 296,
   "metadata": {},
   "outputs": [
    {
     "name": "stderr",
     "output_type": "stream",
     "text": [
      "/home/xuanli2/penv/lib/python3.5/site-packages/bs4/__init__.py:181: UserWarning: No parser was explicitly specified, so I'm using the best available HTML parser for this system (\"lxml\"). This usually isn't a problem, but if you run this code on another system, or in a different virtual environment, it may use a different parser and behave differently.\n",
      "\n",
      "The code that caused this warning is on line 184 of the file /usr/lib/python3.5/runpy.py. To get rid of this warning, change code that looks like this:\n",
      "\n",
      " BeautifulSoup(YOUR_MARKUP})\n",
      "\n",
      "to this:\n",
      "\n",
      " BeautifulSoup(YOUR_MARKUP, \"lxml\")\n",
      "\n",
      "  markup_type=markup_type))\n"
     ]
    },
    {
     "name": "stdout",
     "output_type": "stream",
     "text": [
      "A hero (masculine) or heroine (feminine) is a person or main character of a literary work who, in the face of danger, combats adversity through feats of ingenuity, bravery or strength; the original hero type of classical epics did such things for the sake of glory and honor. On the hand are Medieval and modern heroes, who perform great deeds for the common good instead of the classical goal of pride and fame.\n",
      "The concept of the hero can be found in classical literature. It is the main or revered character in heroic epic poetry celebrated through ancient legends of a people, often striving for military conquest and living by a continually flawed personal honor code. The definition of a hero has changed throughout time. Merriam Webster dictionary defines a hero as \"a person who is admired for great or brave acts or fine qualities.\" Examples of heroes range from mythological figures, such as Gilgamesh, Achilles and Iphigenia, to historical figures, such as Joan of Arc, modern heroes like Alvin York, Audie Murphy and Chuck Yeager, and fictional superheroes, including Superman and Batman.\n",
      "\n",
      "\n",
      "== Etymology ==\n",
      "\n",
      "The word hero comes from the Greek ἥρως (hērōs), \"hero\" (literally \"protector\" or \"defender\"), particularly one such as Heracles with divine ancestry or later given divine honors. Before the decipherment of Linear B the original form of the word was assumed to be *ἥρωϝ-, hērōw-, but the Mycenaean compound ti-ri-se-ro-e demonstrates the absence of -w-. R. S. P. Beekes asserts that the word has a Pre-Greek origin.According to the American Heritage Dictionary of the English Language, the Indo-European root is *ser meaning \"to protect\". According to Eric Partridge in Origins, the Greek word  Hērōs \"is akin to\" the Latin seruāre, meaning to safeguard.  Partridge concludes, \"The basic sense of both Hera and hero would therefore be 'protector'.\"\n",
      "The word 'hero' is used in English to refer either explicitly to male heroes or as a gender-neutral form (whereas the term heroine designates only a female hero). The use of 'hero' as a gender-neutral substantive has been current from at least the beginning of the 21st Century. (The American Heritage Dictionary, 4th edition [2000], offers this citation from the Washington Post: “Already a national hero in her economically troubled South Korea,... [Se Ri] Pak is packing galleries at [golf] tournaments stateside.”) In Greek the term ἥρως (''hērōs'') was used exclusively to refer to men. Geneviève Dermenjian, Jacques Guilhaumou and Martine Lapied in Le Panthéon des Femmes Figures et Représentations des Héroines argue that \"hero\" as a supposedly gender-neutral term carries a strong implicit male bias. See also Gender neutrality in English.\n",
      "\n",
      "\n",
      "== Antiquity ==\n",
      "\n",
      "A classical hero is considered to be a \"warrior who lives and dies in the pursuit of honor\" and asserts his or her greatness by \"the brilliancy and efficiency with which they kill\". Each classical hero's life focuses on fighting, which occurs in war or during an epic quest. Classical heroes are commonly semi-divine and extraordinarily gifted, like Achilles, evolving into heroic characters through their perilous circumstances. While these heroes are incredibly resourceful and skilled, they are often foolhardy, court disaster, risk their followers' lives for trivial matters, and behave arrogantly in a childlike manner. During classical times, people regarded heroes with the highest esteem and utmost importance, explaining their prominence within epic literature. The appearance of these mortal figures marks a revolution of audiences and writers turning away from immortal gods to mortal mankind, whose heroic moments of glory survive in the memory of their descendants, extending their legacy.\n",
      "Hector was a Trojan prince and the greatest fighter for Troy in the Trojan War, which is known primarily through Homer's The Iliad. Hector acted as leader of the Trojans and their allies in the defense of Troy, \"killing 31,000 Greek fighters,\" offers Hyginus. Hector was known not only for his courage but also for his noble and courtly nature. Indeed, Homer places Hector as peace-loving, thoughtful as well as bold, a good son, husband and father, and without darker motives. However, his familial values conflict greatly with his heroic aspirations in The Iliad, as he cannot be both the protector of Troy and a father to his child. Hector is ultimately betrayed by the gods when Athena appears disguised as his ally Deiphobus and convinces him to take on Achilles, leading to his death at the hands of a superior warrior.Achilles was a Greek Hero who was considered the most formidable military fighter in the entire Trojan War and the central character of The Iliad. He was the child of Thetis and Peleus, making him a demi-god. He wielded superhuman strength on the battlefield and was blessed with a close relationship to the Gods. Achilles famously refuses to fight after his dishonoring at the hands of Agamemnon, and only returns to the war due to unadulterated rage after Hector kills his close friend Patroclus. Achilles was known for uncontrollable rage that defined many of his bloodthirsty actions, such as defiling Hector's corpse by dragging it around the city of Troy. Achilles plays a tragic role in The Iliad brought about by constant de-humanization throughout the epic, having his menis (wrath) overpower his philos (love).Heroes in myth often had close but conflicted relationships with the gods. Thus Heracles's name means \"the glory of Hera\", even though he was tormented all his life by Hera, the Queen of the Gods. Perhaps the most striking example is the Athenian king Erechtheus, whom Poseidon killed for choosing Athena over him as the city's patron god. When the Athenians worshiped Erechtheus on the Acropolis, they invoked him as Poseidon  Erechtheus.\n",
      "Fate, or destiny, plays a massive role in the stories of classical heroes. The classical hero's heroic significance stems from battlefield conquests, an inherently dangerous action. The gods in Greek Mythology, when interacting with the heroes, often foreshadow the hero's eventual death on the battlefield. Countless heroes and gods go to great lengths to alter their  pre-destined fate, but with no success, as no immortal can change their prescribed outcomes by the three Fates. The most prominent example of this is found in Oedipus Rex. After learning that his son, Oedipus, will end up killing him, the King of Thebes, Laius, takes huge steps to assure his son's death by removing him from the kingdom. But, Oedipus slays his father without an afterthought when he unknowingly encounters him in a dispute on the road many years later. The lack of recognition enabled Oedipus to slay his father, ironically further binding his father to his fate.Stories of heroism may serve as moral examples. However, classical heroes often didn't embody the Christian notion of an upstanding, perfectly moral hero. For example, Achilles's character-issues of hateful rage lead to merciless slaughter and his overwhelming pride lead to him only joining the Trojan War because he didn't want his soldiers to win all of the glory. Classical heroes, regardless of their morality, were placed in religion. In classical antiquity, cults that venerated deified heroes such as Heracles, Perseus, and Achilles played an important role in Ancient Greek religion. These ancient Greek hero cults worshipped heroes from oral epic tradition, with these heroes often bestowing blessings, especially healing ones, on individuals.\n",
      "\n",
      "\n",
      "== Myth and monomyth ==\n",
      "\n",
      "The concept of the \"Mythic Hero Archetype\" was first developed by Lord Raglan in his 1936 book, The Hero, A Study in Tradition, Myth and Drama. It is a set of 22 common traits that he said were shared by many heroes in various cultures, myths and religions throughout history and around the world.  Raglan argued that the higher the score, the more likely the figure is mythical.The concept of a story archetype of the standard monomythical \"hero's quest\" that was reputed to be pervasive across all cultures is somewhat controversial. Expounded mainly by Joseph Campbell in his 1949 work The Hero with a Thousand Faces, it illustrates several uniting themes of hero stories that hold similar ideas of what a hero represents, despite vastly different cultures and beliefs. The monomyth or Hero's Journey  consists of three separate stages including the Departure, Initiation, and Return. Within these stages there are several archetypes that the hero or heroine may follow including the call to adventure (which they may initially refuse), supernatural aid, proceeding down a road of trials, achieving a realization about themselves (or an apotheosis), and attaining the freedom to live through their quest or journey. Campbell offered examples of stories with similar themes  such as Krishna, Buddha, Apollonius of Tyana, and Jesus. One of the themes he explores is the androgynous hero, who combines male and female traits, like Bodhisattva: \"The first wonder to be noted here is the androgynous character of the Bodhisattva: masculine Avalokiteshvara, feminine Kwan Yin.\" In his 1968 book, The Masks of God: Occidental Mythology, Campbell writes \"It is clear that, whether accurate or not as to biographical detail, the moving legend of the Crucified and Risen Christ was fit to bring a new warmth, immediacy, and humanity, to the old motifs of the beloved Tammuz, Adonis, and Osiris cycles.\"\n",
      "\n",
      "\n",
      "== Slavic fairy tales ==\n",
      "\n",
      "Vladimir Propp, in his analysis of the Russian fairy tale, concluded that a fairy tale had only eight dramatis personæ, of which one was the hero, and his analysis has been widely applied to non-Russian folklore. The actions that fall into such a hero's sphere include:\n",
      "\n",
      "Departure on a quest\n",
      "Reacting to the test of a donor\n",
      "Marrying a princess (or similar figure)Propp distinguished between seekers and victim-heroes. A villain could initiate the issue by kidnapping the hero or driving him out; these were victim-heroes. On the other hand, an antagonist could rob the hero, or kidnap someone close to him, or, without the villain's intervention, the hero could realize that he lacked something and set out to find it; these heroes are seekers. Victims may appear in tales with seeker heroes, but the tale does not follow them both.\n",
      "\n",
      "\n",
      "== Historical studies ==\n",
      "\n",
      "No history can be written without consideration of the lengthy list of recipients of national medals for bravery, populated by firefighters, policemen and policewomen, ambulance medics and ordinary have-a-go heroes. These persons risked their lives to try to save or protect the lives of others: for example, the Canadian Cross of Valour (C.V.) \"recognizes acts of the most conspicuous courage in circumstances of extreme peril\"; examples of recipients are Mary Dohey and David Gordon Cheverie.\n",
      "The philosopher Hegel gave a central role to the \"hero\", personalized by Napoleon, as the incarnation of a particular culture's Volksgeist, and thus of the general Zeitgeist. Thomas Carlyle's 1841 On Heroes, Hero Worship and the Heroic in History also accorded a key function to heroes and great men in history. Carlyle centered history on the biography of a few central individuals such as Oliver Cromwell or Frederick the Great. His heroes were political and military figures, the founders or topplers of states. His history of great men included geniuses good and, perhaps for the first time in historical study, evil.\n",
      "Explicit defenses of Carlyle's position were rare in the second part of the 20th century. Most in the philosophy of history school contend that the motive forces in history can best be described only with a wider lens than the one that Carlyle used for his portraits. For example, Karl Marx argued that history was determined by the massive social forces at play in \"class struggles\", not by the individuals by whom these forces are played out. After Marx, Herbert Spencer wrote at the end of the 19th century: \"You must admit that the genesis of the great man depends on the long series of complex influences which has produced the race in which he appears, and the social state into which that race has slowly grown....Before he can remake his society, his society must make him.\" Michel Foucault argued in his analysis of societal communication and debate that history was mainly the \"science of the sovereign\", until its inversion by the \"historical and political popular discourse\".\n",
      "\n",
      "Modern examples of the typical hero are  Minnie Vautrin, Norman Bethune,  Alan Turing, Raoul Wallenberg, Mother Teresa, Nelson Mandela, and Aung San Suu Kyi.\n",
      "The Annales School, led by Lucien Febvre, Marc Bloch and Fernand Braudel, would contest the exaggeration of the role of individual subjects in history. Indeed, Braudel distinguished various time scales, one accorded to the life of an individual, another accorded to the life of a few human generations, and the last one to civilizations, in which geography, economics and demography play a role considerably more decisive than that of individual subjects.\n",
      "Among noticeable events in the studies of the role of the hero and Great man in history one should mention Sydney Hook's book (1943) The Hero in History. In the second half of the twentieth century such male-focused theory has been contested, among others by feminists writers such as Judith Fetterley in The Resisting Reader (1977) and literary theorist Nancy K. Miller, The Heroine's Text: Readings in the French and English Novel, 1722–1782.In the epoch of globalization an individual can still change the development of the country and of the whole world so this gives reasons to some scholars to suggest returning to the problem of the role of the hero in history from the viewpoint of modern historical knowledge and using up-to-date methods of historical analysis.Within the frameworks of developing counterfactual history, attempts are made to examine some hypothetical scenarios of historical development. The hero attracts much attention because most of those scenarios are based on the suppositions: what would have happened if this or that historical individual had or had not been alive.\n",
      "\n",
      "\n",
      "== Gender differences ==\n",
      "If the term \"heroine\" exists, \"hero\" is often the predominantly used term even though its neutrality can be put into question. The definitions of the heroine often refer back to the one of the hero, but sometimes insinuate that their deeds are of less value, or were obtained only thanks to their love of God or a country or of a man. Therefore, implying that an external explanation for the extraordinary nature of her deeds is needed to justify them. The warrior women is considered unholy, unnatural. These figures tend to be erased because they don't fit in the feminine values they are supposed to represent.\n",
      "Acts of heroism coming from women are acceptable, during specific time, like when men are at war, during times of crisis, but they are otherwise often seen as suspicious. Moreover, women are often not individualized, but praised as a group for heroic deeds. Women in the military were often subordinated to tasks less likely to be praised than armed combat, and are rather praised for their courage as a general force, nurses during wartime are a good example of this phenomenon.\n",
      "If their story gets told, they are made to fit in the acceptable script. Their story is told in a way as to match the expectations of femininity ex: maternal love, compassion, fidelity, resistance, defense. Etc. So the set of strengths in which a heroine could historically express her value are overall not the same and perceived as less valuable than their masculine counterpart.In general, the cultural repertoire of heroic stories requires different qualities for each gender. The contrast of the ideal narrative line pits the autonomous ego-enhancing hero single-handedly and single-heartedly progressing toward a goal versus the long-suffering, selfless, socially embedded heroine, being moved in many directions, lacking the tenacious loyalty demanded of a quest.\n",
      "If they get mentioned in history, the way their story is told also differs from their male counterpart, they are generally portrayed as young and beautiful, their actions are limited to a short time\n",
      "lapse in opposition to the possibility of a long heroic career for male heroes, underlying feelings that led to their heroic acts are underlined, overall less details about their life are kept and\n",
      "emphasis is put over their tragic death. Not to forget that heroes and heroines are part of a social construct, their history is told and changes throughout history to serve different purposes of memory, propaganda according to diverse social, political or religious evolutions.\n",
      "\n",
      "\n",
      "== Modern fiction ==\n",
      "\n",
      "The word \"hero\" or \"heroine\", in modern times, is sometimes used to describe the protagonist or the love interest of a story, a usage which can conflict with the superhuman expectations of heroism. A classic example is Anna Karenina, the lead character in the novel of the same title by Leo Tolstoy. In modern literature the hero is more and more a problematic concept. In 1848, for example, William Makepeace Thackeray gave Vanity Fair the subtitle A Novel without a Hero, and imagined a world in which no sympathetic character was to be found. Vanity Fair is a satirical representation of the absence of truly moral heroes in the modern world. The story focuses on the characters Emmy Sedley and Becky Sharpe (the latter as the clearly defined anti-hero), with the plot focused on the eventual marriage of these two characters to rich men, revealing character flaws as the story progresses. Even the most sympathetic characters, like Captain Dobbin, are susceptible to weakness, as he is often narcissistic and melancholy.\n",
      "The larger-than-life hero is a more common feature of fantasy (particularly in comic-books and epic fantasy) than more realist works. However, these larger-than life figures remain prevalent in society. The superhero genre is a multibillion-dollar industry that includes comic books, movies, toys and video games. Superheroes usually possess extraordinary talents and powers that no living human could ever emulate. The superhero stories often pit a super villain against the hero, with the hero fighting the crime caused by the super villain. Examples of long-running superheroes include Superman, Batman, Spider-Man and Wonder Woman.\n",
      "\n",
      "\n",
      "== Psychology ==\n",
      "Social psychology has begun paying attention to heroes and heroism. Zeno Franco and Philip Zimbardo point out differences between heroism and altruism, and they offer evidence that observers' perceptions of unjustified risk plays a role above and beyond risk type in determining the ascription of heroic status.An evolutionary psychology explanation for heroic risk-taking is that it is a costly signal demonstrating the ability of the hero. It can be seen as one form of altruism for which there are also several other evolutionary explanations.Roma Chatterji has suggested that the hero or more generally protagonist is first and foremost a symbolic representation of the person who is experiencing the story while reading, listening or watching; thus the relevance of the hero to the individual relies a great deal on how much similarity there is between the two. One reason for the hero-as-self interpretation of stories and myths is the human inability to view the world from any perspective but a personal one.\n",
      "\n",
      "\n",
      "== See also ==\n",
      "\n",
      "\n",
      "== References ==\n",
      "\n",
      "\n",
      "== Further reading ==\n",
      "\n",
      "\n",
      "== External links ==\n",
      "The British Hero - online exhibition from screenonline, a website of the British Film Institute, looking at British heroes of film and television.\n",
      "Listen to BBC Radio 4's In Our Time programme on Heroism\n",
      "\"The Role of Heroes in Children's Lives\" by Marilyn Price-Mitchell, PhD\n",
      "10% - What Makes A Hero directed by Yoav Shamir\n",
      "Everyday Heroines Photography Exhibition\n"
     ]
    }
   ],
   "source": [
    "wikipedia.set_lang('en')\n",
    "try:\n",
    "    out = wikipedia.page('Heroes').content\n",
    "except wikipedia.exceptions.DisambiguationError as e:\n",
    "    out = wikipedia.page(e.options[0]).content\n",
    "print(out)"
   ]
  },
  {
   "cell_type": "code",
   "execution_count": 288,
   "metadata": {},
   "outputs": [
    {
     "data": {
      "text/plain": [
       "4032               World_War_II\n",
       "2164                  Hard_disk\n",
       "3360                     Heroes\n",
       "4660                     Heroes\n",
       "8033           Data_(Star_Trek)\n",
       "7598    Super_Smash_Bros._Brawl\n",
       "9004                Che_Guevara\n",
       "5406             Blackwater_USA\n",
       "3139             Blackwater_USA\n",
       "Name: entry, dtype: object"
      ]
     },
     "execution_count": 288,
     "metadata": {},
     "output_type": "execute_result"
    }
   ],
   "source": [
    "hotwords.iloc[1:numberofwords,0]"
   ]
  },
  {
   "cell_type": "code",
   "execution_count": null,
   "metadata": {},
   "outputs": [],
   "source": [
    "lengths.shape"
   ]
  },
  {
   "cell_type": "code",
   "execution_count": 316,
   "metadata": {},
   "outputs": [
    {
     "name": "stdout",
     "output_type": "stream",
     "text": [
      "[[     0.      0.      0. ...      0.      0.      0.]\n",
      " [ 63517.  30664.   9701. ...      0.      0.      0.]\n",
      " [217316.  72600.      0. ...      0.      0.      0.]\n",
      " ...\n",
      " [     0.      0.      0. ...      0.      0.      0.]\n",
      " [     0.      0.      0. ...      0.      0.      0.]\n",
      " [     0.      0.      0. ...      0.      0.      0.]]\n"
     ]
    },
    {
     "name": "stderr",
     "output_type": "stream",
     "text": [
      "/home/xuanli2/penv/lib/python3.5/site-packages/ipykernel_launcher.py:5: RuntimeWarning: invalid value encountered in true_divide\n",
      "  \"\"\"\n"
     ]
    },
    {
     "data": {
      "text/plain": [
       "array([           nan, 3.46273333e+04, 1.44958000e+05, 1.01639000e+05,\n",
       "       3.82590000e+04, 2.10580000e+04, 8.56150000e+04, 4.57300000e+04,\n",
       "       4.66350000e+04, 7.32330000e+04, 3.80285000e+04, 3.36305000e+04,\n",
       "       3.42480000e+04, 1.62290000e+04, 2.42620000e+04, 5.54420000e+04,\n",
       "       4.63370000e+04, 3.89460000e+04, 7.26090000e+04, 4.44860000e+04,\n",
       "       2.20360000e+04, 3.77050000e+04, 8.99735000e+04, 5.47960000e+04,\n",
       "       4.63825000e+04, 3.13270000e+04, 3.43155000e+04, 4.52575000e+04,\n",
       "       1.06760000e+04, 1.92220000e+04, 5.48845000e+04, 3.16165000e+04,\n",
       "       2.99945000e+04, 3.64610000e+04, 1.31850000e+04, 4.97505000e+04,\n",
       "       3.01910000e+04, 6.65905000e+04,            nan, 6.25275000e+04,\n",
       "       1.42145000e+04, 1.12400000e+03, 1.43485000e+04, 1.04180000e+04,\n",
       "       1.09570000e+04, 2.87040000e+04, 5.25900000e+03, 5.32895000e+04,\n",
       "       3.31035000e+04, 2.31580000e+04, 7.50730000e+04, 3.08705000e+04,\n",
       "       5.25850000e+03, 7.87600000e+03, 7.40200000e+03, 1.84135000e+04,\n",
       "       1.20495000e+04, 1.61525000e+04, 2.03635000e+04, 4.50000000e+01,\n",
       "       1.66975000e+04, 4.41000000e+02, 1.88375000e+04, 5.73850000e+03,\n",
       "       8.27300000e+03, 9.14090000e+04, 2.14035000e+04, 5.24500000e+02,\n",
       "       3.25860000e+04, 7.55320000e+04, 5.68330000e+04, 2.97450000e+03,\n",
       "       1.71890000e+04, 1.08450000e+03, 3.42550000e+03, 9.53450000e+03,\n",
       "       1.03300000e+03, 5.93650000e+03, 3.58150000e+04, 4.94750000e+03,\n",
       "       2.49240000e+04, 4.17000000e+02, 3.75600000e+03, 2.40260000e+04,\n",
       "       3.17150000e+03, 1.30800000e+03, 2.42400000e+03, 5.03550000e+03,\n",
       "       1.23100000e+04,            nan, 3.61100000e+03, 1.50800000e+03,\n",
       "       2.21200000e+03, 1.04400000e+04,            nan, 5.07000000e+02,\n",
       "                  nan,            nan, 4.19500000e+02,            nan,\n",
       "                  nan, 1.13000000e+02, 4.05795000e+04, 5.49700000e+04,\n",
       "       1.65180000e+04, 7.73400000e+03,            nan, 2.88000000e+02,\n",
       "       4.63500000e+03,            nan, 5.56000000e+02, 7.55700000e+03,\n",
       "       1.37050000e+03, 2.03300000e+03, 4.10000000e+01, 7.12000000e+02,\n",
       "                  nan, 1.82000000e+02, 6.74000000e+02, 3.73000000e+02,\n",
       "                  nan, 1.33795000e+04,            nan, 5.24320000e+04,\n",
       "       3.28440000e+04, 5.07000000e+02, 9.69500000e+03, 1.47750000e+03,\n",
       "                  nan,            nan, 1.63700000e+03, 1.08520000e+04,\n",
       "                  nan, 5.02000000e+02, 4.09000000e+02, 5.71000000e+02,\n",
       "       5.49480000e+04,            nan, 1.53200000e+03,            nan,\n",
       "       5.65750000e+03,            nan, 2.40000000e+01,            nan,\n",
       "       7.42300000e+03,            nan, 7.83300000e+03, 2.58050000e+04,\n",
       "                  nan, 7.79400000e+03, 2.30600000e+04,            nan,\n",
       "       1.55500000e+03, 1.27500000e+03, 4.82000000e+02,            nan,\n",
       "       1.59920000e+04, 4.22000000e+02,            nan,            nan,\n",
       "                  nan, 2.42680000e+04, 3.12350000e+03, 2.87000000e+02,\n",
       "                  nan, 6.57250000e+03,            nan,            nan,\n",
       "       2.24000000e+02,            nan,            nan,            nan,\n",
       "                  nan, 9.32100000e+03, 3.86000000e+02,            nan,\n",
       "                  nan,            nan,            nan,            nan,\n",
       "       6.67250000e+03,            nan, 1.87000000e+03, 4.07800000e+03,\n",
       "       8.00000000e+02, 4.54400000e+03, 7.47510000e+04, 8.17000000e+03,\n",
       "                  nan, 3.75000000e+02,            nan,            nan,\n",
       "                  nan,            nan,            nan,            nan,\n",
       "       1.23900000e+03,            nan, 3.20790000e+04,            nan,\n",
       "                  nan,            nan, 1.21300000e+03,            nan,\n",
       "                  nan,            nan,            nan,            nan,\n",
       "                  nan,            nan,            nan,            nan,\n",
       "                  nan,            nan,            nan,            nan,\n",
       "       4.10000000e+01,            nan,            nan,            nan,\n",
       "                  nan,            nan,            nan, 9.83500000e+03,\n",
       "                  nan,            nan,            nan, 1.89000000e+02,\n",
       "                  nan,            nan,            nan,            nan,\n",
       "                  nan,            nan,            nan,            nan,\n",
       "                  nan,            nan,            nan,            nan,\n",
       "                  nan, 1.98600000e+03,            nan,            nan,\n",
       "                  nan,            nan,            nan,            nan,\n",
       "                  nan,            nan,            nan])"
      ]
     },
     "execution_count": 316,
     "metadata": {},
     "output_type": "execute_result"
    }
   ],
   "source": [
    "anotherLength=np.zeros(251,1000)\n",
    "anotherLength=lengths\n",
    "for i in range(251):\n",
    "    anotherLength[i,0]-=1\n",
    "print(anotherLength)\n",
    "np.true_divide(anotherLength.sum(1),(anotherLength!=0).sum(1))"
   ]
  },
  {
   "cell_type": "code",
   "execution_count": null,
   "metadata": {},
   "outputs": [],
   "source": [
    "print('1')"
   ]
  },
  {
   "cell_type": "code",
   "execution_count": 1,
   "metadata": {},
   "outputs": [
    {
     "ename": "ImportError",
     "evalue": "No module named 'progress'",
     "output_type": "error",
     "traceback": [
      "\u001b[0;31m---------------------------------------------------------------------------\u001b[0m",
      "\u001b[0;31mImportError\u001b[0m                               Traceback (most recent call last)",
      "\u001b[0;32m<ipython-input-1-4f1e9011eecc>\u001b[0m in \u001b[0;36m<module>\u001b[0;34m()\u001b[0m\n\u001b[0;32m----> 1\u001b[0;31m \u001b[0;32mfrom\u001b[0m \u001b[0mprogress\u001b[0m\u001b[0;34m.\u001b[0m\u001b[0mbar\u001b[0m \u001b[0;32mimport\u001b[0m \u001b[0mBar\u001b[0m\u001b[0;34m\u001b[0m\u001b[0m\n\u001b[0m",
      "\u001b[0;31mImportError\u001b[0m: No module named 'progress'"
     ]
    }
   ],
   "source": [
    "from progress.bar import Bar"
   ]
  },
  {
   "cell_type": "code",
   "execution_count": 2,
   "metadata": {},
   "outputs": [],
   "source": [
    "from tqdm import tqdm"
   ]
  },
  {
   "cell_type": "code",
   "execution_count": 11,
   "metadata": {},
   "outputs": [
    {
     "ename": "AttributeError",
     "evalue": "'dict' object has no attribute 'shape'",
     "output_type": "error",
     "traceback": [
      "\u001b[0;31m---------------------------------------------------------------------------\u001b[0m",
      "\u001b[0;31mAttributeError\u001b[0m                            Traceback (most recent call last)",
      "\u001b[0;32m<ipython-input-11-ae0f1a36ac65>\u001b[0m in \u001b[0;36m<module>\u001b[0;34m()\u001b[0m\n\u001b[0;32m----> 1\u001b[0;31m \u001b[0mlanguage\u001b[0m\u001b[0;34m.\u001b[0m\u001b[0mshape\u001b[0m\u001b[0;34m\u001b[0m\u001b[0m\n\u001b[0m",
      "\u001b[0;31mAttributeError\u001b[0m: 'dict' object has no attribute 'shape'"
     ]
    }
   ],
   "source": [
    "language.shape"
   ]
  },
  {
   "cell_type": "code",
   "execution_count": 30,
   "metadata": {},
   "outputs": [
    {
     "data": {
      "text/plain": [
       "dict"
      ]
     },
     "execution_count": 30,
     "metadata": {},
     "output_type": "execute_result"
    }
   ],
   "source": [
    "type(language)"
   ]
  },
  {
   "cell_type": "code",
   "execution_count": 28,
   "metadata": {},
   "outputs": [],
   "source": [
    "number.dump('./data/languagenumber')"
   ]
  },
  {
   "cell_type": "code",
   "execution_count": 24,
   "metadata": {},
   "outputs": [],
   "source": [
    "test=np.load('./data/languageName')"
   ]
  },
  {
   "cell_type": "code",
   "execution_count": 29,
   "metadata": {},
   "outputs": [],
   "source": [
    "LangCount.dump('./data/WordsLanguageCounts')"
   ]
  },
  {
   "cell_type": "code",
   "execution_count": 37,
   "metadata": {},
   "outputs": [
    {
     "data": {
      "text/plain": [
       "0"
      ]
     },
     "execution_count": 37,
     "metadata": {},
     "output_type": "execute_result"
    }
   ],
   "source": [
    "list(name).index('en')\n"
   ]
  },
  {
   "cell_type": "code",
   "execution_count": 4,
   "metadata": {},
   "outputs": [],
   "source": [
    "counts=np.load('./data/WordsLanguageCounts')"
   ]
  },
  {
   "cell_type": "code",
   "execution_count": 5,
   "metadata": {},
   "outputs": [
    {
     "data": {
      "text/plain": [
       "(9999,)"
      ]
     },
     "execution_count": 5,
     "metadata": {},
     "output_type": "execute_result"
    }
   ],
   "source": [
    "counts.shape"
   ]
  },
  {
   "cell_type": "code",
   "execution_count": 6,
   "metadata": {},
   "outputs": [
    {
     "data": {
      "text/plain": [
       "array([198., 111.,  32., ...,   0.,   4.,  11.])"
      ]
     },
     "execution_count": 6,
     "metadata": {},
     "output_type": "execute_result"
    }
   ],
   "source": [
    "counts"
   ]
  },
  {
   "cell_type": "code",
   "execution_count": 13,
   "metadata": {},
   "outputs": [],
   "source": [
    "lengths.dump('./data/LanLengths')"
   ]
  },
  {
   "cell_type": "code",
   "execution_count": 4,
   "metadata": {},
   "outputs": [
    {
     "ename": "NameError",
     "evalue": "name 'np' is not defined",
     "output_type": "error",
     "traceback": [
      "\u001b[0;31m---------------------------------------------------------------------------\u001b[0m",
      "\u001b[0;31mNameError\u001b[0m                                 Traceback (most recent call last)",
      "\u001b[0;32m<ipython-input-4-176068be4e1a>\u001b[0m in \u001b[0;36m<module>\u001b[0;34m()\u001b[0m\n\u001b[0;32m----> 1\u001b[0;31m \u001b[0mlengths\u001b[0m\u001b[0;34m=\u001b[0m\u001b[0mnp\u001b[0m\u001b[0;34m.\u001b[0m\u001b[0mload\u001b[0m\u001b[0;34m(\u001b[0m\u001b[0;34m'./data/LanLengths'\u001b[0m\u001b[0;34m)\u001b[0m\u001b[0;34m\u001b[0m\u001b[0m\n\u001b[0m",
      "\u001b[0;31mNameError\u001b[0m: name 'np' is not defined"
     ]
    }
   ],
   "source": [
    "lengths=np.load('./data/LanLengths')"
   ]
  },
  {
   "cell_type": "code",
   "execution_count": 2,
   "metadata": {},
   "outputs": [],
   "source": [
    "language=np.load('./data/WordsLanguageCounts')"
   ]
  },
  {
   "cell_type": "code",
   "execution_count": 5,
   "metadata": {},
   "outputs": [
    {
     "data": {
      "text/plain": [
       "(9999,)"
      ]
     },
     "execution_count": 5,
     "metadata": {},
     "output_type": "execute_result"
    }
   ],
   "source": [
    "language.shape"
   ]
  },
  {
   "cell_type": "code",
   "execution_count": 6,
   "metadata": {},
   "outputs": [],
   "source": [
    "hotwords=pandas.read_csv('./data/revisions/hot_10000.csv',sep='\t')"
   ]
  },
  {
   "cell_type": "code",
   "execution_count": 8,
   "metadata": {},
   "outputs": [],
   "source": []
  },
  {
   "cell_type": "code",
   "execution_count": 22,
   "metadata": {},
   "outputs": [],
   "source": []
  },
  {
   "cell_type": "code",
   "execution_count": 24,
   "metadata": {},
   "outputs": [
    {
     "data": {
      "text/plain": [
       "61565.0"
      ]
     },
     "execution_count": 24,
     "metadata": {},
     "output_type": "execute_result"
    }
   ],
   "source": [
    "access[1]"
   ]
  },
  {
   "cell_type": "code",
   "execution_count": null,
   "metadata": {},
   "outputs": [],
   "source": [
    "print('1')"
   ]
  },
  {
   "cell_type": "code",
   "execution_count": 4,
   "metadata": {},
   "outputs": [],
   "source": [
    "language=np.load('./data/WordsLanguageCounts')"
   ]
  },
  {
   "cell_type": "code",
   "execution_count": 5,
   "metadata": {},
   "outputs": [
    {
     "data": {
      "text/plain": [
       "(9999,)"
      ]
     },
     "execution_count": 5,
     "metadata": {},
     "output_type": "execute_result"
    }
   ],
   "source": [
    "language.shape"
   ]
  },
  {
   "cell_type": "code",
   "execution_count": 8,
   "metadata": {},
   "outputs": [],
   "source": [
    "list=[1.0,2,3,4]"
   ]
  },
  {
   "cell_type": "code",
   "execution_count": 10,
   "metadata": {},
   "outputs": [
    {
     "ename": "TypeError",
     "evalue": "int() argument must be a string, a bytes-like object or a number, not 'list'",
     "output_type": "error",
     "traceback": [
      "\u001b[0;31m---------------------------------------------------------------------------\u001b[0m",
      "\u001b[0;31mTypeError\u001b[0m                                 Traceback (most recent call last)",
      "\u001b[0;32m<ipython-input-10-66c0276b75cb>\u001b[0m in \u001b[0;36m<module>\u001b[0;34m()\u001b[0m\n\u001b[0;32m----> 1\u001b[0;31m \u001b[0mint\u001b[0m\u001b[0;34m(\u001b[0m\u001b[0mlist\u001b[0m\u001b[0;34m)\u001b[0m\u001b[0;34m\u001b[0m\u001b[0m\n\u001b[0m",
      "\u001b[0;31mTypeError\u001b[0m: int() argument must be a string, a bytes-like object or a number, not 'list'"
     ]
    }
   ],
   "source": [
    "int(list)"
   ]
  },
  {
   "cell_type": "code",
   "execution_count": null,
   "metadata": {},
   "outputs": [],
   "source": []
  }
 ],
 "metadata": {
  "kernelspec": {
   "display_name": "Python 3",
   "language": "python",
   "name": "python3"
  },
  "language_info": {
   "codemirror_mode": {
    "name": "ipython",
    "version": 3
   },
   "file_extension": ".py",
   "mimetype": "text/x-python",
   "name": "python",
   "nbconvert_exporter": "python",
   "pygments_lexer": "ipython3",
   "version": "3.5.2"
  }
 },
 "nbformat": 4,
 "nbformat_minor": 2
}
