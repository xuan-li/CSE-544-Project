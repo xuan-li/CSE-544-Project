{
 "cells": [
  {
   "cell_type": "markdown",
   "metadata": {},
   "source": [
    "# Dataset\n",
    "The data starts from timestamp = 1190146243 to timestamp = 1192994591.\n",
    "The url are all stored in ```data/only_lemma``` folder.\n",
    "\n",
    "#### Useful Commands\n",
    "```os.listdir(dirpath)```: List all file names in a given dir path."
   ]
  },
  {
   "cell_type": "code",
   "execution_count": 2,
   "metadata": {
    "scrolled": false
   },
   "outputs": [
    {
     "name": "stdout",
     "output_type": "stream",
     "text": [
      "The data starts from 2007-09-18 20:10:43 to 2007-10-21 19:23:11\n"
     ]
    }
   ],
   "source": [
    "import datetime\n",
    "\n",
    "def timestamp_to_datestring(timestamp):\n",
    "    datestring = datetime.datetime.fromtimestamp(timestamp).strftime('%Y-%m-%d %H:%M:%S')\n",
    "    return datestring\n",
    "\n",
    "print(\"The data starts from {} to {}\".format(timestamp_to_datestring(1190146243), timestamp_to_datestring(1192994591)))"
   ]
  },
  {
   "cell_type": "markdown",
   "metadata": {},
   "source": [
    "# Wiki API\n",
    "\n",
    "### Python wrapper: mwclient\n",
    "http://mwclient.readthedocs.io/en/latest/index.html\n",
    "\n",
    "### Document of Wiki API\n",
    "https://www.mediawiki.org/wiki/API:Main_page"
   ]
  },
  {
   "cell_type": "markdown",
   "metadata": {},
   "source": [
    "# Multi-thread"
   ]
  },
  {
   "cell_type": "code",
   "execution_count": 9,
   "metadata": {},
   "outputs": [
    {
     "name": "stdout",
     "output_type": "stream",
     "text": [
      "[0, 1, 2, 3, 0, 1, 2, 3, 1, 2, 3, 0, 1, 3, 2, 0, 1, 3, 0, 1, 2, 3, 0, 2, 3, 1, 0, 3, 2, 1, 2, 3, 0, 2, 3, 1, 1, 0, 4, 2, 0, 4, 5, 6, 5, 6, 4, 7, 6, 5, 4, 7, 5, 4, 6, 5, 4, 6, 5, 7, 4, 4, 5, 5, 4, 7, 5, 4, 6, 5, 7, 6, 8, 6, 8, 7, 9, 6, 7, 8, 9, 6, 7, 8, 9, 7, 8, 9, 7, 8, 9, 8, 9, 9, 8, 9, 8, 9, 8, 9]\n"
     ]
    }
   ],
   "source": [
    "import threading\n",
    "import time\n",
    "result = []\n",
    "\n",
    "def target(index, flags, result, i):\n",
    "    for j in range(10):\n",
    "        result.append(i)\n",
    "        time.sleep(0.01)\n",
    "    flags[index]= True\n",
    "    \n",
    "nworkers = 4\n",
    "flags = [True] * nworkers\n",
    "threads = [None] * nworkers\n",
    "\n",
    "index = 0\n",
    "for i in range(10):\n",
    "    while True:\n",
    "        try:\n",
    "            index = flags.index(True)\n",
    "            flags[index] = False\n",
    "            break\n",
    "        except:\n",
    "            continue\n",
    "    t = threading.Thread(target = target, args = [index, flags, result, i])\n",
    "    threads[index] = t\n",
    "    t.start()\n",
    "    \n",
    "# wait until all threads finish\n",
    "for thread in threads:\n",
    "    if thread:\n",
    "        thread.join()\n",
    "    \n",
    "print(result)\n",
    "        \n"
   ]
  },
  {
   "cell_type": "markdown",
   "metadata": {},
   "source": [
    "# Dump Data Structure"
   ]
  },
  {
   "cell_type": "code",
   "execution_count": null,
   "metadata": {},
   "outputs": [],
   "source": [
    "import pickle\n",
    "\n",
    "def dump_data(data, output_name):\n",
    "    with open(output_name, 'wb') as f:\n",
    "        pickle.dump(data, f)\n",
    "\n",
    "def load_data(input_name):\n",
    "    with open(input_name, 'rb') as f:\n",
    "        data = pickle.load(f)\n",
    "    return data"
   ]
  },
  {
   "cell_type": "markdown",
   "metadata": {},
   "source": [
    "# Analysis: Pandas\n",
    "\n",
    "Learn about how to use pandas.Series and pandas.DataFrame\n",
    "\n",
    "https://pandas.pydata.org/pandas-docs/stable/10min.html\n",
    "\n",
    "### Useful commands\n",
    "\n",
    "```pd.read_csv(filename, delimiter=?)```: read csv file into a dataframe"
   ]
  },
  {
   "cell_type": "markdown",
   "metadata": {},
   "source": [
    "# Some tricks"
   ]
  },
  {
   "cell_type": "markdown",
   "metadata": {},
   "source": [
    "### Fartest way to check whether some element exists in a list\n",
    "\n",
    "https://stackoverflow.com/questions/7571635/fastest-way-to-check-if-a-value-exist-in-a-list\n",
    "\n",
    "Construct a ```set``` object and use ```in``` command"
   ]
  },
  {
   "cell_type": "code",
   "execution_count": null,
   "metadata": {},
   "outputs": [],
   "source": []
  }
 ],
 "metadata": {
  "kernelspec": {
   "display_name": "Python 3",
   "language": "python",
   "name": "python3"
  },
  "language_info": {
   "codemirror_mode": {
    "name": "ipython",
    "version": 3
   },
   "file_extension": ".py",
   "mimetype": "text/x-python",
   "name": "python",
   "nbconvert_exporter": "python",
   "pygments_lexer": "ipython3",
   "version": "3.5.2"
  }
 },
 "nbformat": 4,
 "nbformat_minor": 2
}
